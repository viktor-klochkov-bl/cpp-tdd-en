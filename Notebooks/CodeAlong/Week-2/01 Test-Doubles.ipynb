{
 "cells": [
  {
   "cell_type": "markdown",
   "id": "5942285ab7463123",
   "metadata": {
    "lang": "en",
    "lines_to_next_cell": 2,
    "slideshow": {
     "slide_type": "slide"
    },
    "tags": [
     "slide"
    ]
   },
   "source": [
    "\n",
    "<img src=\"data:image/png;base64,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\"\n",
    "     style=\"display:block;margin:auto;width:5%\"/>\n",
    "<br>\n",
    "\n",
    "<div style=\"text-align:center; font-size:200%;\">\n",
    "  <b>Test-Doubles</b>\n",
    "</div>\n",
    "<br/>\n",
    "<div style=\"text-align:center; font-size:120%;\">Dr. Matthias Hölzl</div>\n",
    "<br/>\n",
    "<div style=\"text-align:center;\">Coding-Academy Munich</div>\n",
    "<br/>\n",
    "<!-- 01 Test-Doubles.ipynb -->\n",
    "<!-- slides/module_410_unit_testing/topic_162_test_doubles.cpp -->"
   ]
  },
  {
   "cell_type": "markdown",
   "id": "ab92b1a8eb3ecdd9",
   "metadata": {
    "lang": "en",
    "slideshow": {
     "slide_type": "subslide"
    },
    "tags": [
     "subslide"
    ]
   },
   "source": [
    "\n",
    "## Test Doubles\n",
    "\n",
    "- Simplified version of a dependency in the system\n",
    "  - e.g. replace a database query with a fixed value\n",
    "- Test Doubles are important for simplifying tests\n",
    "- They typically require an interface that they implement\n",
    "- But: too many or complex test doubles make tests confusing\n",
    "  - What is actually being tested by a test?"
   ]
  },
  {
   "cell_type": "markdown",
   "id": "52508f848afe6f94",
   "metadata": {
    "lang": "en",
    "slideshow": {
     "slide_type": "subslide"
    },
    "tags": [
     "subslide"
    ]
   },
   "source": [
    "\n",
    "## Types of Test Doubles\n",
    "\n",
    "- Outgoing dependencies (\"Mocks\")\n",
    "  - Mocks\n",
    "  - Spies\n",
    "- Incoming dependencies (\"Stubs\")\n",
    "  - Dummies\n",
    "  - Stubs\n",
    "  - Fakes"
   ]
  },
  {
   "cell_type": "markdown",
   "id": "e52430ff45cdc192",
   "metadata": {
    "lang": "en",
    "slideshow": {
     "slide_type": "subslide"
    },
    "tags": [
     "subslide"
    ]
   },
   "source": [
    "\n",
    "## Dummy\n",
    "\n",
    "- Object that only serves as a placeholder\n",
    "- Passed, but not used\n",
    "- In C++ sometimes `nullptr`\n",
    "- Also for outgoing dependencies"
   ]
  },
  {
   "cell_type": "markdown",
   "id": "398130b0b0b88739",
   "metadata": {
    "lang": "en",
    "slideshow": {
     "slide_type": "subslide"
    },
    "tags": [
     "subslide"
    ]
   },
   "source": [
    "\n",
    "## Stub\n",
    "\n",
    "- Object that provides a minimal implementation of a dependency\n",
    "- Typically always returns the same value\n",
    "- Used to\n",
    "  - replace complex dependencies\n",
    "  - make tests deterministic"
   ]
  },
  {
   "cell_type": "markdown",
   "id": "ec04b9740c535e09",
   "metadata": {
    "lang": "en",
    "slideshow": {
     "slide_type": "subslide"
    },
    "tags": [
     "subslide"
    ]
   },
   "source": [
    "\n",
    "## Fake\n",
    "\n",
    "- Object that provides a simpler implementation of a dependency\n",
    "- Can be e.g. an in-memory database\n",
    "- Used to\n",
    "  - speed up tests\n",
    "  - simplify test configuration"
   ]
  },
  {
   "cell_type": "markdown",
   "id": "9f6f456a26b7b5c8",
   "metadata": {
    "lang": "en",
    "slideshow": {
     "slide_type": "subslide"
    },
    "tags": [
     "subslide"
    ]
   },
   "source": [
    "\n",
    "## Spy\n",
    "\n",
    "- Object that stores information about the interaction with it\n",
    "- Used to\n",
    "  - check if a dependency is used correctly"
   ]
  },
  {
   "cell_type": "markdown",
   "id": "2988793850040c24",
   "metadata": {
    "lang": "en",
    "lines_to_next_cell": 0,
    "slideshow": {
     "slide_type": "subslide"
    },
    "tags": [
     "subslide"
    ]
   },
   "source": [
    "\n",
    "## Mock\n",
    "\n",
    "- Object that stores information about the expected interaction\n",
    "- Typically declaratively configurable\n",
    "- Automated implementation of spies\n",
    "- Used to\n",
    "  - check if a dependency is used correctly"
   ]
  },
  {
   "cell_type": "markdown",
   "id": "98da575680a292bc",
   "metadata": {
    "lang": "en",
    "slideshow": {
     "slide_type": "subslide"
    },
    "tags": [
     "subslide"
    ]
   },
   "source": [
    "## Example: E-Commerce System\n",
    "\n",
    "We want to add an item to a shopping cart.\n",
    "\n",
    "- The `CartManager` is the class to be tested (System Under Test).\n",
    "- It uses a `ProductPriceProvider` to get the price of an item (incoming dependency).\n",
    "- It uses a `ShoppingCart` to add the item (outgoing dependency).\n",
    "\n",
    "First, we define the interfaces for our dependencies:"
   ]
  },
  {
   "cell_type": "code",
   "execution_count": null,
   "id": "2003c3ec3b1f80dd",
   "metadata": {
    "slideshow": {
     "slide_type": "subslide"
    },
    "tags": [
     "keep",
     "subslide"
    ]
   },
   "outputs": [],
   "source": [
    "class ProductPriceProvider\n",
    "{\n",
    "public:\n",
    "    virtual ~ProductPriceProvider() = default;\n",
    "    virtual double get_price(const std::string& product_id) = 0;\n",
    "};"
   ]
  },
  {
   "cell_type": "code",
   "execution_count": null,
   "id": "fea4e8414d1fffb0",
   "metadata": {
    "tags": [
     "keep"
    ]
   },
   "outputs": [],
   "source": [
    "class ShoppingCart\n",
    "{\n",
    "public:\n",
    "    virtual ~ShoppingCart() = default;\n",
    "    virtual void add_item(const std::string& product_id, double price) = 0;\n",
    "};"
   ]
  },
  {
   "cell_type": "markdown",
   "id": "8333ef1f4af38433",
   "metadata": {
    "lang": "en",
    "slideshow": {
     "slide_type": "subslide"
    },
    "tags": [
     "subslide"
    ]
   },
   "source": [
    "\n",
    "## The Class Under Test: `CartManager`\n",
    "\n",
    "The `CartManager` gets the price and adds the item to the cart."
   ]
  },
  {
   "cell_type": "code",
   "execution_count": null,
   "id": "2a1c67608c631c7e",
   "metadata": {
    "tags": [
     "keep"
    ]
   },
   "outputs": [],
   "source": [
    "struct CartManager\n",
    "{\n",
    "    ProductPriceProvider& price_provider;\n",
    "    ShoppingCart& cart;\n",
    "\n",
    "    void add_to_cart(const std::string& product_id)\n",
    "    {\n",
    "        double price{price_provider.get_price(product_id)};\n",
    "        cart.add_item(product_id, price);\n",
    "    }\n",
    "};"
   ]
  },
  {
   "cell_type": "markdown",
   "id": "a9d0d54e2123441e",
   "metadata": {
    "lang": "en",
    "slideshow": {
     "slide_type": "subslide"
    },
    "tags": [
     "subslide"
    ]
   },
   "source": [
    "\n",
    "## The Test Doubles: Stub and Spy\n",
    "\n",
    "- For the `ProductPriceProvider` we use a **Stub** that returns a fixed\n",
    "  price.\n",
    "- For the `ShoppingCart` we use a **Spy** that records which items were\n",
    "  added."
   ]
  },
  {
   "cell_type": "code",
   "execution_count": null,
   "id": "b4e521d480fe0014",
   "metadata": {
    "slideshow": {
     "slide_type": "subslide"
    },
    "tags": [
     "subslide"
    ]
   },
   "outputs": [],
   "source": []
  },
  {
   "cell_type": "code",
   "execution_count": null,
   "id": "5ff3b89e7169cd03",
   "metadata": {
    "slideshow": {
     "slide_type": "subslide"
    },
    "tags": [
     "subslide"
    ]
   },
   "outputs": [],
   "source": []
  },
  {
   "cell_type": "markdown",
   "id": "1c3ad81365c4c0a7",
   "metadata": {
    "lang": "en",
    "slideshow": {
     "slide_type": "subslide"
    },
    "tags": [
     "subslide"
    ]
   },
   "source": [
    "\n",
    "In the test, we verify that the `CartManager` used the `ShoppingCart`\n",
    "correctly."
   ]
  },
  {
   "cell_type": "code",
   "execution_count": null,
   "id": "9f33a6f70b5e99b3",
   "metadata": {
    "tags": [
     "keep"
    ]
   },
   "outputs": [],
   "source": [
    "#include \"check.h\"\n",
    "#include <string>\n",
    "#include <vector>"
   ]
  },
  {
   "cell_type": "code",
   "execution_count": null,
   "id": "b835c9653550d015",
   "metadata": {},
   "outputs": [],
   "source": []
  },
  {
   "cell_type": "code",
   "execution_count": null,
   "id": "a0d69f002fdbe0f3",
   "metadata": {},
   "outputs": [],
   "source": []
  },
  {
   "cell_type": "markdown",
   "id": "ab620fe271846612",
   "metadata": {
    "lang": "en",
    "slideshow": {
     "slide_type": "subslide"
    },
    "tags": [
     "subslide"
    ]
   },
   "source": [
    "\n",
    "## Typical use of test doubles:\n",
    "\n",
    "- database access, file system access\n",
    "- time, random values\n",
    "- non-determinism\n",
    "- hidden state"
   ]
  },
  {
   "cell_type": "markdown",
   "id": "ea91617e7528e1a2",
   "metadata": {
    "lang": "en",
    "slideshow": {
     "slide_type": "subslide"
    },
    "tags": [
     "subslide"
    ]
   },
   "source": [
    "\n",
    "## Workshop: Testing a Spacecraft Controller\n",
    "\n",
    "Your task is to implement a test suite for a `SpacecraftCommandController`.\n",
    "This class sends commands to a spacecraft. Its responsibilities are:\n",
    "\n",
    "- Mission safety is paramount: Check the system status (`TelemetrySystem`)\n",
    "  before executing commands.\n",
    "- Execute maneuvers with the thrusters (`ThrusterControl`).\n",
    "- Notify ground control about command status (`GroundControlLink`).\n",
    "\n",
    "**Note:** A starter kit is available in\n",
    "`code/starter_kits/spacecraft_controller_sk`."
   ]
  },
  {
   "cell_type": "markdown",
   "id": "5d6be89d7e90297d",
   "metadata": {
    "lang": "en",
    "slideshow": {
     "slide_type": "subslide"
    },
    "tags": [
     "subslide"
    ]
   },
   "source": [
    "First, the interfaces for the spacecraft's subsystems:"
   ]
  },
  {
   "cell_type": "code",
   "execution_count": null,
   "id": "b403b2f3378bba10",
   "metadata": {
    "tags": [
     "keep"
    ]
   },
   "outputs": [],
   "source": [
    "#include <string>\n",
    "#include <vector>"
   ]
  },
  {
   "cell_type": "code",
   "execution_count": null,
   "id": "daccc59d810944b2",
   "metadata": {
    "tags": [
     "keep"
    ]
   },
   "outputs": [],
   "source": [
    "enum class SubSystem { Core, Thrusters, ScienceBay };"
   ]
  },
  {
   "cell_type": "code",
   "execution_count": null,
   "id": "cdaebfdcfc3e42fe",
   "metadata": {
    "tags": [
     "keep"
    ]
   },
   "outputs": [],
   "source": [
    "class TelemetrySystem {\n",
    "public:\n",
    "    virtual ~TelemetrySystem() = default;\n",
    "    virtual int get_power_level_percent(SubSystem system) = 0;\n",
    "};"
   ]
  },
  {
   "cell_type": "code",
   "execution_count": null,
   "id": "b68525005a3705c0",
   "metadata": {
    "slideshow": {
     "slide_type": "subslide"
    },
    "tags": [
     "keep",
     "subslide"
    ]
   },
   "outputs": [],
   "source": [
    "class ThrusterControl {\n",
    "public:\n",
    "    virtual ~ThrusterControl() = default;\n",
    "    virtual void fire_thrusters(int duration_ms) = 0;\n",
    "};"
   ]
  },
  {
   "cell_type": "code",
   "execution_count": null,
   "id": "18e91f76715311f3",
   "metadata": {
    "lines_to_next_cell": 2,
    "tags": [
     "keep"
    ]
   },
   "outputs": [],
   "source": [
    "class GroundControlLink {\n",
    "public:\n",
    "    virtual ~GroundControlLink() = default;\n",
    "    virtual void send_status_report(const std::string& report) = 0;\n",
    "};"
   ]
  },
  {
   "cell_type": "markdown",
   "id": "51fda4919abe0b28",
   "metadata": {
    "lang": "en",
    "slideshow": {
     "slide_type": "subslide"
    },
    "tags": [
     "subslide"
    ]
   },
   "source": [
    "The class under test: `SpacecraftCommandController`."
   ]
  },
  {
   "cell_type": "code",
   "execution_count": null,
   "id": "4bdd3d5c7421aaf8",
   "metadata": {
    "tags": [
     "keep"
    ]
   },
   "outputs": [],
   "source": [
    "class SpacecraftCommandController {\n",
    "private:\n",
    "    TelemetrySystem& telemetry;\n",
    "    ThrusterControl& thrusters;\n",
    "    GroundControlLink& ground_control;\n",
    "\n",
    "public:\n",
    "    SpacecraftCommandController(TelemetrySystem& tel, ThrusterControl& thr, GroundControlLink& gc)\n",
    "        : telemetry{tel}, thrusters{thr}, ground_control{gc} {}\n",
    "\n",
    "    void execute_burn_maneuver(int duration_ms) {\n",
    "        int power_level{telemetry.get_power_level_percent(SubSystem::Thrusters)};\n",
    "        if (power_level < 50) {\n",
    "            ground_control.send_status_report(\"ERROR: Thruster power too low for maneuver.\");\n",
    "            return;\n",
    "        }\n",
    "\n",
    "        thrusters.fire_thrusters(duration_ms);\n",
    "        ground_control.send_status_report(\"SUCCESS: Maneuver executed.\");\n",
    "    }\n",
    "};"
   ]
  },
  {
   "cell_type": "markdown",
   "id": "10a47482cd27aa8c",
   "metadata": {
    "lang": "en",
    "slideshow": {
     "slide_type": "subslide"
    },
    "tags": [
     "subslide"
    ]
   },
   "source": [
    "\n",
    "## Your Task\n",
    "\n",
    "Write tests for the following scenarios. Implement the necessary test\n",
    "doubles.\n",
    "\n",
    "1.  **Successful Maneuver:** The thruster system has sufficient power (>50%).\n",
    "    Verify that the `fire_thrusters` command is sent and a success report is\n",
    "    sent to ground control.\n",
    "2.  **Maneuver Aborted (Low Power):** The thruster system has insufficient\n",
    "    power (<50%). Verify that the thrusters are **not** fired and an error\n",
    "    report is sent to ground control."
   ]
  }
 ],
 "metadata": {
  "kernelspec": {
   "display_name": "C++17",
   "language": "C++17",
   "name": "xcpp17"
  },
  "language_info": {
   "codemirror_mode": "text/x-c++src",
   "file_extension": ".cpp",
   "mimetype": "text/x-c++src",
   "name": "c++",
   "version": "17"
  }
 },
 "nbformat": 4,
 "nbformat_minor": 5
}
