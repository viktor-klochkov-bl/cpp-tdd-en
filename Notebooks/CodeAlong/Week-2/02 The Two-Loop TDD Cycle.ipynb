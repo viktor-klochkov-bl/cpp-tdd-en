{
 "cells": [
  {
   "cell_type": "markdown",
   "id": "2f8f29ce6801642e",
   "metadata": {
    "lang": "en",
    "lines_to_next_cell": 2,
    "slideshow": {
     "slide_type": "slide"
    },
    "tags": [
     "slide"
    ]
   },
   "source": [
    "\n",
    "<img src=\"data:image/png;base64,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\"\n",
    "     style=\"display:block;margin:auto;width:5%\"/>\n",
    "<br>\n",
    "\n",
    "<div style=\"text-align:center; font-size:200%;\">\n",
    "  <b>The Two-Loop TDD Cycle</b>\n",
    "</div>\n",
    "<br/>\n",
    "<div style=\"text-align:center; font-size:120%;\">Dr. Matthias Hölzl</div>\n",
    "<br/>\n",
    "<div style=\"text-align:center;\">Coding-Academy Munich</div>\n",
    "<br/>\n",
    "<!-- 02 The Two-Loop TDD Cycle.ipynb -->\n",
    "<!-- slides/module_410_unit_testing/topic_158_two_loop_cycle.cpp -->"
   ]
  },
  {
   "cell_type": "markdown",
   "id": "ef16bdcdb594e361",
   "metadata": {
    "lang": "en",
    "slideshow": {
     "slide_type": "subslide"
    },
    "tags": [
     "subslide"
    ]
   },
   "source": [
    "## Beyond Red-Green-Refactor\n",
    "\n",
    "- The classic TDD cycle is **tactical**, not **strategic**.\n",
    "- It doesn't answer:\n",
    "  - What feature should be built next?\n",
    "  - How does the current work fit into the big picture?\n",
    "- Without a guiding context, we can get lost in details that deliver no\n",
    "  business value (\"gold plating\")."
   ]
  },
  {
   "cell_type": "markdown",
   "id": "f081747bd1871378",
   "metadata": {
    "lang": "en",
    "slideshow": {
     "slide_type": "slide"
    },
    "tags": [
     "slide"
    ]
   },
   "source": [
    "## The Two-Loop Model (Outside-In TDD)\n",
    "\n",
    "<img src=\"img/double-loop.png\" alt=\"Double Loop TDD\" style=\"width: 70%;\n",
    "  display: block; margin-left: auto; margin-right: auto;\"/>\n",
    "\n",
    "- **Outer Loop (Acceptance Tests):** Defines a feature from the user's\n",
    "  perspective.\n",
    "- **Inner Loop (Unit Tests):** Implements the functionality to satisfy the\n",
    "  acceptance test."
   ]
  },
  {
   "cell_type": "markdown",
   "id": "7973fcf10f16c178",
   "metadata": {
    "lang": "en",
    "slideshow": {
     "slide_type": "subslide"
    },
    "tags": [
     "subslide"
    ]
   },
   "source": [
    "### The Outer Loop: Strategic Guidance\n",
    "\n",
    "1.  **Write an Acceptance Test:** Formulate a test describing the business or\n",
    "    user goal.\n",
    "    - This test is an \"executable specification\".\n",
    "    - It will fail because the functionality doesn't exist yet.\n",
    "    - Forces design decisions about the external interface (e.g., API\n",
    "      endpoint) from the start.\n",
    "\n",
    "2.  **Use BDD/ATDD:**\n",
    "    - **ATDD (Acceptance Test-Driven Development):** Collaborative definition\n",
    "      of acceptance criteria with the business.\n",
    "    - **BDD (Behavior-Driven Development):** Use of a structured language\n",
    "      (e.g., Gherkin) for tests to foster shared understanding."
   ]
  },
  {
   "cell_type": "markdown",
   "id": "9f33083262bae2f3",
   "metadata": {
    "lang": "en",
    "slideshow": {
     "slide_type": "slide"
    },
    "tags": [
     "slide"
    ]
   },
   "source": [
    "### The Inner Loop: Tactical Implementation\n",
    "\n",
    "1.  **Analyze the Failure:** The acceptance test's failure message dictates\n",
    "    the goal for the first unit test.\n",
    "    - *Acceptance test fails*: `HTTP 404 Not Found for POST /cart`\n",
    "    - *Next Step*: Write a unit test for a `CartController`.\n",
    "\n",
    "2.  **Red-Green-Refactor Cascade:**\n",
    "    - Write a failing unit test for the `CartController`.\n",
    "    - Write minimal code to make it pass (e.g., create the controller and\n",
    "      endpoint).\n",
    "    - The acceptance test now fails because the controller calls a\n",
    "      `CartService` that doesn't exist.\n",
    "    - This new failure prompts the next unit test for the `CartService`.\n",
    "\n",
    "3.  **Repeat:** This process continues, driving development from the system's\n",
    "    boundary inward."
   ]
  },
  {
   "cell_type": "markdown",
   "id": "39896a690d71db94",
   "metadata": {
    "lang": "en",
    "slideshow": {
     "slide_type": "slide"
    },
    "tags": [
     "slide"
    ]
   },
   "source": [
    "## Workshop: A To-Do List Application\n",
    "\n",
    "**Goal:** We will build a simple in-memory to-do list application using the\n",
    "two-loop approach.\n",
    "\n",
    "**Features:**\n",
    "1. Add a task to a list.\n",
    "2. View all tasks in the list.\n",
    "3. Mark a task as completed."
   ]
  },
  {
   "cell_type": "markdown",
   "id": "5f948d380370fbed",
   "metadata": {
    "lang": "en",
    "slideshow": {
     "slide_type": "subslide"
    },
    "tags": [
     "subslide"
    ]
   },
   "source": [
    "### Step 1: The Outer Loop (Red)\n",
    "\n",
    "First, we write an acceptance test that describes the entire desired\n",
    "behavior. This code will not compile because the `Task` and `TodoList`\n",
    "classes do not exist yet. This is the red state of our outer loop."
   ]
  },
  {
   "cell_type": "code",
   "execution_count": null,
   "id": "980da6b96801ab50",
   "metadata": {
    "tags": [
     "keep"
    ]
   },
   "outputs": [],
   "source": [
    "#include <iostream>\n",
    "#include <string>\n",
    "#include <vector>\n",
    "#include <algorithm>\n",
    "#include \"check.h\""
   ]
  },
  {
   "cell_type": "markdown",
   "id": "fc23db5fb3c318ed",
   "metadata": {
    "lang": "en",
    "slideshow": {
     "slide_type": "subslide"
    },
    "tags": [
     "subslide"
    ]
   },
   "source": [
    "\n",
    "This is our high-level acceptance test.\n",
    "It will not compile until we create the necessary classes and methods."
   ]
  },
  {
   "cell_type": "markdown",
   "id": "14f8e54d1b6c7e74",
   "metadata": {},
   "source": [
    "```cpp\n",
    "void test_full_todo_list_scenario() {\n",
    "    // Arrange\n",
    "    TodoList list;\n",
    "\n",
    "    // Act 1: Add tasks\n",
    "    list.add_task(\"Implement Two-Loop TDD\");\n",
    "    list.add_task(\"Write workshop slides\");\n",
    "\n",
    "    // Assert 1\n",
    "    auto tasks1 = list.get_tasks();\n",
    "    check(tasks1.size() == 2, \"Should have 2 tasks after adding\");\n",
    "    check(tasks1[0].description == \"Implement Two-Loop TDD\", \"First task description is wrong\");\n",
    "    check(tasks1[0].completed == false, \"New task should not be completed\");\n",
    "\n",
    "    // Act 2: Complete a task\n",
    "    list.mark_as_complete(\"Write workshop slides\");\n",
    "\n",
    "    // Assert 2\n",
    "    auto tasks2 = list.get_tasks();\n",
    "    auto completed_task = std::find_if(tasks2.begin(), tasks2.end(), [](const Task& task) {\n",
    "        return task.description == \"Write workshop slides\";\n",
    "    });\n",
    "    check(completed_task != tasks2.end(), \"Completed task should be found\");\n",
    "    check(completed_task->completed == true, \"Task should be marked as complete\");\n",
    "    std::cout << \"Acceptance test passed!\\n\";\n",
    "}\n",
    "```"
   ]
  },
  {
   "cell_type": "markdown",
   "id": "16e2227ba78bef36",
   "metadata": {
    "lang": "en",
    "slideshow": {
     "slide_type": "subslide"
    },
    "tags": [
     "subslide"
    ]
   },
   "source": [
    "### Step 2: The Inner Loop (Red-Green-Refactor)\n",
    "\n",
    "Now, let's focus on the first compilation error. The compiler is likely\n",
    "complaining about `TodoList`. This is our signal to dive into the inner loop.\n",
    "\n",
    "**Your Task:**\n",
    "1.  Write the **very first, smallest unit test** to start the process. A good\n",
    "    start would be a test that checks if a newly created `TodoList` is empty.\n",
    "2.  Create the minimal classes (`Task`, `TodoList`) and methods to make this\n",
    "    first unit test pass.\n",
    "3.  Work your way through the acceptance test's failures. For each missing\n",
    "    piece of functionality (e.g., `add_task`, `mark_as_complete`), write a\n",
    "    new, focused unit test and implement the feature.\n",
    "4.  Rerun the acceptance test after each inner loop cycle to see your\n",
    "    progress."
   ]
  },
  {
   "cell_type": "code",
   "execution_count": null,
   "id": "d53a5c7e98ef4325",
   "metadata": {},
   "outputs": [],
   "source": []
  },
  {
   "cell_type": "code",
   "execution_count": null,
   "id": "320814bb6b6fd9d0",
   "metadata": {},
   "outputs": [],
   "source": []
  },
  {
   "cell_type": "code",
   "execution_count": null,
   "id": "6b4e03423667dbb7",
   "metadata": {},
   "outputs": [],
   "source": []
  }
 ],
 "metadata": {
  "kernelspec": {
   "display_name": "C++17",
   "language": "C++17",
   "name": "xcpp17"
  },
  "language_info": {
   "codemirror_mode": "text/x-c++src",
   "file_extension": ".cpp",
   "mimetype": "text/x-c++src",
   "name": "c++",
   "version": "17"
  }
 },
 "nbformat": 4,
 "nbformat_minor": 5
}
