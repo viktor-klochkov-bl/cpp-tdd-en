{
 "cells": [
  {
   "cell_type": "markdown",
   "id": "de92a8a8b170c298",
   "metadata": {
    "lang": "en",
    "lines_to_next_cell": 2,
    "slideshow": {
     "slide_type": "slide"
    },
    "tags": [
     "slide"
    ]
   },
   "source": [
    "\n",
    "<img src=\"data:image/png;base64,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\"\n",
    "     style=\"display:block;margin:auto;width:5%\"/>\n",
    "<br>\n",
    "\n",
    "<div style=\"text-align:center; font-size:200%;\">\n",
    "  <b>Design Patterns for Testable Code</b>\n",
    "</div>\n",
    "<br/>\n",
    "<div style=\"text-align:center; font-size:120%;\">Dr. Matthias Hölzl</div>\n",
    "<br/>\n",
    "<div style=\"text-align:center;\">Coding-Academy Munich</div>\n",
    "<br/>\n",
    "<!-- 02 Design Patterns for Testable Code.ipynb -->\n",
    "<!-- slides/module_410_unit_testing/topic_210_design_patterns_for_tests.cpp -->"
   ]
  },
  {
   "cell_type": "markdown",
   "id": "244561be29dd7151",
   "metadata": {
    "lang": "en",
    "slideshow": {
     "slide_type": "slide"
    },
    "tags": [
     "slide"
    ]
   },
   "source": [
    "\n",
    "## Seams\n",
    "\n",
    "- Points in the code where we can change behavior for testing without\n",
    "  modifying the code itself.\n",
    "- Important for introducing test doubles.\n",
    "- Examples:\n",
    "  - Virtual functions/interfaces\n",
    "  - Template parameters\n",
    "  - Function pointers\n",
    "  - Functions from dynamic libraries"
   ]
  },
  {
   "cell_type": "markdown",
   "id": "721581fdd588aed0",
   "metadata": {
    "lang": "en",
    "slideshow": {
     "slide_type": "slide"
    },
    "tags": [
     "slide"
    ]
   },
   "source": [
    "\n",
    "## Patterns for Testability\n",
    "\n",
    "- **Dependency Injection (DI)**\n",
    "  - Introduces seams by injecting dependencies from the outside.\n",
    "- **Dependency Inversion Principle (DIP):**\n",
    "  - Allows controlling the direction of dependencies.\n",
    "  - Introduces interfaces that improve testability.\n",
    "- **Humble Object Pattern:**\n",
    "  - Isolates complex, hard-to-test logic from the outside world."
   ]
  },
  {
   "cell_type": "markdown",
   "id": "d06c3ae0ae697792",
   "metadata": {
    "lang": "en",
    "slideshow": {
     "slide_type": "subslide"
    },
    "tags": [
     "subslide"
    ]
   },
   "source": [
    "\n",
    "### Dependency Injection\n",
    "\n",
    "- A class should not create its own dependencies.\n",
    "- Instead, they are \"injected\" from the outside (e.g., via the constructor)."
   ]
  },
  {
   "cell_type": "code",
   "execution_count": null,
   "id": "30262e3a0dd518a5",
   "metadata": {
    "slideshow": {
     "slide_type": "subslide"
    },
    "tags": [
     "keep",
     "subslide"
    ]
   },
   "outputs": [],
   "source": [
    "#include <iostream>\n",
    "#include <memory>"
   ]
  },
  {
   "cell_type": "code",
   "execution_count": null,
   "id": "91aa0eb4d5650551",
   "metadata": {
    "tags": [
     "keep"
    ]
   },
   "outputs": [],
   "source": [
    "class IDependency\n",
    "{\n",
    "public:\n",
    "    virtual ~IDependency() = default;\n",
    "    virtual void perform_work() const = 0;\n",
    "};"
   ]
  },
  {
   "cell_type": "code",
   "execution_count": null,
   "id": "38a244bb2d384f4f",
   "metadata": {
    "tags": [
     "keep"
    ]
   },
   "outputs": [],
   "source": [
    "class Dependency : public IDependency\n",
    "{\n",
    "public:\n",
    "    void perform_work() const override\n",
    "    {\n",
    "        std::cout << \"Performing work in Dependency\" << std::endl;\n",
    "    }\n",
    "};"
   ]
  },
  {
   "cell_type": "code",
   "execution_count": null,
   "id": "7b11c60ee06fdc44",
   "metadata": {
    "slideshow": {
     "slide_type": "subslide"
    },
    "tags": [
     "keep",
     "subslide"
    ]
   },
   "outputs": [],
   "source": [
    "class MyClassWithoutDI\n",
    "{\n",
    "public:\n",
    "    MyClassWithoutDI() : dependency{std::make_unique<Dependency>()} {}\n",
    "\n",
    "    void do_something() const { dependency->perform_work(); }\n",
    "\n",
    "private:\n",
    "    std::unique_ptr<IDependency> dependency;\n",
    "};"
   ]
  },
  {
   "cell_type": "code",
   "execution_count": null,
   "id": "330f546f4ffeffed",
   "metadata": {},
   "outputs": [],
   "source": []
  },
  {
   "cell_type": "code",
   "execution_count": null,
   "id": "63dd0f8706ca7126",
   "metadata": {},
   "outputs": [],
   "source": []
  },
  {
   "cell_type": "code",
   "execution_count": null,
   "id": "dc1b6ed19bd839be",
   "metadata": {
    "slideshow": {
     "slide_type": "subslide"
    },
    "tags": [
     "subslide"
    ]
   },
   "outputs": [],
   "source": []
  },
  {
   "cell_type": "code",
   "execution_count": null,
   "id": "36f677bcd8ef543a",
   "metadata": {},
   "outputs": [],
   "source": []
  },
  {
   "cell_type": "code",
   "execution_count": null,
   "id": "137bc4f9ad2b4ec3",
   "metadata": {},
   "outputs": [],
   "source": []
  },
  {
   "cell_type": "markdown",
   "id": "6f7da05c2abd80bc",
   "metadata": {
    "lang": "en",
    "slideshow": {
     "slide_type": "slide"
    },
    "tags": [
     "slide"
    ]
   },
   "source": [
    "\n",
    "# Dependency Inversion Principle\n",
    "\n",
    "- The core functionality of a system does not depend on its environment\n",
    "  - **Concrete artifacts depend on abstractions** (not vice versa)\n",
    "  - **Unstable artifacts depend on stable artifacts** (not vice versa)\n",
    "  - **Outer layers** of the architecture **depend on inner layers** (not vice\n",
    "    versa)\n",
    "  - Classes/Modules depend on abstractions (e.g., interfaces) not on other\n",
    "    classes/modules\n",
    "- Dependency inversion achieves this by introducing interfaces that “reverse\n",
    "  the dependencies”"
   ]
  },
  {
   "cell_type": "markdown",
   "id": "cf8fa17790511ca2",
   "metadata": {
    "lang": "en",
    "slideshow": {
     "slide_type": "subslide"
    },
    "tags": [
     "subslide"
    ]
   },
   "source": [
    "\n",
    "## Dependencies\n",
    "\n",
    "- We have to distinguish two kinds of dependencies:\n",
    "  - Data and control flow\n",
    "  - Source code dependencies\n",
    "- Data and control flow dependencies are inherent in the logic\n",
    "- Source code dependencies can be controlled by the architecture"
   ]
  },
  {
   "cell_type": "markdown",
   "id": "ca738fa3026135d3",
   "metadata": {
    "lang": "en",
    "slideshow": {
     "slide_type": "subslide"
    },
    "tags": [
     "subslide"
    ]
   },
   "source": [
    "\n",
    "The source code dependency goes in the same direction as the data flow:\n",
    "\n",
    "`MyModule.cpp` ⟹ `Database.h`\n",
    "\n",
    "<img src=\"img/db-example-01.svg\"\n",
    "     style=\"display:block;margin:auto;width:75%\"/>"
   ]
  },
  {
   "cell_type": "markdown",
   "id": "1f49ce2ed6b1dfb0",
   "metadata": {
    "lang": "en",
    "slideshow": {
     "slide_type": "subslide"
    },
    "tags": [
     "subslide"
    ]
   },
   "source": [
    "\n",
    "### Before\n",
    "<img src=\"img/dependency-01.svg\"\n",
    "     style=\"display:block;margin:auto;width:75%\"/>\n",
    "\n",
    "### After\n",
    "<img src=\"img/dependency-02.svg\"\n",
    "     style=\"display:block;margin:auto;width:75%\"/>"
   ]
  },
  {
   "cell_type": "markdown",
   "id": "579cdb008d39aeb0",
   "metadata": {
    "slideshow": {
     "slide_type": "subslide"
    },
    "tags": [
     "subslide"
    ]
   },
   "source": [
    "\n",
    "<img src=\"img/dip-01.svg\"\n",
    "     style=\"display:block;margin:auto;width:95%\"/>"
   ]
  },
  {
   "cell_type": "markdown",
   "id": "ab8db102d960f9ec",
   "metadata": {
    "slideshow": {
     "slide_type": "subslide"
    },
    "tags": [
     "subslide"
    ]
   },
   "source": [
    "\n",
    "<img src=\"img/dip-02.svg\"\n",
    "     style=\"display:block;margin:auto;width:95%\"/>"
   ]
  },
  {
   "cell_type": "markdown",
   "id": "02904b55f27d2b16",
   "metadata": {
    "slideshow": {
     "slide_type": "subslide"
    },
    "tags": [
     "subslide"
    ]
   },
   "source": [
    "\n",
    "<img src=\"img/dip-03.svg\"\n",
    "     style=\"display:block;margin:auto;width:95%\"/>"
   ]
  },
  {
   "cell_type": "markdown",
   "id": "0ba5cbf550a5a4db",
   "metadata": {
    "lang": "en",
    "slideshow": {
     "slide_type": "subslide"
    },
    "tags": [
     "subslide"
    ]
   },
   "source": [
    "\n",
    "## How DIP and DI work together:\n",
    "\n",
    "- DIP: abstract interface\n",
    "- DI: injection of the concrete implementation at runtime\n",
    "\n",
    "**Effect:** Ability to bring test doubles into play"
   ]
  },
  {
   "cell_type": "markdown",
   "id": "404900f28625b532",
   "metadata": {
    "lang": "en",
    "slideshow": {
     "slide_type": "subslide"
    },
    "tags": [
     "subslide"
    ]
   },
   "source": [
    "\n",
    "### Humble Object Pattern\n",
    "\n",
    "**Problem:**\n",
    "- How do you test code that is heavily intertwined with \"inconvenient\"\n",
    "  infrastructure?\n",
    "  - UI\n",
    "  - Database\n",
    "  - API\n",
    "  - ..."
   ]
  },
  {
   "cell_type": "markdown",
   "id": "e6f9c5af055e86fb",
   "metadata": {
    "lang": "en",
    "slideshow": {
     "slide_type": "subslide"
    },
    "tags": [
     "subslide"
    ]
   },
   "source": [
    "\n",
    "### Humble Object Pattern\n",
    "\n",
    "**Solution:** Split the class into two parts:\n",
    "1.  **The Humble Object:**\n",
    "    - A very thin wrapper at the boundary to the external system.\n",
    "    - Contains *no* logic (no `if` statements, loops, etc.).\n",
    "    - Its only job: shuttle data back and forth.\n",
    "    - Is so simple that it doesn't need to be tested.\n",
    "\n",
    "2.  **The Testable Logic:**\n",
    "    - All the complex code (business logic, decisions).\n",
    "    - Is extracted into a separate class that has no knowledge of the infrastructure.\n",
    "    - This class is easily and fully testable."
   ]
  },
  {
   "cell_type": "markdown",
   "id": "eb48242367ecab0e",
   "metadata": {
    "lang": "en",
    "slideshow": {
     "slide_type": "slide"
    },
    "tags": [
     "slide"
    ]
   },
   "source": [
    "\n",
    "## Refactoring to a Humble Object\n",
    "\n",
    "**Goal:** Refactor a hard-to-test class that mixes business logic and external\n",
    "dependencies using the Humble Object pattern.\n",
    "\n",
    "**Scenario:** An `OrderProcessor` that:\n",
    "\n",
    "- reads order data from a file,\n",
    "- calculates discounts and checks inventory,\n",
    "- saves orders to a database,\n",
    "- updates inventory.\n",
    "\n",
    "This is difficult to test because it depends on file system and database."
   ]
  },
  {
   "cell_type": "markdown",
   "id": "f2863ee94e3df396",
   "metadata": {
    "lang": "en",
    "slideshow": {
     "slide_type": "subslide"
    },
    "tags": [
     "subslide"
    ]
   },
   "source": [
    "\n",
    "Here is the class we will refactor. Notice how the business logic\n",
    "is mixed with external dependencies."
   ]
  },
  {
   "cell_type": "code",
   "execution_count": null,
   "id": "6541d09bcb3093ea",
   "metadata": {
    "tags": [
     "keep"
    ]
   },
   "outputs": [],
   "source": [
    "#include \"check.h\"\n",
    "#include <fstream>\n",
    "#include <iostream>\n",
    "#include <sstream>\n",
    "#include <stdexcept>\n",
    "#include <string>\n",
    "#include <vector>"
   ]
  },
  {
   "cell_type": "code",
   "execution_count": null,
   "id": "82f7c00c633660e1",
   "metadata": {
    "slideshow": {
     "slide_type": "subslide"
    },
    "tags": [
     "subslide",
     "keep"
    ]
   },
   "outputs": [],
   "source": [
    "namespace order_processor\n",
    "{\n",
    "struct Order\n",
    "{\n",
    "    std::string customer_type; // \"premium\", \"regular\"\n",
    "    std::string product;\n",
    "    int quantity;\n",
    "    double unit_price;\n",
    "    double total_price;\n",
    "    bool is_valid;\n",
    "};\n",
    "} // namespace order_processor"
   ]
  },
  {
   "cell_type": "code",
   "execution_count": null,
   "id": "5d9f9e18c68e229e",
   "metadata": {
    "slideshow": {
     "slide_type": "subslide"
    },
    "tags": [
     "subslide",
     "keep"
    ]
   },
   "outputs": [],
   "source": [
    "namespace non_humble_order_processor\n",
    "{\n",
    "using namespace order_processor;\n",
    "\n",
    "class OrderProcessor\n",
    "{\n",
    "public:\n",
    "    void process_orders_from_file(const std::string& file_path);\n",
    "\n",
    "private:\n",
    "    Order parse_order_line(const std::string& line);\n",
    "\n",
    "    // Business logic - should be easily testable\n",
    "    double calculate_discount(const std::string& customer_type, int quantity);\n",
    "\n",
    "    // Infrastructure - hard to test (simulates database lookup)\n",
    "    bool check_inventory(const std::string& product, int quantity);\n",
    "\n",
    "    // Infrastructure - hard to test\n",
    "    void save_order_to_database(const Order& order);\n",
    "\n",
    "    // Infrastructure - hard to test\n",
    "    void update_inventory(const std::string& product, int quantity);\n",
    "};\n",
    "} // namespace non_humble_order_processor"
   ]
  },
  {
   "cell_type": "code",
   "execution_count": null,
   "id": "76a3285ce7f11245",
   "metadata": {
    "slideshow": {
     "slide_type": "subslide"
    },
    "tags": [
     "subslide",
     "keep"
    ]
   },
   "outputs": [],
   "source": [
    "namespace non_humble_order_processor\n",
    "{\n",
    "void OrderProcessor::process_orders_from_file(const std::string& file_path)\n",
    "{\n",
    "    // 1. Read from file (infrastructure)\n",
    "    std::ifstream file(file_path);\n",
    "    if (!file)\n",
    "    {\n",
    "        throw std::runtime_error(\"Could not open file\");\n",
    "    }\n",
    "\n",
    "    std::string line;\n",
    "    while (std::getline(file, line))\n",
    "    {\n",
    "        // 2. Parse order data\n",
    "        Order order = parse_order_line(line);\n",
    "\n",
    "        // 3. Business logic: Check inventory\n",
    "        if (!check_inventory(order.product, order.quantity))\n",
    "        {\n",
    "            std::cout << \"Not enough inventory for \" << order.product << std::endl;\n",
    "            continue;\n",
    "        }\n",
    "\n",
    "        // 4. Business logic: Calculate discount and total\n",
    "        double discount = calculate_discount(order.customer_type, order.quantity);\n",
    "        order.total_price = (order.unit_price * order.quantity) * (1.0 - discount);\n",
    "        order.is_valid = true;\n",
    "\n",
    "        // 5. Save to database (infrastructure)\n",
    "        save_order_to_database(order);\n",
    "\n",
    "        // 6. Update inventory (infrastructure)\n",
    "        update_inventory(order.product, order.quantity);\n",
    "\n",
    "        std::cout << \"Processed order: \" << order.product << \" for $\"\n",
    "                  << order.total_price << std::endl;\n",
    "    }\n",
    "}\n",
    "} // namespace non_humble_order_processor"
   ]
  },
  {
   "cell_type": "code",
   "execution_count": null,
   "id": "a51c9c32d4e50564",
   "metadata": {
    "slideshow": {
     "slide_type": "subslide"
    },
    "tags": [
     "subslide",
     "keep"
    ]
   },
   "outputs": [],
   "source": [
    "namespace non_humble_order_processor\n",
    "{\n",
    "Order OrderProcessor::parse_order_line(const std::string& line)\n",
    "{\n",
    "    std::stringstream ss(line);\n",
    "    std::string customer_type, product, quantity_str, price_str;\n",
    "\n",
    "    std::getline(ss, customer_type, ',');\n",
    "    std::getline(ss, product, ',');\n",
    "    std::getline(ss, quantity_str, ',');\n",
    "    std::getline(ss, price_str, ',');\n",
    "\n",
    "    return {customer_type,        product, std::stoi(quantity_str),\n",
    "            std::stod(price_str), 0.0,     false};\n",
    "}\n",
    "} // namespace non_humble_order_processor"
   ]
  },
  {
   "cell_type": "code",
   "execution_count": null,
   "id": "81e9243c8e347a4e",
   "metadata": {
    "slideshow": {
     "slide_type": "subslide"
    },
    "tags": [
     "subslide",
     "keep"
    ]
   },
   "outputs": [],
   "source": [
    "namespace non_humble_order_processor\n",
    "{\n",
    "double OrderProcessor::calculate_discount(\n",
    "    const std::string& customer_type, int quantity\n",
    ")\n",
    "{\n",
    "    double discount = 0.0;\n",
    "    if (customer_type == \"premium\")\n",
    "    {\n",
    "        discount += 0.1; // 10% for premium\n",
    "    }\n",
    "    if (quantity >= 10)\n",
    "    {\n",
    "        discount += 0.05; // 5% for bulk\n",
    "    }\n",
    "    return std::min(discount, 0.15); // Max 15% discount\n",
    "}\n",
    "} // namespace non_humble_order_processor"
   ]
  },
  {
   "cell_type": "code",
   "execution_count": null,
   "id": "41b7b77770ad3223",
   "metadata": {
    "slideshow": {
     "slide_type": "subslide"
    },
    "tags": [
     "subslide",
     "keep"
    ]
   },
   "outputs": [],
   "source": [
    "namespace non_humble_order_processor\n",
    "{\n",
    "bool OrderProcessor::check_inventory(const std::string& product, int quantity)\n",
    "{\n",
    "    std::cout << \"Checking inventory for \" << product << std::endl;\n",
    "    return quantity <= 100; // Simulate inventory check\n",
    "}\n",
    "} // namespace non_humble_order_processor"
   ]
  },
  {
   "cell_type": "code",
   "execution_count": null,
   "id": "c83766088fe60008",
   "metadata": {
    "slideshow": {
     "slide_type": "subslide"
    },
    "tags": [
     "subslide",
     "keep"
    ]
   },
   "outputs": [],
   "source": [
    "namespace non_humble_order_processor\n",
    "{\n",
    "void OrderProcessor::save_order_to_database(const Order& order)\n",
    "{\n",
    "    std::cout << \"Saving order to database\" << std::endl;\n",
    "    // Simulate database save\n",
    "}\n",
    "} // namespace non_humble_order_processor"
   ]
  },
  {
   "cell_type": "code",
   "execution_count": null,
   "id": "e3a7f258fa18b7a1",
   "metadata": {
    "slideshow": {
     "slide_type": "subslide"
    },
    "tags": [
     "subslide",
     "keep"
    ]
   },
   "outputs": [],
   "source": [
    "namespace non_humble_order_processor\n",
    "{\n",
    "void OrderProcessor::update_inventory(const std::string& product, int quantity)\n",
    "{\n",
    "    std::cout << \"Updating inventory: -\" << quantity << \" \" << product << std::endl;\n",
    "    // Simulate inventory update\n",
    "}\n",
    "} // namespace non_humble_order_processor"
   ]
  },
  {
   "cell_type": "code",
   "execution_count": null,
   "id": "12c182afd4b2cc3b",
   "metadata": {
    "slideshow": {
     "slide_type": "subslide"
    },
    "tags": [
     "subslide",
     "keep"
    ]
   },
   "outputs": [],
   "source": [
    "namespace non_humble_order_processor\n",
    "{\n",
    "void demonstrate_non_humble_order_processor()\n",
    "{\n",
    "    OrderProcessor processor;\n",
    "    try\n",
    "    {\n",
    "        processor.process_orders_from_file(\"orders.txt\");\n",
    "    }\n",
    "    catch (const std::runtime_error& e)\n",
    "    {\n",
    "        std::cerr << \"Error: \" << e.what() << std::endl;\n",
    "    }\n",
    "}\n",
    "} // namespace non_humble_order_processor"
   ]
  },
  {
   "cell_type": "code",
   "execution_count": null,
   "id": "6d91f753b49d1417",
   "metadata": {},
   "outputs": [],
   "source": []
  },
  {
   "cell_type": "markdown",
   "id": "56938032601569d8",
   "metadata": {
    "lang": "en",
    "slideshow": {
     "slide_type": "subslide"
    },
    "tags": [
     "subslide"
    ]
   },
   "source": [
    "\n",
    "### Refactor & Test\n",
    "\n",
    "1.  **Extracting the Business Logic:** We create an `OrderService` class\n",
    "    that encapsulates the pure business logic (discount calculation, price\n",
    "    calculation).\n",
    "2.  **Creating the Humble Object:** The original `OrderProcessor` becomes the\n",
    "    Humble Object. It only handles I/O and delegates business logic.\n",
    "3.  **Abstracting the Infrastructure:** We use interfaces for database and\n",
    "    inventory service.\n",
    "4.  **Writing Tests:** We write unit tests for the `OrderService` class."
   ]
  },
  {
   "cell_type": "code",
   "execution_count": null,
   "id": "25071ff3360792a4",
   "metadata": {
    "slideshow": {
     "slide_type": "subslide"
    },
    "tags": [
     "subslide",
     "keep"
    ]
   },
   "outputs": [],
   "source": [
    "// Solution:\n",
    "namespace humble_order_processor\n",
    "{\n",
    "// Interfaces for external dependencies\n",
    "class IInventoryService\n",
    "{\n",
    "public:\n",
    "    virtual ~IInventoryService() = default;\n",
    "    virtual bool has_stock(const std::string& product, int quantity) = 0;\n",
    "    virtual void reduce_stock(const std::string& product, int quantity) = 0;\n",
    "};\n",
    "} // namespace humble_order_processor"
   ]
  },
  {
   "cell_type": "code",
   "execution_count": null,
   "id": "b7e77c04a5b583bf",
   "metadata": {
    "slideshow": {
     "slide_type": "subslide"
    },
    "tags": [
     "subslide",
     "keep"
    ]
   },
   "outputs": [],
   "source": [
    "namespace humble_order_processor\n",
    "{\n",
    "using namespace order_processor;\n",
    "\n",
    "class IOrderRepository\n",
    "{\n",
    "public:\n",
    "    virtual ~IOrderRepository() = default;\n",
    "    virtual void save(const Order& order) = 0;\n",
    "};\n",
    "} // namespace humble_order_processor"
   ]
  },
  {
   "cell_type": "code",
   "execution_count": null,
   "id": "a2cd2d77a776e992",
   "metadata": {
    "slideshow": {
     "slide_type": "subslide"
    },
    "tags": [
     "subslide",
     "keep"
    ]
   },
   "outputs": [],
   "source": [
    "namespace humble_order_processor\n",
    "{\n",
    "// 1. Pure business logic - easily testable\n",
    "class OrderService\n",
    "{\n",
    "private:\n",
    "    IInventoryService* inventory;\n",
    "    IOrderRepository* repository;\n",
    "\n",
    "public:\n",
    "    OrderService(IInventoryService* inv, IOrderRepository* repo)\n",
    "        : inventory(inv), repository(repo)\n",
    "    {}\n",
    "\n",
    "    void process_order(const Order& raw_order);\n",
    "\n",
    "    // Business logic methods - easily testable\n",
    "    Order calculate_order_total(const Order& raw_order);\n",
    "\n",
    "    double calculate_discount(const std::string& customer_type, int quantity);\n",
    "};\n",
    "} // namespace humble_order_processor"
   ]
  },
  {
   "cell_type": "code",
   "execution_count": null,
   "id": "fb18fd2d90df6aba",
   "metadata": {
    "slideshow": {
     "slide_type": "subslide"
    },
    "tags": [
     "subslide",
     "keep"
    ]
   },
   "outputs": [],
   "source": [
    "namespace humble_order_processor\n",
    "{\n",
    "void OrderService::process_order(const Order& raw_order)\n",
    "{\n",
    "    // ALL business logic and orchestration here\n",
    "    if (!inventory->has_stock(raw_order.product, raw_order.quantity))\n",
    "    {\n",
    "        std::cout << \"Not enough inventory for \" << raw_order.product << std::endl;\n",
    "        return; // Business decision: skip this order\n",
    "    }\n",
    "\n",
    "    // Calculate order total with business rules\n",
    "    Order processed_order = calculate_order_total(raw_order);\n",
    "\n",
    "    // Execute business workflow\n",
    "    repository->save(processed_order);\n",
    "    inventory->reduce_stock(processed_order.product, processed_order.quantity);\n",
    "\n",
    "    std::cout << \"Processed order: \" << processed_order.product << \" for $\"\n",
    "              << processed_order.total_price << std::endl;\n",
    "}\n",
    "} // namespace humble_order_processor"
   ]
  },
  {
   "cell_type": "code",
   "execution_count": null,
   "id": "05df014b6eedb6c9",
   "metadata": {
    "slideshow": {
     "slide_type": "subslide"
    },
    "tags": [
     "subslide",
     "keep"
    ]
   },
   "outputs": [],
   "source": [
    "namespace humble_order_processor\n",
    "{\n",
    "Order OrderService::calculate_order_total(const Order& raw_order)\n",
    "{\n",
    "    Order processed_order = raw_order;\n",
    "\n",
    "    double discount = calculate_discount(raw_order.customer_type, raw_order.quantity);\n",
    "    processed_order.total_price =\n",
    "        (raw_order.unit_price * raw_order.quantity) * (1.0 - discount);\n",
    "    processed_order.is_valid = true;\n",
    "\n",
    "    return processed_order;\n",
    "}\n",
    "\n",
    "} // namespace humble_order_processor"
   ]
  },
  {
   "cell_type": "code",
   "execution_count": null,
   "id": "b2db5771ce34e56b",
   "metadata": {
    "slideshow": {
     "slide_type": "subslide"
    },
    "tags": [
     "subslide",
     "keep"
    ]
   },
   "outputs": [],
   "source": [
    "namespace humble_order_processor\n",
    "{\n",
    "double OrderService::calculate_discount(const std::string& customer_type, int quantity)\n",
    "{\n",
    "    double discount = 0.0;\n",
    "    if (customer_type == \"premium\")\n",
    "    {\n",
    "        discount += 0.1; // 10% for premium\n",
    "    }\n",
    "    if (quantity >= 10)\n",
    "    {\n",
    "        discount += 0.05; // 5% for bulk\n",
    "    }\n",
    "    return std::min(discount, 0.15); // Max 15% discount\n",
    "}\n",
    "} // namespace humble_order_processor"
   ]
  },
  {
   "cell_type": "code",
   "execution_count": null,
   "id": "a9fa4bfced0de2dc",
   "metadata": {
    "slideshow": {
     "slide_type": "subslide"
    },
    "tags": [
     "subslide",
     "keep"
    ]
   },
   "outputs": [],
   "source": [
    "namespace humble_order_processor\n",
    "{\n",
    "// 2. Humble Object - only handles infrastructure\n",
    "class OrderProcessor\n",
    "{\n",
    "private:\n",
    "    OrderService* order_service;\n",
    "\n",
    "public:\n",
    "    OrderProcessor(OrderService* service) : order_service(service) {}\n",
    "\n",
    "    void process_orders_from_file(const std::string& file_path);\n",
    "\n",
    "private:\n",
    "    Order parse_order_line(const std::string& line);\n",
    "};\n",
    "} // namespace humble_order_processor"
   ]
  },
  {
   "cell_type": "code",
   "execution_count": null,
   "id": "a8d866e882f59f14",
   "metadata": {
    "slideshow": {
     "slide_type": "subslide"
    },
    "tags": [
     "subslide",
     "keep"
    ]
   },
   "outputs": [],
   "source": [
    "namespace humble_order_processor\n",
    "{\n",
    "void OrderProcessor::process_orders_from_file(const std::string& file_path)\n",
    "{\n",
    "    // ONLY handles file I/O - no business decisions\n",
    "    std::ifstream file(file_path);\n",
    "    if (!file)\n",
    "    {\n",
    "        throw std::runtime_error(\"Could not open file\");\n",
    "    }\n",
    "\n",
    "    std::string line;\n",
    "    while (std::getline(file, line))\n",
    "    {\n",
    "        // Just parse and delegate - NO logic or decisions\n",
    "        Order raw_order = parse_order_line(line);\n",
    "        order_service->process_order(raw_order);\n",
    "    }\n",
    "}\n",
    "} // namespace humble_order_processor"
   ]
  },
  {
   "cell_type": "code",
   "execution_count": null,
   "id": "01bf01d2d1b2a069",
   "metadata": {
    "slideshow": {
     "slide_type": "subslide"
    },
    "tags": [
     "subslide",
     "keep"
    ]
   },
   "outputs": [],
   "source": [
    "namespace humble_order_processor\n",
    "{\n",
    "Order OrderProcessor::parse_order_line(const std::string& line)\n",
    "{\n",
    "    std::stringstream ss(line);\n",
    "    std::string customer_type, product, quantity_str, price_str;\n",
    "\n",
    "    std::getline(ss, customer_type, ',');\n",
    "    std::getline(ss, product, ',');\n",
    "    std::getline(ss, quantity_str, ',');\n",
    "    std::getline(ss, price_str, ',');\n",
    "\n",
    "    return {customer_type,        product, std::stoi(quantity_str),\n",
    "            std::stod(price_str), 0.0,     false};\n",
    "}\n",
    "} // namespace humble_order_processor"
   ]
  },
  {
   "cell_type": "code",
   "execution_count": null,
   "id": "9192ddd1f92bd4d5",
   "metadata": {
    "slideshow": {
     "slide_type": "subslide"
    },
    "tags": [
     "subslide",
     "keep"
    ]
   },
   "outputs": [],
   "source": [
    "namespace humble_order_processor\n",
    "{\n",
    "// 3. Test implementations\n",
    "class MockInventoryService : public IInventoryService\n",
    "{\n",
    "public:\n",
    "    bool has_stock(const std::string& product, int quantity) override\n",
    "    {\n",
    "        return quantity <= 50; // Mock: always in stock if <= 50\n",
    "    }\n",
    "\n",
    "    void reduce_stock(const std::string& product, int quantity) override\n",
    "    {\n",
    "        // std::cout << \"Mock: Reduced \" << quantity << \" \" << product << std::endl;\n",
    "    }\n",
    "};\n",
    "} // namespace humble_order_processor"
   ]
  },
  {
   "cell_type": "code",
   "execution_count": null,
   "id": "7de0a5c8a1b10c76",
   "metadata": {
    "slideshow": {
     "slide_type": "subslide"
    },
    "tags": [
     "subslide",
     "keep"
    ]
   },
   "outputs": [],
   "source": [
    "namespace humble_order_processor\n",
    "{\n",
    "class MockOrderRepository : public IOrderRepository\n",
    "{\n",
    "public:\n",
    "    std::vector<Order> saved_orders;\n",
    "\n",
    "    void save(const Order& order) override { saved_orders.push_back(order); }\n",
    "};\n",
    "} // namespace humble_order_processor"
   ]
  },
  {
   "cell_type": "code",
   "execution_count": null,
   "id": "1cfeba1577c379b2",
   "metadata": {
    "slideshow": {
     "slide_type": "subslide"
    },
    "tags": [
     "subslide",
     "keep"
    ]
   },
   "outputs": [],
   "source": [
    "namespace humble_order_processor\n",
    "{\n",
    "// 4. Unit tests for pure business logic\n",
    "void test_order_service()\n",
    "{\n",
    "    MockInventoryService mock_inventory;\n",
    "    MockOrderRepository mock_repository;\n",
    "    OrderService service(&mock_inventory, &mock_repository);\n",
    "\n",
    "    // Test successful order processing\n",
    "    Order test_order{\"premium\", \"laptop\", 5, 1000.0, 0.0, false};\n",
    "    service.process_order(test_order);\n",
    "\n",
    "    check(mock_repository.saved_orders.size() == 1, \"Order should be saved\");\n",
    "    check(\n",
    "        mock_repository.saved_orders[0].total_price == 4500.0,\n",
    "        \"Premium customer should get 10% discount: 5000 * 0.9 = 4500\"\n",
    "    );\n",
    "\n",
    "    // Test business logic calculations\n",
    "    Order bulk_order{\"regular\", \"mouse\", 15, 20.0, 0.0, false};\n",
    "    Order result = service.calculate_order_total(bulk_order);\n",
    "    check(result.total_price == 285.0, \"Bulk order should get 5% discount\");\n",
    "\n",
    "    // Test combined discounts (capped at 15%)\n",
    "    Order premium_bulk{\"premium\", \"keyboard\", 20, 100.0, 0.0, false};\n",
    "    Order combined_result = service.calculate_order_total(premium_bulk);\n",
    "    check(combined_result.total_price == 1700.0, \"Combined discounts capped at 15%\");\n",
    "\n",
    "    std::cout << \"All OrderService tests passed!\" << std::endl;\n",
    "}\n",
    "} // namespace humble_order_processor"
   ]
  },
  {
   "cell_type": "code",
   "execution_count": null,
   "id": "228339289c764be9",
   "metadata": {},
   "outputs": [],
   "source": []
  },
  {
   "cell_type": "code",
   "execution_count": null,
   "id": "8f8fd764893c0feb",
   "metadata": {
    "slideshow": {
     "slide_type": "subslide"
    },
    "tags": [
     "subslide",
     "keep"
    ]
   },
   "outputs": [],
   "source": [
    "namespace humble_order_processor\n",
    "{\n",
    "class DemoInventoryService : public IInventoryService\n",
    "{\n",
    "public:\n",
    "    bool has_stock(const std::string& product, int quantity) override\n",
    "    {\n",
    "        std::cout << \"Checking inventory for \" << product << std::endl;\n",
    "        return quantity <= 100; // Simulate inventory check\n",
    "    }\n",
    "\n",
    "    void reduce_stock(const std::string& product, int quantity) override\n",
    "    {\n",
    "        std::cout << \"Reducing stock for \" << product << \" by \" << quantity\n",
    "                  << std::endl;\n",
    "        // Simulate inventory reduction\n",
    "    }\n",
    "};\n",
    "} // namespace humble_order_processor"
   ]
  },
  {
   "cell_type": "code",
   "execution_count": null,
   "id": "f26646ecf4b7c6e3",
   "metadata": {
    "slideshow": {
     "slide_type": "subslide"
    },
    "tags": [
     "subslide",
     "keep"
    ]
   },
   "outputs": [],
   "source": [
    "namespace humble_order_processor\n",
    "{\n",
    "class DemoOrderRepository : public IOrderRepository\n",
    "{\n",
    "public:\n",
    "    void save(const Order& order) override\n",
    "    {\n",
    "        std::cout << \"Saving order to database: \" << order.product << \" for $\"\n",
    "                  << order.total_price << std::endl;\n",
    "        // Simulate database save\n",
    "    }\n",
    "};\n",
    "} // namespace humble_order_processor"
   ]
  },
  {
   "cell_type": "code",
   "execution_count": null,
   "id": "b52dd1109b4323ad",
   "metadata": {
    "slideshow": {
     "slide_type": "subslide"
    },
    "tags": [
     "subslide",
     "keep"
    ]
   },
   "outputs": [],
   "source": [
    "namespace humble_order_processor\n",
    "{\n",
    "void demonstrate_humble_object()\n",
    "{\n",
    "    // Create services\n",
    "    DemoInventoryService inventory_service;\n",
    "    DemoOrderRepository order_repository;\n",
    "\n",
    "    // Create the business logic service\n",
    "    OrderService order_service(&inventory_service, &order_repository);\n",
    "\n",
    "    // Create the humble object\n",
    "    OrderProcessor processor(&order_service);\n",
    "\n",
    "    // Process orders from a file (simulated)\n",
    "    try\n",
    "    {\n",
    "        processor.process_orders_from_file(\"orders.txt\");\n",
    "    }\n",
    "    catch (const std::runtime_error& e)\n",
    "    {\n",
    "        std::cerr << \"Error: \" << e.what() << std::endl;\n",
    "    }\n",
    "}\n",
    "} // namespace humble_order_processor"
   ]
  },
  {
   "cell_type": "code",
   "execution_count": null,
   "id": "222477f5d027e9ec",
   "metadata": {},
   "outputs": [],
   "source": []
  },
  {
   "cell_type": "markdown",
   "id": "39b380c8cdf6a0a2",
   "metadata": {
    "lang": "en",
    "slideshow": {
     "slide_type": "slide"
    },
    "tags": [
     "slide"
    ]
   },
   "source": [
    "\n",
    "## Workshop: Refactoring to a Humble Object\n",
    "\n",
    "**Goal:** Refactor a hard-to-test class that mixes business logic and external\n",
    "dependencies using the Humble Object pattern.\n",
    "\n",
    "**Scenario:** A `UserRegistrationService` that:\n",
    "\n",
    "- reads user data from a file,\n",
    "- applies validation and business rules,\n",
    "- saves users to a database,\n",
    "- sends email notifications.\n",
    "\n",
    "This is difficult to test because it depends on file system, database, and email\n",
    "service."
   ]
  },
  {
   "cell_type": "markdown",
   "id": "6c4b626683838d6a",
   "metadata": {
    "lang": "en",
    "slideshow": {
     "slide_type": "subslide"
    },
    "tags": [
     "subslide"
    ]
   },
   "source": [
    "\n",
    "Here is the class we will refactor. Notice how the business logic\n",
    "is mixed with external dependencies."
   ]
  },
  {
   "cell_type": "code",
   "execution_count": null,
   "id": "1a15afd7358e9d41",
   "metadata": {
    "tags": [
     "keep"
    ]
   },
   "outputs": [],
   "source": [
    "#include \"check.h\"\n",
    "#include <fstream>\n",
    "#include <iostream>\n",
    "#include <sstream>\n",
    "#include <stdexcept>\n",
    "#include <string>\n",
    "#include <vector>"
   ]
  },
  {
   "cell_type": "code",
   "execution_count": null,
   "id": "85b7a42287ee1ac3",
   "metadata": {
    "slideshow": {
     "slide_type": "subslide"
    },
    "tags": [
     "subslide",
     "keep"
    ]
   },
   "outputs": [],
   "source": [
    "struct User\n",
    "{\n",
    "    std::string name;\n",
    "    std::string email;\n",
    "    int age;\n",
    "    std::string role;\n",
    "};"
   ]
  },
  {
   "cell_type": "code",
   "execution_count": null,
   "id": "30f9614988b6bd37",
   "metadata": {
    "slideshow": {
     "slide_type": "subslide"
    },
    "tags": [
     "subslide",
     "keep"
    ]
   },
   "outputs": [],
   "source": [
    "// Original monolithic class - hard to test\n",
    "class UserRegistrationService\n",
    "{\n",
    "public:\n",
    "    void register_users_from_file(const std::string& file_path)\n",
    "    {\n",
    "        // 1. Read from file (infrastructure)\n",
    "        std::ifstream file(file_path);\n",
    "        if (!file)\n",
    "        {\n",
    "            throw std::runtime_error(\"Could not open file\");\n",
    "        }\n",
    "\n",
    "        std::string line;\n",
    "        while (std::getline(file, line))\n",
    "        {\n",
    "            // 2. Parse user data (could be business logic)\n",
    "            User user = parse_user_line(line);\n",
    "\n",
    "            // 3. Business logic validation\n",
    "            if (!is_valid_user(user))\n",
    "            {\n",
    "                std::cout << \"Invalid user: \" << user.name << std::endl;\n",
    "                continue;\n",
    "            }\n",
    "\n",
    "            // 4. Apply business rules\n",
    "            std::string assigned_role = assign_role(user);\n",
    "            user.role = assigned_role;\n",
    "\n",
    "            // 5. Save to database (infrastructure)\n",
    "            save_to_database(user);\n",
    "\n",
    "            // 6. Send email (infrastructure)\n",
    "            send_welcome_email(user);\n",
    "        }\n",
    "    }\n",
    "\n",
    "private:\n",
    "    User parse_user_line(const std::string& line)\n",
    "    {\n",
    "        std::stringstream ss(line);\n",
    "        std::string name, email, age_str;\n",
    "\n",
    "        std::getline(ss, name, ',');\n",
    "        std::getline(ss, email, ',');\n",
    "        std::getline(ss, age_str, ',');\n",
    "\n",
    "        return {name, email, std::stoi(age_str), \"\"};\n",
    "    }\n",
    "\n",
    "    // Business logic - should be easily testable\n",
    "    bool is_valid_user(const User& user)\n",
    "    {\n",
    "        return !user.name.empty() && user.email.find('@') != std::string::npos &&\n",
    "               user.age >= 18 && user.age <= 120;\n",
    "    }\n",
    "\n",
    "    // Business logic - should be easily testable\n",
    "    std::string assign_role(const User& user)\n",
    "    {\n",
    "        if (user.age >= 65)\n",
    "        {\n",
    "            return \"senior\";\n",
    "        }\n",
    "        if (user.age >= 18)\n",
    "        {\n",
    "            return \"adult\";\n",
    "        }\n",
    "        return \"minor\";\n",
    "    }\n",
    "\n",
    "    // Infrastructure - hard to test\n",
    "    void save_to_database(const User& user)\n",
    "    {\n",
    "        std::cout << \"Saving to DB: \" << user.name << std::endl;\n",
    "        // Simulate database save\n",
    "    }\n",
    "\n",
    "    // Infrastructure - hard to test\n",
    "    void send_welcome_email(const User& user)\n",
    "    {\n",
    "        std::cout << \"Sending email to: \" << user.email << std::endl;\n",
    "        // Simulate email sending\n",
    "    }\n",
    "};"
   ]
  },
  {
   "cell_type": "code",
   "execution_count": null,
   "id": "20e66325121773a3",
   "metadata": {
    "slideshow": {
     "slide_type": "subslide"
    },
    "tags": [
     "subslide",
     "keep"
    ]
   },
   "outputs": [],
   "source": [
    "void demonstrate_user_registration_service()\n",
    "{\n",
    "    UserRegistrationService service;\n",
    "    try\n",
    "    {\n",
    "        service.register_users_from_file(\"users.txt\");\n",
    "    }\n",
    "    catch (const std::runtime_error& e)\n",
    "    {\n",
    "        std::cerr << \"Error: \" << e.what() << std::endl;\n",
    "    }\n",
    "}"
   ]
  },
  {
   "cell_type": "code",
   "execution_count": null,
   "id": "b34e5f805c99f129",
   "metadata": {},
   "outputs": [],
   "source": []
  },
  {
   "cell_type": "markdown",
   "id": "88b1c418554ed8de",
   "metadata": {
    "lang": "en",
    "slideshow": {
     "slide_type": "subslide"
    },
    "tags": [
     "subslide"
    ]
   },
   "source": [
    "\n",
    "### Your Task: Refactor & Test\n",
    "\n",
    "1.  **Extract the Business Logic:** Create a `UserProcessor` class that encapsulates\n",
    "the pure business logic (validation, role assignment).\n",
    "2.  **Create the Humble Object:** The original `UserRegistrationService` becomes\n",
    "the Humble Object. It only handles I/O and delegates business logic.\n",
    "3.  **Abstract the Infrastructure:** Use interfaces for database and email service\n",
    "to improve testability.\n",
    "4.  **Write Tests:** Write unit tests for the `UserProcessor` class."
   ]
  },
  {
   "cell_type": "code",
   "execution_count": null,
   "id": "cffd0037f31869bd",
   "metadata": {},
   "outputs": [],
   "source": []
  },
  {
   "cell_type": "code",
   "execution_count": null,
   "id": "b7c512eb5865092f",
   "metadata": {},
   "outputs": [],
   "source": []
  },
  {
   "cell_type": "code",
   "execution_count": null,
   "id": "a4b0491df276d6a9",
   "metadata": {},
   "outputs": [],
   "source": []
  },
  {
   "cell_type": "code",
   "execution_count": null,
   "id": "6b4e03423667dbb7",
   "metadata": {},
   "outputs": [],
   "source": []
  }
 ],
 "metadata": {
  "kernelspec": {
   "display_name": "C++17",
   "language": "C++17",
   "name": "xcpp17"
  },
  "language_info": {
   "codemirror_mode": "text/x-c++src",
   "file_extension": ".cpp",
   "mimetype": "text/x-c++src",
   "name": "c++",
   "version": "17"
  }
 },
 "nbformat": 4,
 "nbformat_minor": 5
}
