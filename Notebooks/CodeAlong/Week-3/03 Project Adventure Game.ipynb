{
 "cells": [
  {
   "cell_type": "markdown",
   "id": "dbe579800f7a7ffb",
   "metadata": {
    "lang": "en",
    "slideshow": {
     "slide_type": "slide"
    },
    "tags": [
     "slide"
    ]
   },
   "source": [
    "\n",
    "<img src=\"data:image/png;base64,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\"\n",
    "     style=\"display:block;margin:auto;width:5%\"/>\n",
    "<br>\n",
    "\n",
    "<div style=\"text-align:center; font-size:200%;\">\n",
    "  <b>Project: Adventure Game</b>\n",
    "</div>\n",
    "<br/>\n",
    "<div style=\"text-align:center; font-size:120%;\">Dr. Matthias Hölzl</div>\n",
    "<br/>\n",
    "<div style=\"text-align:center;\">Coding-Academy Munich</div>\n",
    "<br/>\n",
    "<!-- 03 Project Adventure Game.ipynb -->\n",
    "<!-- slides/module_410_unit_testing/topic_310_project_adventure_game.cpp -->\n",
    "\n"
   ]
  },
  {
   "cell_type": "markdown",
   "id": "1e2457e703fd6abc",
   "metadata": {
    "lang": "en",
    "slideshow": {
     "slide_type": "subslide"
    },
    "tags": [
     "subslide"
    ]
   },
   "source": [
    "\n",
    "### Introduction\n",
    "\n",
    "- The goal of this project is not just to build a simple game, but to\n",
    "  experience how good architecture can emerge from a strict TDD process.\n",
    "- Write the *simplest possible code* to make each test pass, even if it feels\n",
    "  wrong or hardcoded.\n",
    "- The magic happens in the **refactoring** step.\n",
    "- The stories are carefully ordered to lead towards a clean, decoupled\n",
    "  design.\n",
    "- Make sure to follow the TDD cycle. Make sure you refactor during each\n",
    "  cycle, using the principles discussed in previous lectures.\n",
    "- You are not expected to finish the entire project in a single week. Only\n",
    "  tackle as much as you can in the time available."
   ]
  },
  {
   "cell_type": "markdown",
   "id": "37b00391f835d86d",
   "metadata": {
    "lang": "en",
    "slideshow": {
     "slide_type": "slide"
    },
    "tags": [
     "slide"
    ]
   },
   "source": [
    "\n",
    "### Part 1: Establishing the Core Loop and World Structure\n",
    "\n",
    "This part focuses on movement and the representation of the world. The\n",
    "initial implementation will likely involve hardcoded strings and if\n",
    "statements.\n",
    "\n",
    "A starter kit is available in the repository under\n",
    "`code/starter_kits/project_adventure_sk`."
   ]
  },
  {
   "cell_type": "markdown",
   "id": "1c91834a830490fb",
   "metadata": {
    "lang": "en",
    "slideshow": {
     "slide_type": "subslide"
    },
    "tags": [
     "subslide"
    ]
   },
   "source": [
    "\n",
    "#### **Story 1: Starting the Game**\n",
    "\n",
    "* **As a player, I want to start the game, so that I can see the description\n",
    "  of the starting room.**\n",
    "* **Acceptance Criteria:**\n",
    "  * When the game starts, the text \"You are in the Grand Hall. It is a vast,\n",
    "    echoing chamber.\" is displayed.\n",
    "* **Notes:**\n",
    "  * This initial story will probably lead you to the creation of a `Game`\n",
    "    class.\n",
    "  * Don't be afraid to hardcode data for now.\n",
    "  * Pay attention to the testability of your code. E.g., prefer to have a\n",
    "    method that returns the current output instead of printing directly to\n",
    "    the console."
   ]
  },
  {
   "cell_type": "markdown",
   "id": "4e035067ea573646",
   "metadata": {
    "lang": "en",
    "slideshow": {
     "slide_type": "subslide"
    },
    "tags": [
     "subslide"
    ]
   },
   "source": [
    "\n",
    "#### **Story 2: Moving to a Connected Room**\n",
    "\n",
    "* **As a player, I want to move North from the starting room, so that I can\n",
    "  explore the world.**\n",
    "* **Acceptance Criteria:**\n",
    "  * Given I am in the \"Grand Hall\".\n",
    "  * When I enter the command to move north,\n",
    "  * I see the text \"You are in the Armoury. Racks of dusty weapons line the\n",
    "    walls.\"\n",
    "* **Notes:**\n",
    "  * This may require you to introduce new concepts in the refactoring step.\n",
    "  * Once again, pay attention that you keep the code well-structured and\n",
    "    testable. In particular, separate the logic of moving from any user\n",
    "    interface code you write."
   ]
  },
  {
   "cell_type": "markdown",
   "id": "e4ef197bf796e67e",
   "metadata": {
    "lang": "en",
    "slideshow": {
     "slide_type": "subslide"
    },
    "tags": [
     "subslide"
    ]
   },
   "source": [
    "\n",
    "#### **Story 3: Moving Back and Forth (The \"Triangulation\" Story)**\n",
    "\n",
    "* **As a player, I want to be able to move from the Armoury back to the Grand\n",
    "  Hall, so that I can navigate between rooms.**\n",
    "* **Acceptance Criteria:**\n",
    "  * Given I have moved north into the \"Armoury\".\n",
    "  * When I enter the command to move south,\n",
    "  * I see the text \"You are in the Grand Hall. It is a vast, echoing\n",
    "    chamber.\""
   ]
  },
  {
   "cell_type": "markdown",
   "id": "4f624338d3d67ed0",
   "metadata": {
    "lang": "en",
    "slideshow": {
     "slide_type": "subslide"
    },
    "tags": [
     "subslide"
    ]
   },
   "source": [
    "\n",
    "#### **Story 4: Handling Invalid Moves**\n",
    "\n",
    "* **As a player, I want to be told in which directions I can move.**\n",
    "* **Acceptance Criteria:**\n",
    "  * Given I am in the \"Grand Hall\" and there are exits to the North and\n",
    "    South, but not to the East and West.\n",
    "  * I see an indication that I can only move North or South."
   ]
  },
  {
   "cell_type": "markdown",
   "id": "55d5466c817a77a3",
   "metadata": {
    "lang": "en",
    "slideshow": {
     "slide_type": "slide"
    },
    "tags": [
     "slide"
    ]
   },
   "source": [
    "\n",
    "### **Part 2: Interacting with the World and the Player**\n",
    "\n",
    "This part introduces new verbs and the concept of a player with their own\n",
    "state (inventory)."
   ]
  },
  {
   "cell_type": "markdown",
   "id": "e726b7c8eda32896",
   "metadata": {
    "lang": "en",
    "slideshow": {
     "slide_type": "subslide"
    },
    "tags": [
     "subslide"
    ]
   },
   "source": [
    "\n",
    "#### **Story 5: Investigating a Room**\n",
    "\n",
    "* **As a player, I want to investigate the current room, so that I can find\n",
    "  hidden items.**\n",
    "* **Acceptance Criteria:**\n",
    "  * Given the \"Armoury\" contains a hidden \"rusty sword\".\n",
    "  * When I am in the Armoury and enter the command to investigate.\n",
    "  * I see the text \"You search the room. You found a rusty sword!\"."
   ]
  },
  {
   "cell_type": "markdown",
   "id": "96a1a3396128b6cd",
   "metadata": {
    "lang": "en",
    "slideshow": {
     "slide_type": "subslide"
    },
    "tags": [
     "subslide"
    ]
   },
   "source": [
    "\n",
    "#### **Story 6: Taking a Visible Item**\n",
    "\n",
    "* **As a player, I want to take an item that I have found, so that I can add\n",
    "  it to my inventory.**\n",
    "* **Acceptance Criteria:**\n",
    "  * Given I have investigated the Armoury and found the \"rusty sword\".\n",
    "  * When I enter the command to take the rusty sword.\n",
    "  * The \"rusty sword\" is no longer in the room, and it is now in my\n",
    "    inventory."
   ]
  },
  {
   "cell_type": "markdown",
   "id": "4fcf9f36f8e364cb",
   "metadata": {
    "lang": "en",
    "slideshow": {
     "slide_type": "subslide"
    },
    "tags": [
     "subslide"
    ]
   },
   "source": [
    "\n",
    "#### **Story 7: Remembering Room State**\n",
    "\n",
    "* **As a player, I want rooms to remember their state, so that the world\n",
    "  feels persistent.**\n",
    "* **Acceptance Criteria:**\n",
    "  * Given I have investigated the Armoury, seen a \"rusty sword\" and a \"golden\n",
    "    chalice\", and taken the \"rusty sword\".\n",
    "  * When I move South to the Grand Hall and then move North back to the\n",
    "    Armoury.\n",
    "  * The \"golden chalice\" is still visible, but the \"rusty sword\" is no longer\n",
    "    there.\n",
    "  * If I investigate again, the \"rusty sword\" is not re-discovered."
   ]
  },
  {
   "cell_type": "markdown",
   "id": "292492bfb5054238",
   "metadata": {
    "lang": "en",
    "lines_to_next_cell": 2,
    "slideshow": {
     "slide_type": "slide"
    },
    "tags": [
     "slide"
    ]
   },
   "source": [
    "\n",
    "### **Part 3: The Architectural Leap (towards Hexagonal Architecture)**\n",
    "\n",
    "This part focuses on decoupling the core game logic from the user interface.\n",
    "These kinds of developer stories should only be used rarely in real projects,\n",
    "but we use them here to push towards a clean/hexagonal architecture."
   ]
  },
  {
   "cell_type": "markdown",
   "id": "f8d07dab925836b7",
   "metadata": {
    "lang": "en",
    "slideshow": {
     "slide_type": "subslide"
    },
    "tags": [
     "subslide"
    ]
   },
   "source": [
    "\n",
    "#### **Story 8: The Purity Refactor (A Developer Story)**\n",
    "\n",
    "* **As a developer, I want to test the game's logic without caring about the\n",
    "  console text, so that I can create an AI \"bot\" that can play the game by\n",
    "  reading its state.**\n",
    "* **Acceptance Criteria:**\n",
    "  * The core Game engine should provide a raw data representation of the\n",
    "    current game state (e.g., a dictionary or a Data Transfer Object).\n",
    "  * This data object should contain the room description, the path to the\n",
    "    room's image, the available choices, and the player's inventory.\n",
    "  * A separate component (an **Adapter**) should be responsible for taking\n",
    "    this data object and formatting it into the user-facing string for the\n",
    "    console."
   ]
  },
  {
   "cell_type": "markdown",
   "id": "092b397c84a3664c",
   "metadata": {
    "lang": "en",
    "slideshow": {
     "slide_type": "subslide"
    },
    "tags": [
     "subslide"
    ]
   },
   "source": [
    "\n",
    "#### **Story 9: Adding Visuals Easily**\n",
    "\n",
    "* **As a player, I want to see an image for each room, so that the game is\n",
    "  more immersive.**\n",
    "* **Acceptance Criteria:**\n",
    "  * Given each room has an associated mage.\n",
    "  * When I enter a room, the image for that room is displayed above its\n",
    "    description."
   ]
  }
 ],
 "metadata": {
  "kernelspec": {
   "display_name": "C++17",
   "language": "C++17",
   "name": "xcpp17"
  },
  "language_info": {
   "codemirror_mode": "text/x-c++src",
   "file_extension": ".cpp",
   "mimetype": "text/x-c++src",
   "name": "c++",
   "version": "17"
  }
 },
 "nbformat": 4,
 "nbformat_minor": 5
}
