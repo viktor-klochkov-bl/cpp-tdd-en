{
 "cells": [
  {
   "cell_type": "markdown",
   "id": "f90aa99fc606fab0",
   "metadata": {
    "lang": "en",
    "lines_to_next_cell": 2,
    "slideshow": {
     "slide_type": "slide"
    },
    "tags": [
     "slide"
    ]
   },
   "source": [
    "\n",
    "<img src=\"data:image/png;base64,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\"\n",
    "     style=\"display:block;margin:auto;width:5%\"/>\n",
    "<br>\n",
    "\n",
    "<div style=\"text-align:center; font-size:200%;\">\n",
    "  <b>What are Good Tests?</b>\n",
    "</div>\n",
    "<br/>\n",
    "<div style=\"text-align:center; font-size:120%;\">Dr. Matthias Hölzl</div>\n",
    "<br/>\n",
    "<div style=\"text-align:center;\">Coding-Academy Munich</div>\n",
    "<br/>\n",
    "<!-- 03 What are Good Tests.ipynb -->\n",
    "<!-- slides/module_410_unit_testing/topic_130_good_tests.cpp -->"
   ]
  },
  {
   "cell_type": "markdown",
   "id": "796fedbba61cb19f",
   "metadata": {
    "slideshow": {
     "slide_type": "subslide"
    },
    "tags": [
     "subslide"
    ]
   },
   "source": [
    "\n",
    "<img src=\"img/velocity-tests-03.png\"\n",
    "     alt=\"Velocity vs. Tests 3\"\n",
    "     style=\"width: 75%; margin-left: auto; margin-right: auto;\"/>"
   ]
  },
  {
   "cell_type": "markdown",
   "id": "b3a2c7797b8825d5",
   "metadata": {
    "lang": "en",
    "slideshow": {
     "slide_type": "subslide"
    },
    "tags": [
     "subslide"
    ]
   },
   "source": [
    "\n",
    "<ul>\n",
    "<li class=\"fragment\">Shows many errors/regressions in the Code</li>\n",
    "<li class=\"fragment\">Is robust, easy to maintain and understand</li>\n",
    "<li class=\"fragment\"><b>Is insensitive to refactoring</b></li>\n",
    "<li class=\"fragment\">Gives fast feedback</li>\n",
    "<li class=\"fragment\">Is deterministic</li>\n",
    "</ul>\n",
    "\n",
    "<p class=\"fragment\">\n",
    "  Unfortunately, these properties are often in conflict with each\n",
    "  other!\n",
    "</p>"
   ]
  },
  {
   "cell_type": "markdown",
   "id": "d99026ed689ec02a",
   "metadata": {
    "lang": "en",
    "slideshow": {
     "slide_type": "subslide"
    },
    "tags": [
     "subslide"
    ]
   },
   "source": [
    "\n",
    "## Showing errors/regressions\n",
    "\n",
    "### Influences\n",
    "\n",
    "<ul>\n",
    "  <li class=\"fragment\">Amount of code covered</li>\n",
    "  <li class=\"fragment\">Complexity of code covered</li>\n",
    "  <li class=\"fragment\">Interaction with external systems</li>\n",
    "  <li class=\"fragment\">Significance of code covered for the domain/system</li>\n",
    "</ul>"
   ]
  },
  {
   "cell_type": "code",
   "execution_count": null,
   "id": "71a12c6d97d810e7",
   "metadata": {
    "slideshow": {
     "slide_type": "subslide"
    },
    "tags": [
     "keep",
     "subslide"
    ]
   },
   "outputs": [],
   "source": [
    "#include <iostream>\n",
    "#include <string>"
   ]
  },
  {
   "cell_type": "code",
   "execution_count": null,
   "id": "3e25c6fea0338f6a",
   "metadata": {
    "tags": [
     "keep"
    ]
   },
   "outputs": [],
   "source": [
    "class Item\n",
    "{\n",
    "private:\n",
    "    std::string name;\n",
    "    double price; // always positive\n",
    "\n",
    "public:\n",
    "    Item(std::string name, double price) : name{name} { setPrice(price); }\n",
    "\n",
    "    std::string getName() const { return name; }\n",
    "\n",
    "    double getPrice() const { return price; }\n",
    "    void setPrice(double value);\n",
    "};"
   ]
  },
  {
   "cell_type": "code",
   "execution_count": null,
   "id": "bf3d8b0070d0eb3d",
   "metadata": {
    "slideshow": {
     "slide_type": "subslide"
    },
    "tags": [
     "subslide",
     "keep"
    ]
   },
   "outputs": [],
   "source": [
    "void Item::setPrice(double value)\n",
    "{\n",
    "    if (value < 0)\n",
    "    {\n",
    "        value = -value;\n",
    "    }\n",
    "    price = value;\n",
    "}"
   ]
  },
  {
   "cell_type": "code",
   "execution_count": null,
   "id": "b6ebf1a21e1c9e61",
   "metadata": {
    "tags": [
     "keep"
    ]
   },
   "outputs": [],
   "source": [
    "namespace std\n",
    "{\n",
    "std::ostream& operator<<(std::ostream& os, const Item& item)\n",
    "{\n",
    "    os << \"Item(\" << item.getName() << \", \" << item.getPrice() << \")\";\n",
    "    return os;\n",
    "}\n",
    "} // namespace std"
   ]
  },
  {
   "cell_type": "code",
   "execution_count": null,
   "id": "888f20ee881932bb",
   "metadata": {
    "slideshow": {
     "slide_type": "subslide"
    },
    "tags": [
     "subslide",
     "keep"
    ]
   },
   "outputs": [],
   "source": [
    "#include <initializer_list>\n",
    "#include <vector>"
   ]
  },
  {
   "cell_type": "code",
   "execution_count": null,
   "id": "86493d3fba298113",
   "metadata": {
    "tags": [
     "keep"
    ]
   },
   "outputs": [],
   "source": [
    "class Order\n",
    "{\n",
    "private:\n",
    "    std::vector<Item> items;\n",
    "\n",
    "public:\n",
    "    Order(std::initializer_list<Item> itemList) : items{itemList} {}\n",
    "\n",
    "    std::vector<Item> getItems() const { return items; }\n",
    "    double getTotal() const;\n",
    "};"
   ]
  },
  {
   "cell_type": "code",
   "execution_count": null,
   "id": "5ec148fefd44b3d3",
   "metadata": {
    "slideshow": {
     "slide_type": "subslide"
    },
    "tags": [
     "subslide",
     "keep"
    ]
   },
   "outputs": [],
   "source": [
    "#include <numeric>"
   ]
  },
  {
   "cell_type": "code",
   "execution_count": null,
   "id": "1ca41de6950f7664",
   "metadata": {
    "tags": [
     "keep"
    ]
   },
   "outputs": [],
   "source": [
    "double Order::getTotal() const\n",
    "{\n",
    "    return std::accumulate(\n",
    "        items.begin(), items.end(), 0.0,\n",
    "        [](double sum, const Item& item) { return sum + item.getPrice(); }\n",
    "    );\n",
    "}"
   ]
  },
  {
   "cell_type": "code",
   "execution_count": null,
   "id": "ac87e7301142cd10",
   "metadata": {
    "slideshow": {
     "slide_type": "subslide"
    },
    "tags": [
     "subslide",
     "keep"
    ]
   },
   "outputs": [],
   "source": [
    "namespace std\n",
    "{\n",
    "std::ostream& operator<<(std::ostream& os, const Order& order)\n",
    "{\n",
    "    os << \"Order(\";\n",
    "    std::string sep{\"\"};\n",
    "    for (const auto& item : order.getItems())\n",
    "    {\n",
    "        os << sep << item;\n",
    "        sep = \", \";\n",
    "    }\n",
    "    os << \"), total = \" << order.getTotal();\n",
    "    return os;\n",
    "}\n",
    "} // namespace std"
   ]
  },
  {
   "cell_type": "code",
   "execution_count": null,
   "id": "a0ee650c342d197c",
   "metadata": {
    "slideshow": {
     "slide_type": "subslide"
    },
    "tags": [
     "subslide",
     "keep"
    ]
   },
   "outputs": [],
   "source": [
    "#include <iostream>"
   ]
  },
  {
   "cell_type": "code",
   "execution_count": null,
   "id": "8ea3508a5f096579",
   "metadata": {},
   "outputs": [],
   "source": [
    "void check(bool condition, std::string message = \"Test failed!\")\n",
    "{\n",
    "    if (!condition)\n",
    "    {\n",
    "        std::cerr << message << \"\\n\";\n",
    "    }\n",
    "}"
   ]
  },
  {
   "cell_type": "code",
   "execution_count": null,
   "id": "e07617bc1643500f",
   "metadata": {},
   "outputs": [],
   "source": [
    "void testItemName()\n",
    "{\n",
    "    Item unit{\"Apple\", 1.0};\n",
    "\n",
    "    check(unit.getName() == \"Apple\");\n",
    "    std::cout << \"Success.\\n\";\n",
    "}"
   ]
  },
  {
   "cell_type": "code",
   "execution_count": null,
   "id": "89cfb2f33d8ecc0b",
   "metadata": {},
   "outputs": [],
   "source": [
    "testItemName();"
   ]
  },
  {
   "cell_type": "code",
   "execution_count": null,
   "id": "95a50bee02e36659",
   "metadata": {
    "slideshow": {
     "slide_type": "subslide"
    },
    "tags": [
     "subslide"
    ]
   },
   "outputs": [],
   "source": [
    "void testOrderTotal()\n",
    "{\n",
    "    Order unit{\n",
    "        {\"Apple\", 1.0},\n",
    "        {\"Banana\", -2.0},\n",
    "    };\n",
    "\n",
    "    double total{unit.getTotal()};\n",
    "\n",
    "    check(total == 3.0);\n",
    "    std::cout << \"Success!\\n\";\n",
    "}"
   ]
  },
  {
   "cell_type": "code",
   "execution_count": null,
   "id": "025a22758e42435b",
   "metadata": {},
   "outputs": [],
   "source": [
    "testOrderTotal();"
   ]
  },
  {
   "cell_type": "code",
   "execution_count": null,
   "id": "e816c48539d0dee8",
   "metadata": {},
   "outputs": [],
   "source": [
    "#include <sstream>"
   ]
  },
  {
   "cell_type": "code",
   "execution_count": null,
   "id": "38a8232905ecb8dd",
   "metadata": {
    "slideshow": {
     "slide_type": "subslide"
    },
    "tags": [
     "subslide"
    ]
   },
   "outputs": [],
   "source": [
    "void testOrderOutput()\n",
    "{\n",
    "    Order unit{\n",
    "        {\"Apple\", 1.0},\n",
    "        {\"Banana\", -2.0},\n",
    "    };\n",
    "    std::stringstream ss;\n",
    "\n",
    "    ss << unit;\n",
    "\n",
    "    check(ss.str() == \"Order(Item(Apple, 1), Item(Banana, 2)), total = 3\");\n",
    "    std::cout << \"Success!\\n\";\n",
    "}"
   ]
  },
  {
   "cell_type": "code",
   "execution_count": null,
   "id": "4c71eac03fcc7b6f",
   "metadata": {},
   "outputs": [],
   "source": [
    "testOrderOutput();"
   ]
  },
  {
   "cell_type": "markdown",
   "id": "26906820fbec0a71",
   "metadata": {
    "lang": "en",
    "slideshow": {
     "slide_type": "subslide"
    },
    "tags": [
     "subslide"
    ]
   },
   "source": [
    "\n",
    "## Easy to maintain\n",
    "\n",
    "<ul>\n",
    "  <li>Simple, standardized structure\n",
    "    <table style=\"display:inline;margin:20px 20px;\">\n",
    "    <tr><td style=\"text-align:left;width:60px;padding-left:15px;\">Arrange</td>\n",
    "        <td style=\"text-align:left;width:60px;padding-left:15px;border-left:1px solid black;\">Given</td>\n",
    "        <td style=\"text-align:left;width:300px;padding-left:15px;border-left:1px solid black;\">\n",
    "          Prepare the test environment</td></tr>\n",
    "    <tr><td style=\"text-align:left;padding-left:15px;\">Act</td>\n",
    "        <td style=\"text-align:left;width:60px;padding-left:15px;border-left:1px solid black;\">\n",
    "           When</td>\n",
    "        <td style=\"text-align:left;width:300px;padding-left:15px;border-left:1px solid black;\">\n",
    "           Execute the action for the test (if any)</td></tr>\n",
    "    <tr><td style=\"text-align:left;padding-left:15px;\">Assert</td>\n",
    "        <td style=\"text-align:left;width:60px;padding-left:15px;border-left:1px solid black;\">\n",
    "           Then</td>\n",
    "        <td style=\"text-align:left;width:300px;padding-left:15px;border-left:1px solid black;\">\n",
    "           Check the results of the action/setup</td></tr>\n",
    "    </table>\n",
    "  </li>\n",
    "  <li>Little code\n",
    "    <ul>\n",
    "      <li>Little boilerplate</li>\n",
    "      <li>Factories, etc. for tests</li>\n",
    "    </ul>\n",
    "  </li>\n",
    "</ul>"
   ]
  },
  {
   "cell_type": "markdown",
   "id": "4e73e6e11eaaaf58",
   "metadata": {
    "lang": "en",
    "slideshow": {
     "slide_type": "subslide"
    },
    "tags": [
     "subslide"
    ]
   },
   "source": [
    "\n",
    "## Insensitive to refactoring\n",
    "\n",
    "- Few false positives!\n",
    "- Typically present or not, few intermediate stages\n",
    "\n",
    "### Influences\n",
    "\n",
    "- Relation to domain/system\n",
    "- Access to internal structures"
   ]
  },
  {
   "cell_type": "code",
   "execution_count": null,
   "id": "bf3dd13efc15e763",
   "metadata": {
    "slideshow": {
     "slide_type": "subslide"
    },
    "tags": [
     "subslide"
    ]
   },
   "outputs": [],
   "source": [
    "#define private public"
   ]
  },
  {
   "cell_type": "code",
   "execution_count": null,
   "id": "a82f74bb76f55c16",
   "metadata": {
    "tags": [
     "keep"
    ]
   },
   "outputs": [],
   "source": [
    "class VeryPrivate\n",
    "{\n",
    "private:\n",
    "    int secret{42};\n",
    "};"
   ]
  },
  {
   "cell_type": "code",
   "execution_count": null,
   "id": "26516937f3735647",
   "metadata": {},
   "outputs": [],
   "source": [
    "#undef private"
   ]
  },
  {
   "cell_type": "code",
   "execution_count": null,
   "id": "deaa01af9dda7988",
   "metadata": {
    "lines_to_next_cell": 2,
    "slideshow": {
     "slide_type": "subslide"
    },
    "tags": [
     "subslide"
    ]
   },
   "outputs": [],
   "source": [
    "void testVeryPrivate()\n",
    "{\n",
    "    VeryPrivate unit;\n",
    "\n",
    "    check(unit.secret == 42);\n",
    "    std::cout << \"Success!\\n\";\n",
    "}"
   ]
  },
  {
   "cell_type": "code",
   "execution_count": null,
   "id": "89a0a45a6cfd0425",
   "metadata": {},
   "outputs": [],
   "source": [
    "testVeryPrivate();"
   ]
  },
  {
   "cell_type": "markdown",
   "id": "8d7944395a030e07",
   "metadata": {
    "lang": "en",
    "slideshow": {
     "slide_type": "subslide"
    },
    "tags": [
     "subslide"
    ]
   },
   "source": [
    "\n",
    "## Fast feedback\n",
    "\n",
    "### Influences\n",
    "\n",
    "- Amount of code covered\n",
    "- Complexity/number of iterations of code covered\n",
    "- Interaction with external systems"
   ]
  },
  {
   "cell_type": "markdown",
   "id": "da13eb565a8491b5",
   "metadata": {
    "lang": "en",
    "slideshow": {
     "slide_type": "subslide"
    },
    "tags": [
     "subslide"
    ]
   },
   "source": [
    "\n",
    "## Deterministic\n",
    "\n",
    "<ul>\n",
    "  <li class=\"fragment\">Same code always leads to the same result</li>\n",
    "  <li class=\"fragment\">Reasons for non-determinism\n",
    "    <ul>\n",
    "      <li class=\"fragment\">Random numbers</li>\n",
    "      <li class=\"fragment\">Time/date</li>\n",
    "      <li class=\"fragment\">Interaction with external systems</li>\n",
    "      <li class=\"fragment\">Uninitialized variables</li>\n",
    "      <li class=\"fragment\">Communication between tests</li>\n",
    "    </ul>\n",
    "  </li>\n",
    "  <li class=\"fragment\">\n",
    "     Tests that produce false warnings are not helpful but harmful!\n",
    "  </li>\n",
    "<ul>"
   ]
  },
  {
   "cell_type": "code",
   "execution_count": null,
   "id": "1a26eb527fffaea6",
   "metadata": {
    "slideshow": {
     "slide_type": "subslide"
    },
    "tags": [
     "subslide",
     "keep"
    ]
   },
   "outputs": [],
   "source": [
    "#include <iostream>\n",
    "#include <string>\n",
    "#include <chrono>\n",
    "#include <ctime>"
   ]
  },
  {
   "cell_type": "code",
   "execution_count": null,
   "id": "6c94e1bed3637221",
   "metadata": {
    "tags": [
     "keep"
    ]
   },
   "outputs": [],
   "source": [
    "std::string getCurrentDateAsString() {\n",
    "    auto now = std::chrono::system_clock::now();\n",
    "    std::time_t currentTime = std::chrono::system_clock::to_time_t(now);\n",
    "    std::tm* localTime = std::localtime(&currentTime);\n",
    "    char buffer[80];\n",
    "    std::strftime(buffer, sizeof(buffer), \"%Y-%m-%d\", localTime);\n",
    "\n",
    "    return std::string(buffer);\n",
    "}"
   ]
  },
  {
   "cell_type": "code",
   "execution_count": null,
   "id": "eb67cdfb255d23c2",
   "metadata": {},
   "outputs": [],
   "source": [
    "void testDateBad()\n",
    "{\n",
    "    check(getCurrentDateAsString() == \"2025-06-23\");\n",
    "    std::cout << \"Success!\\n\";\n",
    "}"
   ]
  },
  {
   "cell_type": "code",
   "execution_count": null,
   "id": "234b72867a1d89c4",
   "metadata": {},
   "outputs": [],
   "source": [
    "testDateBad();"
   ]
  },
  {
   "cell_type": "markdown",
   "id": "7fb6b98f30477725",
   "metadata": {
    "lang": "en",
    "slideshow": {
     "slide_type": "subslide"
    },
    "tags": [
     "subslide"
    ]
   },
   "source": [
    "\n",
    "### Split functionality"
   ]
  },
  {
   "cell_type": "code",
   "execution_count": null,
   "id": "bb5a9a5f37842021",
   "metadata": {
    "tags": [
     "keep"
    ]
   },
   "outputs": [],
   "source": [
    "std::string formatDateAsString(const std::chrono::system_clock::time_point& timePoint) {\n",
    "    std::time_t time = std::chrono::system_clock::to_time_t(timePoint);\n",
    "    std::tm* localTime = std::localtime(&time);\n",
    "    char buffer[80];\n",
    "    std::strftime(buffer, sizeof(buffer), \"%Y-%m-%d\", localTime);\n",
    "    return std::string(buffer);\n",
    "}"
   ]
  },
  {
   "cell_type": "code",
   "execution_count": null,
   "id": "0eebaa2bc6f66fc8",
   "metadata": {},
   "outputs": [],
   "source": [
    "std::string getCurrentDateAsStringBetter() {\n",
    "    return formatDateAsString(std::chrono::system_clock::now());\n",
    "}"
   ]
  },
  {
   "cell_type": "markdown",
   "id": "d655b11e64d3d92e",
   "metadata": {
    "lang": "en",
    "slideshow": {
     "slide_type": "subslide"
    },
    "tags": [
     "subslide"
    ]
   },
   "source": [
    "\n",
    "### Better test"
   ]
  },
  {
   "cell_type": "code",
   "execution_count": null,
   "id": "425fe5814ccec951",
   "metadata": {
    "tags": [
     "keep"
    ]
   },
   "outputs": [],
   "source": [
    "constexpr int testDate{1750000000}; // 2025-06-15 in seconds since epoch"
   ]
  },
  {
   "cell_type": "code",
   "execution_count": null,
   "id": "218d6360a0e57d6b",
   "metadata": {
    "tags": [
     "keep"
    ]
   },
   "outputs": [],
   "source": [
    "const std::chrono::system_clock::time_point fixedTime{\n",
    "        std::chrono::system_clock::from_time_t(testDate)\n",
    "}; // 2025-06-15 as time_point"
   ]
  },
  {
   "cell_type": "code",
   "execution_count": null,
   "id": "dd12a445d2b5c580",
   "metadata": {
    "tags": [
     "keep"
    ]
   },
   "outputs": [],
   "source": [
    "const std::string expectedDateString{\"2025-06-15\"};"
   ]
  },
  {
   "cell_type": "code",
   "execution_count": null,
   "id": "eaddb7d0793b8b6d",
   "metadata": {
    "slideshow": {
     "slide_type": "subslide"
    },
    "tags": [
     "subslide"
    ]
   },
   "outputs": [],
   "source": [
    "std::cout << formatDateAsString(fixedTime);"
   ]
  },
  {
   "cell_type": "code",
   "execution_count": null,
   "id": "2e472ec08f9eed8c",
   "metadata": {},
   "outputs": [],
   "source": [
    "void testDateBetter()\n",
    "{\n",
    "    check(formatDateAsString(fixedTime) == expectedDateString);\n",
    "    std::cout << \"Success!\\n\";\n",
    "}"
   ]
  },
  {
   "cell_type": "code",
   "execution_count": null,
   "id": "92cfbe1c70cd7203",
   "metadata": {},
   "outputs": [],
   "source": [
    "testDateBetter();"
   ]
  },
  {
   "cell_type": "code",
   "execution_count": null,
   "id": "891b037f7d1eb8f9",
   "metadata": {
    "slideshow": {
     "slide_type": "subslide"
    },
    "tags": [
     "keep",
     "subslide"
    ]
   },
   "outputs": [],
   "source": [
    "std::string formatDateTimeAsString(const std::chrono::system_clock::time_point& timePoint) {\n",
    "    std::time_t time = std::chrono::system_clock::to_time_t(timePoint);\n",
    "    std::tm* localTime = std::localtime(&time);\n",
    "    char buffer[80];\n",
    "    std::strftime(buffer, sizeof(buffer), \"%Y-%m-%d %H:%M:%S\", localTime);\n",
    "    return std::string(buffer);\n",
    "}"
   ]
  },
  {
   "cell_type": "code",
   "execution_count": null,
   "id": "1c89b00eda495750",
   "metadata": {
    "tags": [
     "keep"
    ]
   },
   "outputs": [],
   "source": [
    "const std::string expectedDateTimeString{\"2025-06-15 15:06:40\"};"
   ]
  },
  {
   "cell_type": "code",
   "execution_count": null,
   "id": "f63f693cc96cf89f",
   "metadata": {
    "lines_to_next_cell": 2,
    "tags": [
     "keep"
    ]
   },
   "outputs": [],
   "source": [
    "formatDateTimeAsString(std::chrono::system_clock::now())"
   ]
  },
  {
   "cell_type": "code",
   "execution_count": null,
   "id": "c3b3cc34bd3f4d3d",
   "metadata": {},
   "outputs": [],
   "source": [
    "formatDateTimeAsString(fixedTime)"
   ]
  },
  {
   "cell_type": "code",
   "execution_count": null,
   "id": "05e483842163e07d",
   "metadata": {
    "slideshow": {
     "slide_type": "subslide"
    },
    "tags": [
     "subslide",
     "keep"
    ]
   },
   "outputs": [],
   "source": [
    "void testDateTime()\n",
    "{\n",
    "    check(formatDateTimeAsString(fixedTime) == expectedDateTimeString);\n",
    "    std::cout << \"Success!\\n\";\n",
    "}"
   ]
  },
  {
   "cell_type": "code",
   "execution_count": null,
   "id": "e91c0d08dae3fb7a",
   "metadata": {},
   "outputs": [],
   "source": [
    "testDateTime()"
   ]
  },
  {
   "cell_type": "markdown",
   "id": "3ca8c362a7df809e",
   "metadata": {
    "lang": "en",
    "slideshow": {
     "slide_type": "subslide"
    },
    "tags": [
     "subslide"
    ]
   },
   "source": [
    "\n",
    "The following influences are in conflict with each other:\n",
    "\n",
    "- Detecting errors/regressions\n",
    "- Fast feedback\n",
    "- Insensitive to refactoring\n",
    "\n",
    "The quality of a test depends on the *product* of these factors!"
   ]
  },
  {
   "cell_type": "markdown",
   "id": "71a965026c4d0ab9",
   "metadata": {
    "lang": "en",
    "slideshow": {
     "slide_type": "subslide"
    },
    "tags": [
     "subslide"
    ]
   },
   "source": [
    "\n",
    "## How do we find the trade-off?\n",
    "\n",
    "- Insensitive to refactoring can *never* be sacrificed\n",
    "- So we have to find a compromise between\n",
    "  - Detecting errors/regressions\n",
    "  - Fast feedback\n",
    "\n",
    "### Typically\n",
    "\n",
    "- Fast feedback for most tests (unit tests)\n",
    "- Thorough error detection for fewer tests (integration tests)"
   ]
  }
 ],
 "metadata": {
  "kernelspec": {
   "display_name": "C++17",
   "language": "C++17",
   "name": "xcpp17"
  },
  "language_info": {
   "codemirror_mode": "text/x-c++src",
   "file_extension": ".cpp",
   "mimetype": "text/x-c++src",
   "name": "c++",
   "version": "17"
  }
 },
 "nbformat": 4,
 "nbformat_minor": 5
}
