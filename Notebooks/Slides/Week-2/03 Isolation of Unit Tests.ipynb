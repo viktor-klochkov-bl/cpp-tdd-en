{
 "cells": [
  {
   "cell_type": "markdown",
   "id": "f90707cc48387463",
   "metadata": {
    "lang": "en",
    "lines_to_next_cell": 2,
    "slideshow": {
     "slide_type": "slide"
    },
    "tags": [
     "slide"
    ]
   },
   "source": [
    "\n",
    "<img src=\"data:image/png;base64,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\"\n",
    "     style=\"display:block;margin:auto;width:5%\"/>\n",
    "<br>\n",
    "\n",
    "<div style=\"text-align:center; font-size:200%;\">\n",
    "  <b>Isolation of Unit Tests</b>\n",
    "</div>\n",
    "<br/>\n",
    "<div style=\"text-align:center; font-size:120%;\">Dr. Matthias Hölzl</div>\n",
    "<br/>\n",
    "<div style=\"text-align:center;\">Coding-Academy Munich</div>\n",
    "<br/>\n",
    "<!-- 03 Isolation of Unit Tests.ipynb -->\n",
    "<!-- slides/module_410_unit_testing/topic_160_test_isolation.cpp -->"
   ]
  },
  {
   "cell_type": "markdown",
   "id": "46f1b6dd7a7e9efe",
   "metadata": {
    "lang": "en",
    "slideshow": {
     "slide_type": "subslide"
    },
    "tags": [
     "subslide"
    ]
   },
   "source": [
    "\n",
    "## Unit Test: A Definition\n",
    "\n",
    "- Tests a small piece of code (a **\"unit\"**)\n",
    "- Runs quickly\n",
    "- Is **isolated**"
   ]
  },
  {
   "cell_type": "markdown",
   "id": "ff360ef589593d77",
   "metadata": {
    "lang": "en",
    "slideshow": {
     "slide_type": "subslide"
    },
    "tags": [
     "subslide"
    ]
   },
   "source": [
    "\n",
    "## What is a \"Unit\"?\n",
    "\n",
    "- **A Behavior (Chicago/Classicist School):**\n",
    "  - A \"Unit of Behavior\".\n",
    "  - Often a group of collaborating classes that achieve a specific outcome.\n",
    "  - Focuses on the *outcome* of an operation.\n",
    "\n",
    "- **A Class (London/Mockist School):**\n",
    "  - A \"Unit of Code\", typically a single class.\n",
    "  - Focuses on the *interactions* of a class with its dependencies."
   ]
  },
  {
   "cell_type": "markdown",
   "id": "0f74daf947dafd52",
   "metadata": {
    "lang": "en",
    "slideshow": {
     "slide_type": "subslide"
    },
    "tags": [
     "subslide"
    ]
   },
   "source": [
    "\n",
    "## What does \"isolated\" test mean?\n",
    "\n",
    "- **Isolation between test cases (Chicago School):**\n",
    "  - No test influences the outcome of another test.\n",
    "  - Tests can be run in parallel and in any order.\n",
    "  - Uses real objects as dependencies as long as they are fast and deterministic.\n",
    "\n",
    "- **Isolation of the unit under test (London School):**\n",
    "  - The class under test is isolated from the rest of the *production system*.\n",
    "  - All dependencies are replaced by test doubles (especially mocks)."
   ]
  },
  {
   "cell_type": "markdown",
   "id": "01c595316cc12f4d",
   "metadata": {
    "lang": "en",
    "slideshow": {
     "slide_type": "slide"
    },
    "tags": [
     "slide"
    ]
   },
   "source": [
    "## Trade-offs: Chicago (Classicist) vs. London (Mockist)\n",
    "\n",
    "|Feature                  |Chicago School (Classicist)                                  |London School (Mockist)                                     |\n",
    "|-------------------------|-------------------------------------------------------------|------------------------------------------------------------|\n",
    "|**Focus**                |State Verification                                           |Behavior Verification                                       |\n",
    "|**Unit Under Test**      |A behavior (often multiple classes)                          |A single class                                              |\n",
    "|**Test Doubles**         |Sparingly, for \"inconvenient\" dependencies (Stubs, Fakes)    |Extensively, for all dependencies (Mocks)                   |\n",
    "|**Strengths**            |- Tests are resilient to refactoring                         |- Precise defect localization                               |\n",
    "|                         |- Higher confidence in integration                           |- Drives decoupled design (Dependency Inversion)            |\n",
    "|**Weaknesses**           |- Defect localization can be hard (cascading failures)       |- Tests are brittle to refactoring                          |\n",
    "|                         |- Can require complex test setup                             |- Potential for integration gaps                            |\n",
    "|**Design Direction**     |Often Inside-Out                                             | Often Outside-In                                           |"
   ]
  },
  {
   "cell_type": "markdown",
   "id": "7d3b1035c196e7f3",
   "metadata": {
    "lang": "en",
    "slideshow": {
     "slide_type": "slide"
    },
    "tags": [
     "slide"
    ]
   },
   "source": [
    "\n",
    "## Example: Detroit/Chicago School\n",
    "\n",
    "- The `TicketOffice` class is tested together with the real `Event` class.\n",
    "- The test verifies the *state* after the purchase."
   ]
  },
  {
   "cell_type": "code",
   "execution_count": null,
   "id": "f6fea3318349298b",
   "metadata": {
    "slideshow": {
     "slide_type": "subslide"
    },
    "tags": [
     "keep",
     "subslide"
    ]
   },
   "outputs": [],
   "source": [
    "#include <iostream>\n",
    "#include <stdexcept>\n",
    "#include <string>\n",
    "#include <unordered_map>\n",
    "#include <vector>\n",
    "#include <memory>\n",
    "#include <map>\n",
    "#include \"check.h\""
   ]
  },
  {
   "cell_type": "code",
   "execution_count": null,
   "id": "d5fd07c44b407f74",
   "metadata": {
    "slideshow": {
     "slide_type": "subslide"
    },
    "tags": [
     "keep",
     "subslide"
    ]
   },
   "outputs": [],
   "source": [
    "namespace classicist {\n",
    "class Event\n",
    "{\n",
    "private:\n",
    "    std::string name{\"Unnamed Event\"};\n",
    "    int capacity{};\n",
    "\n",
    "public:\n",
    "    Event() = default;\n",
    "    Event(std::string name, int capacity) : name{name}, capacity{capacity} {}\n",
    "\n",
    "    std::string get_name() const { return name; }\n",
    "    int get_capacity() const { return capacity; }\n",
    "    void purchase(int num_tickets) {\n",
    "        if (num_tickets > capacity) {\n",
    "            throw std::runtime_error(\"Not enough capacity\");\n",
    "        }\n",
    "        capacity -= num_tickets;\n",
    "    }\n",
    "};\n",
    "} // namespace classicist"
   ]
  },
  {
   "cell_type": "code",
   "execution_count": null,
   "id": "4a0bc764bcdcd4b2",
   "metadata": {
    "slideshow": {
     "slide_type": "subslide"
    },
    "tags": [
     "keep",
     "subslide"
    ]
   },
   "outputs": [],
   "source": [
    "namespace classicist {\n",
    "class TicketOffice\n",
    "{\n",
    "private:\n",
    "    std::unordered_map<std::string, Event> events;\n",
    "\n",
    "public:\n",
    "    void add_event(Event event) { events[event.get_name()] = event; }\n",
    "    Event get_event(const std::string& event_name) const { return events.at(event_name); }\n",
    "    bool purchase_tickets(const std::string& event_name, int num_tickets) {\n",
    "        if (events.count(event_name)) {\n",
    "            try {\n",
    "                events.at(event_name).purchase(num_tickets);\n",
    "                return true;\n",
    "            } catch (const std::runtime_error&) {\n",
    "                return false;\n",
    "            }\n",
    "        }\n",
    "        return false;\n",
    "    }\n",
    "};\n",
    "} // namespace classicist"
   ]
  },
  {
   "cell_type": "code",
   "execution_count": null,
   "id": "8982416733229c78",
   "metadata": {
    "slideshow": {
     "slide_type": "subslide"
    },
    "tags": [
     "subslide"
    ]
   },
   "outputs": [],
   "source": [
    "namespace classicist {\n",
    "void test_purchase_succeeds_and_reduces_capacity()\n",
    "{\n",
    "    // Arrange\n",
    "    TicketOffice office;\n",
    "    office.add_event(Event(\"CppCon\", 100));\n",
    "\n",
    "    // Act\n",
    "    bool result = office.purchase_tickets(\"CppCon\", 10);\n",
    "\n",
    "    // Assert\n",
    "    check(result == true, \"Purchase should succeed\");\n",
    "    check(office.get_event(\"CppCon\").get_capacity() == 90, \"Capacity should be reduced by 10\");\n",
    "}\n",
    "} // namespace classicist"
   ]
  },
  {
   "cell_type": "code",
   "execution_count": null,
   "id": "35a0b94c7da6cb78",
   "metadata": {},
   "outputs": [],
   "source": [
    "classicist::test_purchase_succeeds_and_reduces_capacity();"
   ]
  },
  {
   "cell_type": "markdown",
   "id": "a393272e2b7a669e",
   "metadata": {
    "lang": "en",
    "slideshow": {
     "slide_type": "slide"
    },
    "tags": [
     "slide"
    ]
   },
   "source": [
    "## Example: London School\n",
    "\n",
    "- `TicketOffice` is isolated, `Event` is replaced by a mock.\n",
    "- The test verifies the *interaction* with the mock."
   ]
  },
  {
   "cell_type": "code",
   "execution_count": null,
   "id": "2460c7d378b6d1c6",
   "metadata": {
    "slideshow": {
     "slide_type": "subslide"
    },
    "tags": [
     "keep",
     "subslide"
    ]
   },
   "outputs": [],
   "source": [
    "namespace mockist {\n",
    "class Event {\n",
    "public:\n",
    "    virtual ~Event() = default;\n",
    "    virtual std::string get_name() const = 0;\n",
    "    virtual void purchase(int num_tickets) = 0;\n",
    "};\n",
    "\n",
    "// Actual implementation of Event interface skipped for brevity...\n",
    "} // namespace mockist"
   ]
  },
  {
   "cell_type": "code",
   "execution_count": null,
   "id": "dabfc6b8da3a0950",
   "metadata": {
    "slideshow": {
     "slide_type": "subslide"
    },
    "tags": [
     "subslide",
     "keep"
    ]
   },
   "outputs": [],
   "source": [
    "namespace mockist {\n",
    "class TicketOffice {\n",
    "private:\n",
    "    std::unordered_map<std::string, std::unique_ptr<Event>> events;\n",
    "public:\n",
    "    void add_event(std::unique_ptr<Event> event) {\n",
    "        events[event->get_name()] = std::move(event);\n",
    "    }\n",
    "    Event& get_event(const std::string& event_name) const {\n",
    "        return *events.at(event_name);\n",
    "    }\n",
    "    bool purchase_tickets(const std::string& event_name, int num_tickets) {\n",
    "        if (events.count(event_name)) {\n",
    "            events.at(event_name)->purchase(num_tickets);\n",
    "            return true;\n",
    "        }\n",
    "        return false;\n",
    "    }\n",
    "};\n",
    "} // namespace mockist"
   ]
  },
  {
   "cell_type": "code",
   "execution_count": null,
   "id": "845b9ce28fe56c6b",
   "metadata": {
    "slideshow": {
     "slide_type": "subslide"
    },
    "tags": [
     "subslide",
     "keep"
    ]
   },
   "outputs": [],
   "source": [
    "namespace mockist\n",
    "{\n",
    "class EventMock : public Event {\n",
    "public:\n",
    "    std::vector<int> purchase_call_args;\n",
    "    std::string name = \"CppCon\";\n",
    "\n",
    "    std::string get_name() const override { return name; }\n",
    "    void purchase(int num_tickets) override {\n",
    "        purchase_call_args.push_back(num_tickets);\n",
    "    }\n",
    "};\n",
    "} // namespace mockist"
   ]
  },
  {
   "cell_type": "code",
   "execution_count": null,
   "id": "4a642b4694eaa8ab",
   "metadata": {
    "slideshow": {
     "slide_type": "subslide"
    },
    "tags": [
     "subslide"
    ]
   },
   "outputs": [],
   "source": [
    "namespace mockist\n",
    "{\n",
    "void test_purchase_delegates_to_event()\n",
    "{\n",
    "    // Arrange\n",
    "    TicketOffice office;\n",
    "    auto mock = std::make_unique<EventMock>();\n",
    "    auto* mock_ptr = mock.get(); // Raw pointer for observing\n",
    "    office.add_event(std::move(mock));\n",
    "\n",
    "    // Act\n",
    "    bool result = office.purchase_tickets(\"CppCon\", 10);\n",
    "\n",
    "    // Assert\n",
    "    check(result == true, \"Purchase should succeed\");\n",
    "    check(mock_ptr->purchase_call_args.size() == 1, \"purchase() should be called once\");\n",
    "    check(mock_ptr->purchase_call_args.at(0) == 10, \"purchase() should be called with 10\");\n",
    "}\n",
    "} // namespace mockist"
   ]
  },
  {
   "cell_type": "code",
   "execution_count": null,
   "id": "fa4693120d9525eb",
   "metadata": {},
   "outputs": [],
   "source": [
    "mockist::test_purchase_delegates_to_event();"
   ]
  },
  {
   "cell_type": "markdown",
   "id": "9e23812e606e47ce",
   "metadata": {
    "lang": "en",
    "slideshow": {
     "slide_type": "slide"
    },
    "tags": [
     "slide"
    ]
   },
   "source": [
    "\n",
    "## Recommendation: A Pragmatic Middle Ground\n",
    "\n",
    "The choice between Chicago and London is not dogma, but a context-dependent\n",
    "decision."
   ]
  },
  {
   "cell_type": "markdown",
   "id": "201a3dd7ebf6550c",
   "metadata": {
    "lang": "en",
    "slideshow": {
     "slide_type": "slide"
    },
    "tags": [
     "slide"
    ]
   },
   "source": [
    "\n",
    "- **Use the Chicago (Classicist) style for your core application logic:**\n",
    "  - For domain models, value objects, algorithms.\n",
    "  - Here, the outcome is important, and tests should survive refactoring.\n",
    "\n",
    "- **Use the London (Mockist) style at the boundaries of your system:**\n",
    "  - For controllers, service orchestrators, gateways to external services.\n",
    "  - Here, coordination is the main responsibility, so testing interactions is meaningful."
   ]
  },
  {
   "cell_type": "markdown",
   "id": "ebcd4875d49457a7",
   "metadata": {
    "lang": "en",
    "lines_to_next_cell": 2,
    "slideshow": {
     "slide_type": "slide"
    },
    "tags": [
     "slide"
    ]
   },
   "source": [
    "\n",
    "**The Golden Rule:**\n",
    "\n",
    "- Isolate only when it becomes painful.\n",
    "- Start with the simpler classicist approach\n",
    "- Introduce mocks only when you have a dependency that is\n",
    "  - slow,\n",
    "  - non-deterministic, or\n",
    "  - difficult to set up."
   ]
  },
  {
   "cell_type": "markdown",
   "id": "178295430238f766",
   "metadata": {
    "lang": "en",
    "slideshow": {
     "slide_type": "slide"
    },
    "tags": [
     "slide"
    ]
   },
   "source": [
    "\n",
    "## Workshop: Intelligent Vending Machine\n",
    "\n",
    "- **Goal:** To test a `VendingMachine` that manages its own stock.\n",
    "- We will do this in both the Chicago and London styles.\n",
    "\n",
    "- **Scenario:**\n",
    "  - A `VendingMachine` checks its `Inventory`.\n",
    "  - If an item's stock is low, an `OrderStrategy` is used to determine a\n",
    "    reorder.\n",
    "  - This order is then sent to an `IOrderService`.\n",
    "\n",
    "- **Notes:**\n",
    "  - You can also approach this task using TDD.\n",
    "  - A starter kit is available at `code/starter_kits/vending_machine_sk`."
   ]
  },
  {
   "cell_type": "markdown",
   "id": "866d3415b51fc214",
   "metadata": {
    "lang": "en",
    "slideshow": {
     "slide_type": "subslide"
    },
    "tags": [
     "subslide"
    ]
   },
   "source": [
    "### Part 1: Chicago (Classicist) Style\n",
    "\n",
    "**Task:**\n",
    "- Define the classes as described below.\n",
    "- Use test-driven development.\n",
    "- Try to write the tests in the Chicago style, using real objects and\n",
    "  avoiding mocks where possible."
   ]
  },
  {
   "cell_type": "code",
   "execution_count": null,
   "id": "47dd0005e8aab881",
   "metadata": {
    "slideshow": {
     "slide_type": "subslide"
    },
    "tags": [
     "keep",
     "subslide"
    ]
   },
   "outputs": [],
   "source": [
    "#include <iostream>\n",
    "#include <stdexcept>\n",
    "#include <string>\n",
    "#include <unordered_map>\n",
    "#include <vector>\n",
    "#include <memory>\n",
    "#include <map>\n",
    "#include \"check.h\""
   ]
  },
  {
   "cell_type": "code",
   "execution_count": null,
   "id": "34c722c51d67279b",
   "metadata": {
    "slideshow": {
     "slide_type": "subslide"
    },
    "tags": [
     "subslide",
     "keep"
    ]
   },
   "outputs": [],
   "source": [
    "namespace chicago_vending {\n",
    "struct Item\n",
    "{\n",
    "    std::string name;\n",
    "    int current_stock;\n",
    "    int capacity;\n",
    "};\n",
    "}"
   ]
  },
  {
   "cell_type": "code",
   "execution_count": null,
   "id": "c4b190937cfe9c74",
   "metadata": {
    "tags": [
     "keep"
    ]
   },
   "outputs": [],
   "source": [
    "namespace chicago_vending {\n",
    "using Order = std::map<std::string, int>;\n",
    "}"
   ]
  },
  {
   "cell_type": "markdown",
   "id": "8c2636e9b2b9435c",
   "metadata": {
    "lang": "en",
    "slideshow": {
     "slide_type": "subslide"
    },
    "tags": [
     "subslide"
    ]
   },
   "source": [
    "\n",
    "Define the `Inventory` class, which contains a collection of `Item` objects.\n",
    "It should have the following methods:\n",
    "\n",
    "- `void add_item(const Item& item)`: Adds an `Item` to the inventory.\n",
    "- `const Item& get_item(const std::string& name) const`: Returns an `Item`\n",
    "  by its name. If the `Item` is not found, it should throw an exception.\n",
    "\n",
    "Use TDD to write the code."
   ]
  },
  {
   "cell_type": "code",
   "execution_count": null,
   "id": "edd28026c9e705e3",
   "metadata": {},
   "outputs": [],
   "source": [
    "namespace chicago_vending {\n",
    "class Inventory {\n",
    "public:\n",
    "    std::map<std::string, Item> items;\n",
    "    void add_item(const Item& item) { items[item.name] = item; }\n",
    "    const Item& get_item(const std::string& name) const {\n",
    "        if (items.count(name) == 0) {\n",
    "            throw std::runtime_error(\"Item not found\");\n",
    "        }\n",
    "        return items.at(name);\n",
    "    }\n",
    "};\n",
    "}"
   ]
  },
  {
   "cell_type": "code",
   "execution_count": null,
   "id": "ebaa7013453fb25f",
   "metadata": {},
   "outputs": [],
   "source": [
    "namespace chicago_vending {\n",
    "void test_add_and_get_item() {\n",
    "    // Arrange\n",
    "    Inventory inventory;\n",
    "    Item cola{\"Cola\", 10, 20};\n",
    "    inventory.add_item(cola);\n",
    "    // Act\n",
    "    const Item& retrieved = inventory.get_item(\"Cola\");\n",
    "    // Assert\n",
    "    check(retrieved.name == \"Cola\", \"Item name should match\");\n",
    "    check(retrieved.current_stock == 10, \"Current stock should match\");\n",
    "    check(retrieved.capacity == 20, \"Capacity should match\");\n",
    "\n",
    "    std::cout << \"test_add_and_get_item() passed.\\n\";\n",
    "}\n",
    "}"
   ]
  },
  {
   "cell_type": "code",
   "execution_count": null,
   "id": "478dedc76b6ba394",
   "metadata": {},
   "outputs": [],
   "source": [
    "chicago_vending::test_add_and_get_item();"
   ]
  },
  {
   "cell_type": "markdown",
   "id": "4dbb838c8bd7a5d5",
   "metadata": {
    "lang": "en",
    "slideshow": {
     "slide_type": "subslide"
    },
    "tags": [
     "subslide"
    ]
   },
   "source": [
    "\n",
    "Define the `OrderStrategy` class, which has the following method:\n",
    "\n",
    "- `Order compute_order(const Inventory& inventory, double threshold) const`:\n",
    "  - This method takes an `Inventory` object and a threshold (between 0 and 1).\n",
    "  - It should return an `Order` containing all items whose current stock is\n",
    "    below the threshold."
   ]
  },
  {
   "cell_type": "code",
   "execution_count": null,
   "id": "8231bd212659aeb7",
   "metadata": {
    "slideshow": {
     "slide_type": "subslide"
    },
    "tags": [
     "subslide"
    ]
   },
   "outputs": [],
   "source": [
    "namespace chicago_vending {\n",
    "class OrderStrategy {\n",
    "public:\n",
    "    Order compute_order(const Inventory& inventory, double threshold) const {\n",
    "        Order order{};\n",
    "        for (const auto& pair : inventory.items) {\n",
    "            const auto& item = pair.second;\n",
    "            if (static_cast<double>(item.current_stock) / item.capacity < threshold) {\n",
    "                order[item.name] = item.capacity - item.current_stock;\n",
    "            }\n",
    "        }\n",
    "        return order;\n",
    "    }\n",
    "};\n",
    "}"
   ]
  },
  {
   "cell_type": "code",
   "execution_count": null,
   "id": "99e3569cae59f6fc",
   "metadata": {},
   "outputs": [],
   "source": [
    "namespace chicago_vending {\n",
    "void test_compute_order() {\n",
    "    // Arrange\n",
    "    Inventory inventory;\n",
    "    inventory.add_item({\"Cola\", 2, 20});\n",
    "    inventory.add_item({\"Water\", 15, 20});\n",
    "    OrderStrategy strategy;\n",
    "    // Act\n",
    "    Order order = strategy.compute_order(inventory, 0.25);\n",
    "    // Assert\n",
    "    check(order.size() == 1, \"Order should contain one item\");\n",
    "    check(order.count(\"Cola\") == 1, \"Order should contain Cola\");\n",
    "    check(order.at(\"Cola\") == 18, \"Order should restock 18 Colas\");\n",
    "    check(order.count(\"Water\") == 0, \"Order should not contain Water\");\n",
    "}\n",
    "}"
   ]
  },
  {
   "cell_type": "code",
   "execution_count": null,
   "id": "f6497d8d93f4b177",
   "metadata": {},
   "outputs": [],
   "source": [
    "chicago_vending::test_compute_order();"
   ]
  },
  {
   "cell_type": "markdown",
   "id": "e9d916a6faf2a6a5",
   "metadata": {
    "lang": "en",
    "slideshow": {
     "slide_type": "subslide"
    },
    "tags": [
     "subslide"
    ]
   },
   "source": [
    "\n",
    "- Define an `IOrderService` interface, with the following pure virtual\n",
    "  method:\n",
    "- `bool place_order(const Order& order)`.\n",
    "  - This method should accept and process an order.\n",
    "  - It should return `true` if the order was successfully placed, or `false`\n",
    "    if there was an error."
   ]
  },
  {
   "cell_type": "code",
   "execution_count": null,
   "id": "f52ede1e3a6828e8",
   "metadata": {
    "lines_to_next_cell": 2
   },
   "outputs": [],
   "source": [
    "namespace chicago_vending {\n",
    "class IOrderService {\n",
    "public:\n",
    "    virtual ~IOrderService() = default;\n",
    "    virtual bool place_order(const Order& order) = 0;\n",
    "};\n",
    "}"
   ]
  },
  {
   "cell_type": "markdown",
   "id": "c7638f66a7dcf099",
   "metadata": {
    "lang": "en",
    "lines_to_next_cell": 2,
    "slideshow": {
     "slide_type": "subslide"
    },
    "tags": [
     "subslide"
    ]
   },
   "source": [
    "\n",
    "Implement a `FakeOrderService` that implements the `IOrderService`\n",
    "interface and stores all orders in a vector."
   ]
  },
  {
   "cell_type": "code",
   "execution_count": null,
   "id": "00ec07f82475ce7a",
   "metadata": {},
   "outputs": [],
   "source": [
    "namespace chicago_vending {\n",
    "class FakeOrderService : public IOrderService {\n",
    "public:\n",
    "    std::vector<Order> placed_orders;\n",
    "    bool place_order(const Order& order) override {\n",
    "        placed_orders.push_back(order);\n",
    "        return true; // Simulate successful order placement\n",
    "    }\n",
    "};\n",
    "}"
   ]
  },
  {
   "cell_type": "markdown",
   "id": "45b95b64baf54a21",
   "metadata": {
    "lang": "en",
    "slideshow": {
     "slide_type": "subslide"
    },
    "tags": [
     "subslide"
    ]
   },
   "source": [
    "\n",
    "Define the `VendingMachine` class, which has the following methods:\n",
    "\n",
    "- `int get_stock(const std::string& item_name) const`:\n",
    "  - This method should return the current stock of an item.\n",
    "  - If the item is not found, it should throw an exception.\n",
    "- `void sell(const std::string& item_name, int quantity)`:\n",
    "  - This method should sell an item if enough stock is available.\n",
    "  - If there is not enough stock, it should throw an exception.\n",
    "- `void check_and_restock(double threshold)`:\n",
    "  - This method should check the inventory and trigger a reorder if needed.\n",
    "  - If the order is successful, it should update the stock of the items\n",
    "    in the inventory.\n",
    "  - If the order fails, it should throw an exception.\n",
    "\n",
    "Use test-driven development and write the tests in the Chicago style,\n",
    "using real objects and avoiding mocks where possible."
   ]
  },
  {
   "cell_type": "code",
   "execution_count": null,
   "id": "42ce48413f39699c",
   "metadata": {},
   "outputs": [],
   "source": [
    "namespace chicago_vending {\n",
    "class VendingMachine {\n",
    "private:\n",
    "    Inventory inventory; // Held by value\n",
    "    OrderStrategy strategy; // Held by value\n",
    "    std::shared_ptr<IOrderService> order_service;\n",
    "public:\n",
    "    VendingMachine(const Inventory& inv, const OrderStrategy& strat, std::shared_ptr<IOrderService> service)\n",
    "        : inventory(inv), strategy(strat), order_service(std::move(service)) {}\n",
    "\n",
    "    int get_stock(const std::string& item_name) const;\n",
    "    void sell(const std::string& item_name, int quantity);\n",
    "    void check_and_restock(double threshold);\n",
    "};\n",
    "}"
   ]
  },
  {
   "cell_type": "code",
   "execution_count": null,
   "id": "5fb48a27c4cecd4f",
   "metadata": {},
   "outputs": [],
   "source": [
    "namespace chicago_vending {\n",
    "int VendingMachine::get_stock(const std::string& item_name) const {\n",
    "    if (inventory.items.count(item_name) == 0) {\n",
    "        throw std::runtime_error(\"Item not found\");\n",
    "    }\n",
    "    return inventory.items.at(item_name).current_stock;\n",
    "}\n",
    "}"
   ]
  },
  {
   "cell_type": "code",
   "execution_count": null,
   "id": "2a1f2dc0ac0e48fb",
   "metadata": {},
   "outputs": [],
   "source": [
    "namespace chicago_vending {\n",
    "void VendingMachine::sell(const std::string& item_name, int quantity) {\n",
    "    int stock = get_stock(item_name);\n",
    "    if (stock < quantity) {\n",
    "        throw std::runtime_error(\"Not enough stock\");\n",
    "    }\n",
    "    auto& item = inventory.items.at(item_name);\n",
    "    item.current_stock -= quantity;\n",
    "}\n",
    "}"
   ]
  },
  {
   "cell_type": "code",
   "execution_count": null,
   "id": "c4a606c1417a566d",
   "metadata": {},
   "outputs": [],
   "source": [
    "namespace chicago_vending {\n",
    "void VendingMachine::check_and_restock(double threshold) {\n",
    "    Order order = strategy.compute_order(inventory, threshold);\n",
    "    if (!order.empty()) {\n",
    "        bool order_successful = order_service->place_order(order);\n",
    "        if (order_successful) {\n",
    "            for (const auto& [item_name, quantity] : order) {\n",
    "                if (inventory.items.count(item_name) == 0) {\n",
    "                    throw std::runtime_error(\"Ordered item not found in inventory\");\n",
    "                }\n",
    "                inventory.items[item_name].current_stock += quantity;\n",
    "            }\n",
    "        } else {\n",
    "            throw std::runtime_error(\"Order placement failed\");\n",
    "        }\n",
    "    }\n",
    "}\n",
    "}"
   ]
  },
  {
   "cell_type": "code",
   "execution_count": null,
   "id": "7f23eb6b45d92155",
   "metadata": {},
   "outputs": [],
   "source": [
    "namespace chicago_vending {\n",
    "    void test_get_stock() {\n",
    "        // Arrange\n",
    "        Inventory inventory;\n",
    "        inventory.add_item({\"Cola\", 10, 20});\n",
    "        VendingMachine machine(inventory, OrderStrategy(), std::make_shared<FakeOrderService>());\n",
    "\n",
    "        // Act\n",
    "        int stock = machine.get_stock(\"Cola\");\n",
    "\n",
    "        // Assert\n",
    "        check(stock == 10, \"Stock should be 10\");\n",
    "    }\n",
    "}"
   ]
  },
  {
   "cell_type": "code",
   "execution_count": null,
   "id": "22727d54792bb51b",
   "metadata": {},
   "outputs": [],
   "source": [
    "chicago_vending::test_get_stock();"
   ]
  },
  {
   "cell_type": "code",
   "execution_count": null,
   "id": "dee2556e86d32649",
   "metadata": {
    "slideshow": {
     "slide_type": "subslide"
    },
    "tags": [
     "subslide"
    ]
   },
   "outputs": [],
   "source": [
    "namespace chicago_vending {\n",
    "void test_restocks_low_items_based_on_strategy() {\n",
    "    // Arrange\n",
    "    Inventory inventory;\n",
    "    inventory.add_item({\"Cola\", 2, 20});\n",
    "    inventory.add_item({\"Water\", 15, 20});\n",
    "\n",
    "    OrderStrategy strategy;\n",
    "    std::shared_ptr<FakeOrderService> fake_service{std::make_shared<FakeOrderService>()};\n",
    "    VendingMachine machine(inventory, strategy, fake_service);\n",
    "\n",
    "    // Act\n",
    "    machine.check_and_restock(0.25);\n",
    "\n",
    "    // Assert\n",
    "    check(machine.get_stock(\"Cola\") == 20, \"Stock of Cola should have been restocked to 20.\");\n",
    "    check(machine.get_stock(\"Water\") == 15, \"Stock of Water should remain unchanged at 15.\");\n",
    "    check(fake_service->placed_orders.size() == 1, \"An order should have been placed.\");\n",
    "    const auto& placed_order = fake_service->placed_orders[0];\n",
    "    check(placed_order.count(\"Cola\") == 1, \"Order should contain Cola.\");\n",
    "    check(placed_order.at(\"Cola\") == 18, \"Order should restock 18 Colas.\");\n",
    "    check(placed_order.count(\"Water\") == 0, \"Order should not contain Water.\");\n",
    "    std::cout << \"Chicago style test finished and passed.\\n\";\n",
    "}\n",
    "}"
   ]
  },
  {
   "cell_type": "code",
   "execution_count": null,
   "id": "3bf41ad87789e70c",
   "metadata": {},
   "outputs": [],
   "source": [
    "chicago_vending::test_restocks_low_items_based_on_strategy()"
   ]
  },
  {
   "cell_type": "markdown",
   "id": "d2c3dcc6adecce63",
   "metadata": {
    "lang": "en",
    "slideshow": {
     "slide_type": "subslide"
    },
    "tags": [
     "subslide"
    ]
   },
   "source": [
    "### Part 2: London (Mockist) Style\n",
    "\n",
    "**Task:**\n",
    "- Refactor the code. `VendingMachine` should depend on interfaces\n",
    "  (`IInventory`, `IOrderStrategy`, `IOrderService`), not concrete classes.\n",
    "- Implement mocks for all three interfaces. The mocks should record which\n",
    "  methods were called.\n",
    "- Write tests in the London style, i.e., replace the real objects with mocks\n",
    "  and verify the interactions."
   ]
  },
  {
   "cell_type": "code",
   "execution_count": null,
   "id": "9805fefad9b951c1",
   "metadata": {},
   "outputs": [],
   "source": [
    "#include <iostream>\n",
    "#include <stdexcept>\n",
    "#include <string>\n",
    "#include <unordered_map>\n",
    "#include <vector>\n",
    "#include <memory>\n",
    "#include <map>\n",
    "#include \"check.h\""
   ]
  },
  {
   "cell_type": "code",
   "execution_count": null,
   "id": "422664cc870ef249",
   "metadata": {
    "lines_to_next_cell": 2,
    "slideshow": {
     "slide_type": "subslide"
    },
    "tags": [
     "subslide"
    ]
   },
   "outputs": [],
   "source": [
    "namespace london_vending {\n",
    "class IItem {\n",
    "public:\n",
    "        virtual ~IItem() = default;\n",
    "        virtual std::string get_name() const = 0;\n",
    "        virtual int get_current_stock() const = 0;\n",
    "        virtual void set_current_stock(int stock) = 0;\n",
    "        virtual int get_capacity() const = 0;\n",
    "};\n",
    "}"
   ]
  },
  {
   "cell_type": "code",
   "execution_count": null,
   "id": "c68e5a8e4060d1a5",
   "metadata": {
    "slideshow": {
     "slide_type": "subslide"
    },
    "tags": [
     "subslide"
    ]
   },
   "outputs": [],
   "source": [
    "namespace london_vending {\n",
    "class Item : public IItem\n",
    "{\n",
    "    std::string name;\n",
    "    int current_stock;\n",
    "    int capacity;\n",
    "public:\n",
    "    Item(std::string name, int current_stock, int capacity)\n",
    "        : name(std::move(name)), current_stock(current_stock), capacity(capacity) {}\n",
    "\n",
    "    std::string get_name() const override { return name; }\n",
    "    int get_current_stock() const override { return current_stock; }\n",
    "    void set_current_stock(int stock) override { current_stock = stock; }\n",
    "    int get_capacity() const override { return capacity; }\n",
    "};\n",
    "}"
   ]
  },
  {
   "cell_type": "code",
   "execution_count": null,
   "id": "64da03f279bf788c",
   "metadata": {
    "slideshow": {
     "slide_type": "subslide"
    },
    "tags": [
     "subslide"
    ]
   },
   "outputs": [],
   "source": [
    "namespace london_vending {\n",
    "using Order = std::map<std::string, int>;\n",
    "}"
   ]
  },
  {
   "cell_type": "code",
   "execution_count": null,
   "id": "7135a5f8070fad26",
   "metadata": {
    "slideshow": {
     "slide_type": "subslide"
    },
    "tags": [
     "subslide"
    ]
   },
   "outputs": [],
   "source": [
    "namespace london_vending {\n",
    "class IInventory {\n",
    "public:\n",
    "    virtual ~IInventory() = default;\n",
    "    virtual void add_item(std::unique_ptr<IItem> item) = 0;\n",
    "    virtual const IItem& get_item(const std::string& name) const = 0;\n",
    "    virtual IItem& get_item(const std::string& name) = 0;\n",
    "};\n",
    "}"
   ]
  },
  {
   "cell_type": "code",
   "execution_count": null,
   "id": "ab5172049168ed61",
   "metadata": {
    "slideshow": {
     "slide_type": "subslide"
    },
    "tags": [
     "subslide"
    ]
   },
   "outputs": [],
   "source": [
    "namespace london_vending {\n",
    "class IOrderStrategy {\n",
    "public:\n",
    "    virtual ~IOrderStrategy() = default;\n",
    "    virtual Order compute_order(const IInventory& inventory, double threshold) const = 0;\n",
    "};\n",
    "}"
   ]
  },
  {
   "cell_type": "code",
   "execution_count": null,
   "id": "b7de41163ba6a511",
   "metadata": {
    "slideshow": {
     "slide_type": "subslide"
    },
    "tags": [
     "subslide"
    ]
   },
   "outputs": [],
   "source": [
    "namespace london_vending {\n",
    "class IOrderService {\n",
    "public:\n",
    "    virtual ~IOrderService() = default;\n",
    "    virtual bool place_order(const Order& order) = 0;\n",
    "};\n",
    "}"
   ]
  },
  {
   "cell_type": "code",
   "execution_count": null,
   "id": "67fdcb2ff80c918e",
   "metadata": {
    "slideshow": {
     "slide_type": "subslide"
    },
    "tags": [
     "subslide"
    ]
   },
   "outputs": [],
   "source": [
    "// 2. VendingMachine depends on abstractions\n",
    "namespace london_vending {\n",
    "class VendingMachine {\n",
    "private:\n",
    "    std::unique_ptr<IInventory> inventory;\n",
    "    std::shared_ptr<IOrderStrategy> strategy;\n",
    "    std::shared_ptr<IOrderService> order_service;\n",
    "public:\n",
    "    VendingMachine(std::unique_ptr<IInventory> inv, std::shared_ptr<IOrderStrategy> strat, std::shared_ptr<IOrderService> service)\n",
    "        : inventory(std::move(inv)), strategy(std::move(strat)), order_service(std::move(service)) {}\n",
    "\n",
    "    int get_stock(const std::string& item_name) const;\n",
    "    void sell(const std::string& item_name, int quantity);\n",
    "    void check_and_restock(double threshold);\n",
    "};\n",
    "}"
   ]
  },
  {
   "cell_type": "code",
   "execution_count": null,
   "id": "d54c3da81c6e0600",
   "metadata": {
    "slideshow": {
     "slide_type": "subslide"
    },
    "tags": [
     "subslide"
    ]
   },
   "outputs": [],
   "source": [
    "namespace london_vending {\n",
    "int VendingMachine::get_stock(const std::string& item_name) const {\n",
    "    const auto& item = inventory->get_item(item_name);\n",
    "    return item.get_current_stock();\n",
    "}\n",
    "}"
   ]
  },
  {
   "cell_type": "code",
   "execution_count": null,
   "id": "347b5714237f5de6",
   "metadata": {
    "slideshow": {
     "slide_type": "subslide"
    },
    "tags": [
     "subslide"
    ]
   },
   "outputs": [],
   "source": [
    "namespace london_vending {\n",
    "void VendingMachine::sell(const std::string& item_name, int quantity) {\n",
    "    IItem& item = inventory->get_item(item_name);\n",
    "    int stock = item.get_current_stock();\n",
    "    if (stock < quantity) {\n",
    "        throw std::runtime_error(\"Not enough stock\");\n",
    "    }\n",
    "    item.set_current_stock(stock - quantity);\n",
    "}\n",
    "}"
   ]
  },
  {
   "cell_type": "code",
   "execution_count": null,
   "id": "b075daad554285d6",
   "metadata": {
    "slideshow": {
     "slide_type": "subslide"
    },
    "tags": [
     "subslide"
    ]
   },
   "outputs": [],
   "source": [
    "namespace london_vending {\n",
    "void VendingMachine::check_and_restock(double threshold) {\n",
    "    Order order = strategy->compute_order(*inventory, threshold);\n",
    "    if (!order.empty()) {\n",
    "        bool order_successful = order_service->place_order(order);\n",
    "        if (order_successful) {\n",
    "            for (const auto& [item_name, quantity] : order) {\n",
    "                auto& item = inventory->get_item(item_name);\n",
    "                item.set_current_stock(item.get_current_stock() + quantity);\n",
    "            }\n",
    "        } else {\n",
    "            throw std::runtime_error(\"Order placement failed\");\n",
    "        }\n",
    "    }\n",
    "}\n",
    "}"
   ]
  },
  {
   "cell_type": "code",
   "execution_count": null,
   "id": "0988639e972ccf9b",
   "metadata": {
    "slideshow": {
     "slide_type": "subslide"
    },
    "tags": [
     "subslide"
    ]
   },
   "outputs": [],
   "source": [
    "// 3. Mocks for testing\n",
    "namespace london_vending {\n",
    "class MockInventory : public IInventory\n",
    "{\n",
    "public:\n",
    "    std::unordered_map<std::string, std::unique_ptr<IItem>> items;\n",
    "\n",
    "    void add_item(std::unique_ptr<IItem> item) override {\n",
    "        if (!item) {\n",
    "            throw std::runtime_error(\"Cannot add null item\");\n",
    "        }\n",
    "        items[item->get_name()] = std::move(item);\n",
    "    }\n",
    "\n",
    "    const IItem& get_item(const std::string& name) const override {\n",
    "        if (items.count(name) == 0) {\n",
    "            throw std::runtime_error(\"Item not found\");\n",
    "        }\n",
    "        return *items.at(name);\n",
    "    }\n",
    "\n",
    "    IItem& get_item(const std::string& name) override {\n",
    "        if (items.count(name) == 0) {\n",
    "            throw std::runtime_error(\"Item not found\");\n",
    "        }\n",
    "        return *items.at(name);\n",
    "    }\n",
    "};\n",
    "}"
   ]
  },
  {
   "cell_type": "code",
   "execution_count": null,
   "id": "717fdde2aed547b3",
   "metadata": {
    "slideshow": {
     "slide_type": "subslide"
    },
    "tags": [
     "subslide"
    ]
   },
   "outputs": [],
   "source": [
    "namespace london_vending {\n",
    "class MockOrderService : public IOrderService {\n",
    "public:\n",
    "    bool place_order_called = false;\n",
    "    Order last_order;\n",
    "    bool place_order(const Order& order) override {\n",
    "        place_order_called = true;\n",
    "        last_order = order;\n",
    "        return true;\n",
    "    }\n",
    "};\n",
    "}"
   ]
  },
  {
   "cell_type": "code",
   "execution_count": null,
   "id": "44fb768559a8442e",
   "metadata": {
    "slideshow": {
     "slide_type": "subslide"
    },
    "tags": [
     "subslide"
    ]
   },
   "outputs": [],
   "source": [
    "namespace london_vending {\n",
    "class MockOrderStrategy : public IOrderStrategy {\n",
    "public:\n",
    "    // Need to initialize order_to_return in the constructor because of a bug\n",
    "    // in the xeus-jupyter kernel used for slide processing.\n",
    "    MockOrderStrategy() : order_to_return{} {\n",
    "        order_to_return[\"Cola\"] = 18; // Default mock behavior\n",
    "    }\n",
    "\n",
    "    mutable bool compute_order_called = false;\n",
    "    Order order_to_return;\n",
    "\n",
    "    Order compute_order(const IInventory& inventory, double threshold) const override {\n",
    "        this->compute_order_called = true;\n",
    "        return order_to_return;\n",
    "    }\n",
    "};\n",
    "}"
   ]
  },
  {
   "cell_type": "code",
   "execution_count": null,
   "id": "5ac7e5873878eecd",
   "metadata": {
    "slideshow": {
     "slide_type": "subslide"
    },
    "tags": [
     "subslide"
    ]
   },
   "outputs": [],
   "source": [
    "namespace london_vending {\n",
    "void test_check_and_restock_delegates_to_collaborators() {\n",
    "    // Arrange\n",
    "    std::unique_ptr<MockInventory> mock_inventory = std::make_unique<MockInventory>();\n",
    "    mock_inventory->add_item(std::make_unique<Item>(\"Cola\", 2, 20));\n",
    "    mock_inventory->add_item(std::make_unique<Item>(\"Water\", 15, 20));\n",
    "    std::shared_ptr<MockOrderStrategy> mock_strategy = std::make_shared<MockOrderStrategy>();\n",
    "    std::shared_ptr<MockOrderService> mock_service = std::make_shared<MockOrderService>();\n",
    "    VendingMachine machine(std::move(mock_inventory), mock_strategy, mock_service);\n",
    "\n",
    "    // Act\n",
    "    machine.check_and_restock(0.25);\n",
    "\n",
    "    // Assert\n",
    "    check(mock_strategy->compute_order_called, \"strategy->compute_order() should have been called.\");\n",
    "    check(mock_service->place_order_called, \"service->place_order() should have been called.\");\n",
    "    check(mock_service->last_order.count(\"Cola\") == 1, \"The order from the strategy should have been passed to the service.\");\n",
    "    check(mock_service->last_order.at(\"Cola\") == 18, \"The order data should be correct.\");\n",
    "    std::cout << \"London style test finished and passed.\\n\";\n",
    "}\n",
    "}"
   ]
  },
  {
   "cell_type": "code",
   "execution_count": null,
   "id": "3a2749a230531e5b",
   "metadata": {},
   "outputs": [],
   "source": [
    "london_vending::test_check_and_restock_delegates_to_collaborators();"
   ]
  },
  {
   "cell_type": "code",
   "execution_count": null,
   "id": "6b4e03423667dbb7",
   "metadata": {},
   "outputs": [],
   "source": []
  }
 ],
 "metadata": {
  "kernelspec": {
   "display_name": "C++17",
   "language": "C++17",
   "name": "xcpp17"
  },
  "language_info": {
   "codemirror_mode": "text/x-c++src",
   "file_extension": ".cpp",
   "mimetype": "text/x-c++src",
   "name": "c++",
   "version": "17"
  }
 },
 "nbformat": 4,
 "nbformat_minor": 5
}
