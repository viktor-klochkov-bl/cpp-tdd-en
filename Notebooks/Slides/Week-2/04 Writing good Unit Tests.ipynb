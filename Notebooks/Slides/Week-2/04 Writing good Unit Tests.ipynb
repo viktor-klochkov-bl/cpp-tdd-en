{
 "cells": [
  {
   "cell_type": "markdown",
   "id": "eaf40d731b8d7ac8",
   "metadata": {
    "lang": "en",
    "lines_to_next_cell": 2,
    "slideshow": {
     "slide_type": "slide"
    },
    "tags": [
     "slide"
    ]
   },
   "source": [
    "\n",
    "<img src=\"data:image/png;base64,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\"\n",
    "     style=\"display:block;margin:auto;width:5%\"/>\n",
    "<br>\n",
    "\n",
    "<div style=\"text-align:center; font-size:200%;\">\n",
    "  <b>Writing good Unit Tests</b>\n",
    "</div>\n",
    "<br/>\n",
    "<div style=\"text-align:center; font-size:120%;\">Dr. Matthias Hölzl</div>\n",
    "<br/>\n",
    "<div style=\"text-align:center;\">Coding-Academy Munich</div>\n",
    "<br/>\n",
    "<!-- 04 Writing good Unit Tests.ipynb -->\n",
    "<!-- slides/module_410_unit_testing/topic_165_writing_good_unit_tests.cpp -->"
   ]
  },
  {
   "cell_type": "markdown",
   "id": "dcc70b47144a7099",
   "metadata": {
    "lang": "en",
    "slideshow": {
     "slide_type": "subslide"
    },
    "tags": [
     "subslide"
    ]
   },
   "source": [
    "\n",
    "## Mechanics of Unit-Tests\n",
    "\n",
    "Unit tests should\n",
    "- be automated: no manual interaction\n",
    "- be self-testing: pass/fail\n",
    "- be fine-grained\n",
    "- be fast\n",
    "- be isolated\n",
    "- be executable successfully at any time"
   ]
  },
  {
   "cell_type": "markdown",
   "id": "81c0352b6e2dc2ed",
   "metadata": {
    "lang": "en",
    "slideshow": {
     "slide_type": "subslide"
    },
    "tags": [
     "subslide"
    ]
   },
   "source": [
    "\n",
    "## Simple structure!\n",
    "\n",
    "<ul>\n",
    "  <li>Simple, standardized structure\n",
    "    <table style=\"display:inline;margin:20px 20px;\">\n",
    "    <tr><td style=\"text-align:left;width:60px;padding-left:15px;\">Arrange</td>\n",
    "        <td style=\"text-align:left;width:60px;padding-left:15px;border-left:1px solid\n",
    "        black;\">Given</td> <td\n",
    "        style=\"text-align:left;width:300px;padding-left:15px;border-left:1px solid\n",
    "        black;\">\n",
    "          Prepare the test environment</td></tr>\n",
    "    <tr><td style=\"text-align:left;padding-left:15px;\">Act</td>\n",
    "        <td style=\"text-align:left;width:60px;padding-left:15px;border-left:1px solid\n",
    "        black;\">\n",
    "           When</td>\n",
    "        <td style=\"text-align:left;width:300px;padding-left:15px;border-left:1px\n",
    "        solid black;\">\n",
    "           Execute the action for the test (if any)</td></tr>\n",
    "    <tr><td style=\"text-align:left;padding-left:15px;\">Assert</td>\n",
    "        <td style=\"text-align:left;width:60px;padding-left:15px;border-left:1px solid\n",
    "        black;\">\n",
    "           Then</td>\n",
    "        <td style=\"text-align:left;width:300px;padding-left:15px;border-left:1px\n",
    "        solid black;\">\n",
    "           Check the results of the action/setup</td></tr>\n",
    "    </table>\n",
    "  </li>\n",
    "  <li>Little code\n",
    "    <ul>\n",
    "      <li>Little boilerplate</li>\n",
    "      <li>Factories, etc. for tests</li>\n",
    "    </ul>\n",
    "  </li>\n",
    "</ul>"
   ]
  },
  {
   "cell_type": "code",
   "execution_count": null,
   "id": "0bf3e7003a28b76b",
   "metadata": {
    "slideshow": {
     "slide_type": "subslide"
    },
    "tags": [
     "subslide",
     "keep"
    ]
   },
   "outputs": [],
   "source": [
    "#include \"check.h\""
   ]
  },
  {
   "cell_type": "code",
   "execution_count": null,
   "id": "42991d571ff878d8",
   "metadata": {
    "slideshow": {
     "slide_type": "subslide"
    },
    "tags": [
     "subslide"
    ]
   },
   "outputs": [],
   "source": [
    "#include <vector>"
   ]
  },
  {
   "cell_type": "code",
   "execution_count": null,
   "id": "22e817ed9f51c450",
   "metadata": {},
   "outputs": [],
   "source": [
    "void test_insert()\n",
    "{\n",
    "    std::vector<int> x = {1, 2, 3}; // arrange\n",
    "    std::vector<int> y = {10, 20};\n",
    "\n",
    "    x.insert(x.end(), y.begin(), y.end()); // act\n",
    "\n",
    "    check(x == std::vector<int>{1, 2, 3, 10, 20}); // assert\n",
    "}"
   ]
  },
  {
   "cell_type": "markdown",
   "id": "3ed6937e276cac4e",
   "metadata": {
    "lang": "en",
    "slideshow": {
     "slide_type": "subslide"
    },
    "tags": [
     "subslide"
    ]
   },
   "source": [
    "\n",
    "- How many tests do we want to have?\n",
    "- How many values do we want to check?"
   ]
  },
  {
   "cell_type": "markdown",
   "id": "d79fb94518ddb353",
   "metadata": {
    "lang": "en",
    "slideshow": {
     "slide_type": "subslide"
    },
    "tags": [
     "subslide"
    ]
   },
   "source": [
    "\n",
    "## Try: Exhaustive testing\n",
    "\n",
    "- We write exhaustive tests, i.e. tests that cover all possible inputs of a program"
   ]
  },
  {
   "cell_type": "markdown",
   "id": "c08081e6cbff7b83",
   "metadata": {
    "lang": "en",
    "slideshow": {
     "slide_type": "subslide"
    },
    "tags": [
     "subslide"
    ]
   },
   "source": [
    "\n",
    "- Exhaustive testing is not possible\n",
    "- Example: password input:\n",
    "  - Suppose passwords with a maximum of 20 characters are allowed,\n",
    "    80 input characters are allowed (upper and lower case letters, special\n",
    "    characters)\n",
    "  - This results in $80^{20}$ = 115,292,150,460,684,697,600,000,000,000,000,000,000\n",
    "    possible inputs\n",
    "  - At 10ns for a test, it would take about $10^{24}$ years to test all inputs\n",
    "  - The universe is about $1.4 \\times 10^{10}$ years old"
   ]
  },
  {
   "cell_type": "markdown",
   "id": "3e1670bb87f1a694",
   "metadata": {
    "lang": "en",
    "slideshow": {
     "slide_type": "subslide"
    },
    "tags": [
     "subslide"
    ]
   },
   "source": [
    "\n",
    "## Effectiveness and efficiency of tests\n",
    "\n",
    "- Unit tests should be effective and efficient\n",
    "  - Effective: The tests should find as many bugs as possible\n",
    "  - Efficient: We want to find the largest number of bugs with the fewest number of\n",
    "    tests that are as simple as possible\n",
    "- Efficiency is important because Tests themselves are code that requires\n",
    "  maintenance and may contain bugs"
   ]
  },
  {
   "cell_type": "markdown",
   "id": "ea5abab144ee0048",
   "metadata": {
    "lang": "en",
    "slideshow": {
     "slide_type": "subslide"
    },
    "tags": [
     "subslide"
    ]
   },
   "source": [
    "\n",
    "## How to write good unit tests?\n",
    "\n",
    "- Test observable behavior, not implementation\n",
    "- Prefer tests of values to tests of states\n",
    "- Prefer tests of states to tests of interaction\n",
    "- Use test doubles if (but only if) a dependency \"launches a missile\"\n",
    "- (These rules assume that the code allows such tests)"
   ]
  },
  {
   "cell_type": "markdown",
   "id": "dc4ef73e4ca30a19",
   "metadata": {
    "lang": "en",
    "slideshow": {
     "slide_type": "subslide"
    },
    "tags": [
     "subslide"
    ]
   },
   "source": [
    "\n",
    "### Why test observable behavior and not implementation?\n",
    "\n",
    "Observable behavior\n",
    "-  is easier to understand\n",
    "-  is more stable than implementation\n",
    "-  is closer to customer benefit"
   ]
  },
  {
   "cell_type": "markdown",
   "id": "b3d80577963b290b",
   "metadata": {
    "lang": "en",
    "slideshow": {
     "slide_type": "subslide"
    },
    "tags": [
     "subslide"
    ]
   },
   "source": [
    "\n",
    "## Test observable behavior, not implementation\n",
    "\n",
    "- Abstract implementation details as much as possible\n",
    "  - Also at unit test level\n",
    "- Often different methods test each other\n",
    "- This sometimes requires the introduction of additional methods\n",
    "    - These methods should be useful for users not only for testing\n",
    "    - Often \"abstract state\" of objects\n",
    "    - **Do not** simply make the concrete state public."
   ]
  },
  {
   "cell_type": "code",
   "execution_count": null,
   "id": "206732a63c3f46cb",
   "metadata": {
    "slideshow": {
     "slide_type": "subslide"
    },
    "tags": [
     "subslide",
     "keep"
    ]
   },
   "outputs": [],
   "source": [
    "#include <vector>"
   ]
  },
  {
   "cell_type": "code",
   "execution_count": null,
   "id": "b1c6f19b79379fc5",
   "metadata": {
    "tags": [
     "keep"
    ]
   },
   "outputs": [],
   "source": [
    "class Stack\n",
    "{\n",
    "private:\n",
    "    std::vector<int> _items;\n",
    "\n",
    "public:\n",
    "    void push(int new_item) { _items.push_back(new_item); }\n",
    "\n",
    "    int pop();\n",
    "\n",
    "    // Good extension: useful, doesn't expose implementation\n",
    "    int size() const { return _items.size(); }\n",
    "\n",
    "    // Bad extension: exposes implementation\n",
    "    std::vector<int>& get_items() { return _items; }\n",
    "};"
   ]
  },
  {
   "cell_type": "code",
   "execution_count": null,
   "id": "b6c42efa932b8383",
   "metadata": {
    "slideshow": {
     "slide_type": "subslide"
    },
    "tags": [
     "subslide",
     "keep"
    ]
   },
   "outputs": [],
   "source": [
    "int Stack::pop()\n",
    "{\n",
    "    if (_items.empty())\n",
    "    {\n",
    "        throw std::out_of_range(\"Stack is empty\");\n",
    "    }\n",
    "    int val = _items.back();\n",
    "    _items.pop_back();\n",
    "    return val;\n",
    "}"
   ]
  },
  {
   "cell_type": "markdown",
   "id": "4862e9af219de151",
   "metadata": {
    "lang": "en",
    "slideshow": {
     "slide_type": "subslide"
    },
    "tags": [
     "subslide"
    ]
   },
   "source": [
    "\n",
    "### Tests when only `push()` and `pop()` are available"
   ]
  },
  {
   "cell_type": "code",
   "execution_count": null,
   "id": "623602d230ea1206",
   "metadata": {
    "slideshow": {
     "slide_type": "subslide"
    },
    "tags": [
     "subslide"
    ]
   },
   "outputs": [],
   "source": [
    "void test_stack_1()\n",
    "{\n",
    "    Stack s;\n",
    "    s.push(5);\n",
    "    check(s.pop() == 5);\n",
    "}"
   ]
  },
  {
   "cell_type": "code",
   "execution_count": null,
   "id": "bfad67665191db58",
   "metadata": {},
   "outputs": [],
   "source": [
    "test_stack_1();"
   ]
  },
  {
   "cell_type": "code",
   "execution_count": null,
   "id": "d1be20d5d8686efd",
   "metadata": {
    "slideshow": {
     "slide_type": "subslide"
    },
    "tags": [
     "subslide"
    ]
   },
   "outputs": [],
   "source": [
    "void test_stack_2()\n",
    "{\n",
    "    Stack s;\n",
    "    s.push(5);\n",
    "    s.push(10);\n",
    "    check(s.pop() == 10);\n",
    "    check(s.pop() == 5);\n",
    "}"
   ]
  },
  {
   "cell_type": "code",
   "execution_count": null,
   "id": "12b25f4477eaec88",
   "metadata": {},
   "outputs": [],
   "source": [
    "test_stack_2();"
   ]
  },
  {
   "cell_type": "code",
   "execution_count": null,
   "id": "33fa34095d2280dc",
   "metadata": {
    "slideshow": {
     "slide_type": "subslide"
    },
    "tags": [
     "subslide"
    ]
   },
   "outputs": [],
   "source": [
    "void test_stack_3()\n",
    "{\n",
    "    Stack s;\n",
    "    try\n",
    "    {\n",
    "        s.pop();\n",
    "        check(false);\n",
    "    }\n",
    "    catch (const std::out_of_range&)\n",
    "    {\n",
    "        check(true);\n",
    "    }\n",
    "}"
   ]
  },
  {
   "cell_type": "code",
   "execution_count": null,
   "id": "5618e73dfc4e1fb8",
   "metadata": {},
   "outputs": [],
   "source": [
    "test_stack_3();"
   ]
  },
  {
   "cell_type": "markdown",
   "id": "b6c1b4cc855d991a",
   "metadata": {
    "lang": "en",
    "slideshow": {
     "slide_type": "subslide"
    },
    "tags": [
     "subslide"
    ]
   },
   "source": [
    "\n",
    "## Values > State > Interaction\n",
    "\n",
    "- More understandable\n",
    "- Easier to test\n",
    "- Often more stable compared to refactorings\n",
    "\n",
    "Exception: testing protocols"
   ]
  },
  {
   "cell_type": "markdown",
   "id": "19ef02e72736198c",
   "metadata": {
    "lang": "en",
    "slideshow": {
     "slide_type": "subslide"
    },
    "tags": [
     "subslide"
    ]
   },
   "source": [
    "\n",
    "### Functions/Values"
   ]
  },
  {
   "cell_type": "code",
   "execution_count": null,
   "id": "14e892ec85ea960f",
   "metadata": {
    "tags": [
     "keep"
    ]
   },
   "outputs": [],
   "source": [
    "int add(int x, int y) { return x + y; }"
   ]
  },
  {
   "cell_type": "code",
   "execution_count": null,
   "id": "a27f603f0bb3ed38",
   "metadata": {},
   "outputs": [],
   "source": [
    "check(add(2, 3) == 5);"
   ]
  },
  {
   "cell_type": "markdown",
   "id": "96178e5adef2c95f",
   "metadata": {
    "lang": "en",
    "slideshow": {
     "slide_type": "subslide"
    },
    "tags": [
     "subslide"
    ]
   },
   "source": [
    "\n",
    "### State"
   ]
  },
  {
   "cell_type": "code",
   "execution_count": null,
   "id": "f856638603f23d85",
   "metadata": {
    "tags": [
     "keep"
    ]
   },
   "outputs": [],
   "source": [
    "class Adder\n",
    "{\n",
    "public:\n",
    "    void set_x(int x) { x_ = x; }\n",
    "    void set_y(int y) { y_ = y; }\n",
    "    void add() { result_ = x_ + y_; }\n",
    "    int get_result() const { return result_; }\n",
    "\n",
    "private:\n",
    "    int x_{0};\n",
    "    int y_{0};\n",
    "    int result_{0};\n",
    "};"
   ]
  },
  {
   "cell_type": "code",
   "execution_count": null,
   "id": "ada6fac529ea33f4",
   "metadata": {
    "slideshow": {
     "slide_type": "subslide"
    },
    "tags": [
     "subslide"
    ]
   },
   "outputs": [],
   "source": [
    "Adder adder;"
   ]
  },
  {
   "cell_type": "code",
   "execution_count": null,
   "id": "eb4065b87ccfd86f",
   "metadata": {},
   "outputs": [],
   "source": [
    "adder.set_x(2);\n",
    "adder.set_y(3);"
   ]
  },
  {
   "cell_type": "code",
   "execution_count": null,
   "id": "80e678114bd7b083",
   "metadata": {},
   "outputs": [],
   "source": [
    "adder.add();"
   ]
  },
  {
   "cell_type": "code",
   "execution_count": null,
   "id": "091ae1379254b3f7",
   "metadata": {},
   "outputs": [],
   "source": [
    "check(adder.get_result() == 5);"
   ]
  },
  {
   "cell_type": "markdown",
   "id": "89175e594717035e",
   "metadata": {
    "lang": "en",
    "slideshow": {
     "slide_type": "subslide"
    },
    "tags": [
     "subslide"
    ]
   },
   "source": [
    "\n",
    "### Side effect/Interaction\n",
    "\n",
    "- With interface"
   ]
  },
  {
   "cell_type": "code",
   "execution_count": null,
   "id": "3623cc5ebdaab39f",
   "metadata": {
    "tags": [
     "keep"
    ]
   },
   "outputs": [],
   "source": [
    "class AbstractAdder\n",
    "{\n",
    "public:\n",
    "    virtual void add(int x, int y) = 0;\n",
    "};"
   ]
  },
  {
   "cell_type": "code",
   "execution_count": null,
   "id": "cba40db2d8075f7c",
   "metadata": {
    "tags": [
     "keep"
    ]
   },
   "outputs": [],
   "source": [
    "class InteractionAdder\n",
    "{\n",
    "public:\n",
    "    InteractionAdder(AbstractAdder& adder) : adder_{adder} {}\n",
    "\n",
    "    void add(int x, int y) { adder_.add(x, y); }\n",
    "\n",
    "private:\n",
    "    AbstractAdder& adder_;\n",
    "};"
   ]
  },
  {
   "cell_type": "markdown",
   "id": "82c70cd5ae3cdb6f",
   "metadata": {
    "lang": "en",
    "slideshow": {
     "slide_type": "subslide"
    },
    "tags": [
     "subslide"
    ]
   },
   "source": [
    "\n",
    "Test requires mock/spy"
   ]
  },
  {
   "cell_type": "code",
   "execution_count": null,
   "id": "bddd7ccdab7da19e",
   "metadata": {},
   "outputs": [],
   "source": [
    "#include <utility>\n",
    "#include <vector>"
   ]
  },
  {
   "cell_type": "code",
   "execution_count": null,
   "id": "1fb9818e41cb5208",
   "metadata": {},
   "outputs": [],
   "source": [
    "struct AdderSpy : AbstractAdder\n",
    "{\n",
    "    std::vector<std::pair<int, int>> calls;\n",
    "    void add(int x, int y) override { calls.push_back({x, y}); };\n",
    "};"
   ]
  },
  {
   "cell_type": "code",
   "execution_count": null,
   "id": "2e8151cc6e39cbc5",
   "metadata": {
    "slideshow": {
     "slide_type": "subslide"
    },
    "tags": [
     "subslide"
    ]
   },
   "outputs": [],
   "source": [
    "AdderSpy spy;"
   ]
  },
  {
   "cell_type": "code",
   "execution_count": null,
   "id": "d6a6f1093628fdf1",
   "metadata": {},
   "outputs": [],
   "source": [
    "InteractionAdder adder{spy};"
   ]
  },
  {
   "cell_type": "code",
   "execution_count": null,
   "id": "bcd7d71c07774e7c",
   "metadata": {},
   "outputs": [],
   "source": [
    "adder.add(2, 3);"
   ]
  },
  {
   "cell_type": "code",
   "execution_count": null,
   "id": "03174fea7be51b3e",
   "metadata": {},
   "outputs": [],
   "source": [
    "check(spy.calls.size() == 1);"
   ]
  },
  {
   "cell_type": "code",
   "execution_count": null,
   "id": "1716d30dbe3cd74f",
   "metadata": {},
   "outputs": [],
   "source": [
    "check(spy.calls[0].first == 2);\n",
    "check(spy.calls[0].second == 3);"
   ]
  },
  {
   "cell_type": "markdown",
   "id": "9ccebaba8ecea406",
   "metadata": {
    "lang": "en",
    "slideshow": {
     "slide_type": "subslide"
    },
    "tags": [
     "subslide"
    ]
   },
   "source": [
    "\n",
    "### Side effect/Interaction\n",
    "\n",
    "- Without interface"
   ]
  },
  {
   "cell_type": "code",
   "execution_count": null,
   "id": "785d96b302c68b48",
   "metadata": {
    "tags": [
     "keep"
    ]
   },
   "outputs": [],
   "source": [
    "void add_and_print(int x, int y) { std::cout << x + y << std::endl; }"
   ]
  },
  {
   "cell_type": "markdown",
   "id": "035ddac175f9114a",
   "metadata": {
    "lang": "en"
   },
   "source": [
    "\n",
    "- See `code/completed/test_examples/fun_state_interact_test.cpp` for\n",
    "  the test code"
   ]
  },
  {
   "cell_type": "markdown",
   "id": "126f1e5c9e1b9175",
   "metadata": {
    "lang": "en",
    "slideshow": {
     "slide_type": "subslide"
    },
    "tags": [
     "subslide"
    ]
   },
   "source": [
    "\n",
    "## How do you write testable code?\n",
    "\n",
    "- Move from less-testable to more-testable style\n",
    "  - Observability (`state_machine.h`)\n",
    "  - No global or static data\n",
    "  - Immutable data structures (values)\n",
    "- Good object-oriented design\n",
    "  - High cohesion\n",
    "  - Low coupling, management of dependencies\n",
    "- Etc."
   ]
  },
  {
   "cell_type": "markdown",
   "id": "9a633bbf3a9afcee",
   "metadata": {
    "lang": "en",
    "slideshow": {
     "slide_type": "subslide"
    },
    "tags": [
     "subslide"
    ]
   },
   "source": [
    "\n",
    "## Process\n",
    "\n",
    "- Iterative approach\n",
    "  - Small steps with tests\n",
    "- Test-Driven Development (TDD)\n",
    "  - Writing tests before code"
   ]
  },
  {
   "cell_type": "markdown",
   "id": "6edaa4c359dd578a",
   "metadata": {
    "lang": "en",
    "slideshow": {
     "slide_type": "slide"
    },
    "tags": [
     "slide"
    ]
   },
   "source": [
    "\n",
    "## Mini-workshop: Better testability\n",
    "\n",
    "- How can you write tests for the following functions/classes?\n",
    "- How can you improve the following functions/classes to make them more\n",
    "  testable?\n",
    "- What disadvantages result from this?\n",
    "\n",
    "**Note:**\n",
    "You can also find the examples in `code/starter_kits/testability_sk`."
   ]
  },
  {
   "cell_type": "code",
   "execution_count": null,
   "id": "a0ee650c342d197c",
   "metadata": {
    "slideshow": {
     "slide_type": "subslide"
    },
    "tags": [
     "keep",
     "subslide"
    ]
   },
   "outputs": [],
   "source": [
    "#include <iostream>"
   ]
  },
  {
   "cell_type": "code",
   "execution_count": null,
   "id": "dce951bfa47053b5",
   "metadata": {
    "tags": [
     "keep"
    ]
   },
   "outputs": [],
   "source": [
    "int count()\n",
    "{\n",
    "    static int c = 0;\n",
    "    return c++;\n",
    "}"
   ]
  },
  {
   "cell_type": "code",
   "execution_count": null,
   "id": "6b7f9c15379b60cb",
   "metadata": {
    "tags": [
     "keep"
    ]
   },
   "outputs": [],
   "source": [
    "for (int i = 0; i < 3; ++i)\n",
    "{\n",
    "    std::cout << count() << std::endl;\n",
    "}"
   ]
  },
  {
   "cell_type": "code",
   "execution_count": null,
   "id": "3222f85075b989cd",
   "metadata": {},
   "outputs": [],
   "source": [
    "class Counter\n",
    "{\n",
    "public:\n",
    "    int operator()() { return c_++; }\n",
    "\n",
    "private:\n",
    "    int c_{};\n",
    "};"
   ]
  },
  {
   "cell_type": "code",
   "execution_count": null,
   "id": "0bc054bd11f6c973",
   "metadata": {},
   "outputs": [],
   "source": [
    "Counter counter;"
   ]
  },
  {
   "cell_type": "code",
   "execution_count": null,
   "id": "c8e06d91a65beb23",
   "metadata": {},
   "outputs": [],
   "source": [
    "for (int i = 0; i < 3; ++i)\n",
    "{\n",
    "    std::cout << counter() << std::endl;\n",
    "}"
   ]
  },
  {
   "cell_type": "code",
   "execution_count": null,
   "id": "71bb1b14cb794168",
   "metadata": {
    "slideshow": {
     "slide_type": "subslide"
    },
    "tags": [
     "keep",
     "subslide"
    ]
   },
   "outputs": [],
   "source": [
    "enum class State\n",
    "{\n",
    "    OFF,\n",
    "    ON\n",
    "};"
   ]
  },
  {
   "cell_type": "code",
   "execution_count": null,
   "id": "6903253f6be16717",
   "metadata": {
    "tags": [
     "keep"
    ]
   },
   "outputs": [],
   "source": [
    "class Switch\n",
    "{\n",
    "public:\n",
    "    void toggle()\n",
    "    {\n",
    "        state_ = state_ == State::OFF ? State::ON : State::OFF;\n",
    "        std::cout << \"Switch is \" << (state_ == State::OFF ? \"OFF\" : \"ON\") << std::endl;\n",
    "    }\n",
    "\n",
    "private:\n",
    "    State state_{State::OFF};\n",
    "};"
   ]
  },
  {
   "cell_type": "code",
   "execution_count": null,
   "id": "a13b72ec670b9c5d",
   "metadata": {
    "tags": [
     "keep"
    ]
   },
   "outputs": [],
   "source": [
    "Switch s;"
   ]
  },
  {
   "cell_type": "code",
   "execution_count": null,
   "id": "3a6886554cb8964b",
   "metadata": {
    "tags": [
     "keep"
    ]
   },
   "outputs": [],
   "source": [
    "for (int i = 0; i < 3; ++i)\n",
    "{\n",
    "    s.toggle();\n",
    "}"
   ]
  },
  {
   "cell_type": "code",
   "execution_count": null,
   "id": "76e6b2bbe9f5127f",
   "metadata": {},
   "outputs": [],
   "source": [
    "class SwitchWithGetter\n",
    "{\n",
    "public:\n",
    "    void toggle()\n",
    "    {\n",
    "        state_ = state_ == State::OFF ? State::ON : State::OFF;\n",
    "        std::cout << \"Switch is \" << (state_ == State::OFF ? \"OFF\" : \"ON\") << std::endl;\n",
    "    }\n",
    "\n",
    "    State get_state() const { return state_; }\n",
    "\n",
    "private:\n",
    "    State state_{State::OFF};\n",
    "};"
   ]
  },
  {
   "cell_type": "code",
   "execution_count": null,
   "id": "c6ae181eadec67aa",
   "metadata": {},
   "outputs": [],
   "source": [
    "SwitchWithGetter sg;"
   ]
  },
  {
   "cell_type": "code",
   "execution_count": null,
   "id": "59dd5ad51eca327d",
   "metadata": {},
   "outputs": [],
   "source": [
    "for (int i = 0; i < 3; ++i)\n",
    "{\n",
    "    sg.toggle();\n",
    "}"
   ]
  },
  {
   "cell_type": "code",
   "execution_count": null,
   "id": "422e38cfd356af49",
   "metadata": {
    "lines_to_next_cell": 2
   },
   "outputs": [],
   "source": [
    "std::cout << \"Switch is \" << (sg.get_state() == State::OFF ? \"OFF\" : \"ON\") << std::endl;"
   ]
  },
  {
   "cell_type": "code",
   "execution_count": null,
   "id": "3451abb8851a7638",
   "metadata": {
    "tags": [
     "alt"
    ]
   },
   "outputs": [],
   "source": [
    "class ObservableSwitch\n",
    "{\n",
    "public:\n",
    "    void toggle()\n",
    "    {\n",
    "        state_ = state_ == State::OFF ? State::ON : State::OFF;\n",
    "        notify(state_);\n",
    "    }\n",
    "\n",
    "    void register_observer(std::function<void(State)> f) { observers_.push_back(f); }\n",
    "\n",
    "private:\n",
    "    void notify(State s)\n",
    "    {\n",
    "        for (auto& f : observers_)\n",
    "        {\n",
    "            f(s);\n",
    "        }\n",
    "    }\n",
    "\n",
    "    State state_{State::OFF};\n",
    "    std::vector<std::function<void(State)>> observers_;\n",
    "};"
   ]
  },
  {
   "cell_type": "code",
   "execution_count": null,
   "id": "2aea3f5aa4d30a3b",
   "metadata": {
    "tags": [
     "alt"
    ]
   },
   "outputs": [],
   "source": [
    "ObservableSwitch os;"
   ]
  },
  {
   "cell_type": "code",
   "execution_count": null,
   "id": "f61f72971d6eeed7",
   "metadata": {
    "tags": [
     "alt"
    ]
   },
   "outputs": [],
   "source": [
    "os.register_observer([](State s) {\n",
    "    std::cout << \"Switch is \" << (s == State::OFF ? \"OFF\" : \"ON\") << std::endl;\n",
    "});"
   ]
  },
  {
   "cell_type": "code",
   "execution_count": null,
   "id": "d733bbfbd74f8ea7",
   "metadata": {
    "tags": [
     "alt"
    ]
   },
   "outputs": [],
   "source": [
    "for (int i = 0; i < 3; ++i)\n",
    "{\n",
    "    os.toggle();\n",
    "}"
   ]
  },
  {
   "cell_type": "code",
   "execution_count": null,
   "id": "d228d0fb65cccb43",
   "metadata": {
    "tags": [
     "keep"
    ]
   },
   "outputs": [],
   "source": [
    "void print_fib(int n)\n",
    "{\n",
    "    int a{0};\n",
    "    int b{1};\n",
    "    for (int i{0}; i < n; ++i)\n",
    "    {\n",
    "        std::cout << \"fib(\" << i << \") = \" << b << std::endl;\n",
    "        int tmp{a};\n",
    "        a = b;\n",
    "        b = tmp + b;\n",
    "    }\n",
    "}"
   ]
  },
  {
   "cell_type": "code",
   "execution_count": null,
   "id": "f17f97548a053fb6",
   "metadata": {
    "tags": [
     "keep"
    ]
   },
   "outputs": [],
   "source": [
    "print_fib(5);"
   ]
  },
  {
   "cell_type": "code",
   "execution_count": null,
   "id": "3d1e81b819727a6d",
   "metadata": {},
   "outputs": [],
   "source": [
    "int fib1(int n)\n",
    "{\n",
    "    int a{0};\n",
    "    int b{1};\n",
    "    for (int i{0}; i < n; ++i)\n",
    "    {\n",
    "        int tmp{a};\n",
    "        a = b;\n",
    "        b = tmp + b;\n",
    "    }\n",
    "    return b;\n",
    "}"
   ]
  },
  {
   "cell_type": "code",
   "execution_count": null,
   "id": "c4e0577006b9feca",
   "metadata": {},
   "outputs": [],
   "source": [
    "void print_fib1(int n)\n",
    "{\n",
    "    for (int i{0}; i < n; ++i)\n",
    "    {\n",
    "        std::cout << \"fib(\" << i << \") = \" << fib1(i) << std::endl;\n",
    "    }\n",
    "}"
   ]
  },
  {
   "cell_type": "code",
   "execution_count": null,
   "id": "b768c6cfa6ade357",
   "metadata": {},
   "outputs": [],
   "source": [
    "print_fib1(5);"
   ]
  },
  {
   "cell_type": "code",
   "execution_count": null,
   "id": "d1cb606b6ea7829c",
   "metadata": {
    "tags": [
     "alt"
    ]
   },
   "outputs": [],
   "source": [
    "void fib_gen(int n, std::function<void(int, int)> f)\n",
    "{\n",
    "    int a{0};\n",
    "    int b{1};\n",
    "    for (int i{0}; i < n; ++i)\n",
    "    {\n",
    "        f(i, b);\n",
    "        int tmp{a};\n",
    "        a = b;\n",
    "        b = tmp + b;\n",
    "    }\n",
    "}"
   ]
  },
  {
   "cell_type": "code",
   "execution_count": null,
   "id": "187f8cc24522ee1b",
   "metadata": {
    "tags": [
     "alt"
    ]
   },
   "outputs": [],
   "source": [
    "void print_fib2(int n)\n",
    "{\n",
    "    fib_gen(n, [](int i, int x) {\n",
    "        std::cout << \"fib(\" << i << \") = \" << x << std::endl;\n",
    "    });\n",
    "}"
   ]
  },
  {
   "cell_type": "code",
   "execution_count": null,
   "id": "089a0caa6d303578",
   "metadata": {},
   "outputs": [],
   "source": [
    "print_fib2(5);"
   ]
  },
  {
   "cell_type": "code",
   "execution_count": null,
   "id": "6b4e03423667dbb7",
   "metadata": {},
   "outputs": [],
   "source": []
  }
 ],
 "metadata": {
  "kernelspec": {
   "display_name": "C++17",
   "language": "C++17",
   "name": "xcpp17"
  },
  "language_info": {
   "codemirror_mode": "text/x-c++src",
   "file_extension": ".cpp",
   "mimetype": "text/x-c++src",
   "name": "c++",
   "version": "17"
  }
 },
 "nbformat": 4,
 "nbformat_minor": 5
}
