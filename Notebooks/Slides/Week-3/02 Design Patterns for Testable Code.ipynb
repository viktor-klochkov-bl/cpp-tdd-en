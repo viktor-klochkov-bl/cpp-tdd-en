{
 "cells": [
  {
   "cell_type": "markdown",
   "id": "de92a8a8b170c298",
   "metadata": {
    "lang": "en",
    "lines_to_next_cell": 2,
    "slideshow": {
     "slide_type": "slide"
    },
    "tags": [
     "slide"
    ]
   },
   "source": [
    "\n",
    "<img src=\"data:image/png;base64,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\"\n",
    "     style=\"display:block;margin:auto;width:5%\"/>\n",
    "<br>\n",
    "\n",
    "<div style=\"text-align:center; font-size:200%;\">\n",
    "  <b>Design Patterns for Testable Code</b>\n",
    "</div>\n",
    "<br/>\n",
    "<div style=\"text-align:center; font-size:120%;\">Dr. Matthias Hölzl</div>\n",
    "<br/>\n",
    "<div style=\"text-align:center;\">Coding-Academy Munich</div>\n",
    "<br/>\n",
    "<!-- 02 Design Patterns for Testable Code.ipynb -->\n",
    "<!-- slides/module_410_unit_testing/topic_210_design_patterns_for_tests.cpp -->"
   ]
  },
  {
   "cell_type": "markdown",
   "id": "244561be29dd7151",
   "metadata": {
    "lang": "en",
    "slideshow": {
     "slide_type": "slide"
    },
    "tags": [
     "slide"
    ]
   },
   "source": [
    "\n",
    "## Seams\n",
    "\n",
    "- Points in the code where we can change behavior for testing without\n",
    "  modifying the code itself.\n",
    "- Important for introducing test doubles.\n",
    "- Examples:\n",
    "  - Virtual functions/interfaces\n",
    "  - Template parameters\n",
    "  - Function pointers\n",
    "  - Functions from dynamic libraries"
   ]
  },
  {
   "cell_type": "markdown",
   "id": "721581fdd588aed0",
   "metadata": {
    "lang": "en",
    "slideshow": {
     "slide_type": "slide"
    },
    "tags": [
     "slide"
    ]
   },
   "source": [
    "\n",
    "## Patterns for Testability\n",
    "\n",
    "- **Dependency Injection (DI)**\n",
    "  - Introduces seams by injecting dependencies from the outside.\n",
    "- **Dependency Inversion Principle (DIP):**\n",
    "  - Allows controlling the direction of dependencies.\n",
    "  - Introduces interfaces that improve testability.\n",
    "- **Humble Object Pattern:**\n",
    "  - Isolates complex, hard-to-test logic from the outside world."
   ]
  },
  {
   "cell_type": "markdown",
   "id": "d06c3ae0ae697792",
   "metadata": {
    "lang": "en",
    "slideshow": {
     "slide_type": "subslide"
    },
    "tags": [
     "subslide"
    ]
   },
   "source": [
    "\n",
    "### Dependency Injection\n",
    "\n",
    "- A class should not create its own dependencies.\n",
    "- Instead, they are \"injected\" from the outside (e.g., via the constructor)."
   ]
  },
  {
   "cell_type": "code",
   "execution_count": null,
   "id": "30262e3a0dd518a5",
   "metadata": {
    "slideshow": {
     "slide_type": "subslide"
    },
    "tags": [
     "keep",
     "subslide"
    ]
   },
   "outputs": [],
   "source": [
    "#include <iostream>\n",
    "#include <memory>"
   ]
  },
  {
   "cell_type": "code",
   "execution_count": null,
   "id": "91aa0eb4d5650551",
   "metadata": {
    "tags": [
     "keep"
    ]
   },
   "outputs": [],
   "source": [
    "class IDependency\n",
    "{\n",
    "public:\n",
    "    virtual ~IDependency() = default;\n",
    "    virtual void perform_work() const = 0;\n",
    "};"
   ]
  },
  {
   "cell_type": "code",
   "execution_count": null,
   "id": "38a244bb2d384f4f",
   "metadata": {
    "tags": [
     "keep"
    ]
   },
   "outputs": [],
   "source": [
    "class Dependency : public IDependency\n",
    "{\n",
    "public:\n",
    "    void perform_work() const override\n",
    "    {\n",
    "        std::cout << \"Performing work in Dependency\" << std::endl;\n",
    "    }\n",
    "};"
   ]
  },
  {
   "cell_type": "code",
   "execution_count": null,
   "id": "7b11c60ee06fdc44",
   "metadata": {
    "slideshow": {
     "slide_type": "subslide"
    },
    "tags": [
     "keep",
     "subslide"
    ]
   },
   "outputs": [],
   "source": [
    "class MyClassWithoutDI\n",
    "{\n",
    "public:\n",
    "    MyClassWithoutDI() : dependency{std::make_unique<Dependency>()} {}\n",
    "\n",
    "    void do_something() const { dependency->perform_work(); }\n",
    "\n",
    "private:\n",
    "    std::unique_ptr<IDependency> dependency;\n",
    "};"
   ]
  },
  {
   "cell_type": "code",
   "execution_count": null,
   "id": "330f546f4ffeffed",
   "metadata": {},
   "outputs": [],
   "source": [
    "MyClassWithoutDI no_di{};"
   ]
  },
  {
   "cell_type": "code",
   "execution_count": null,
   "id": "63dd0f8706ca7126",
   "metadata": {},
   "outputs": [],
   "source": [
    "no_di.do_something();"
   ]
  },
  {
   "cell_type": "code",
   "execution_count": null,
   "id": "dc1b6ed19bd839be",
   "metadata": {
    "slideshow": {
     "slide_type": "subslide"
    },
    "tags": [
     "subslide"
    ]
   },
   "outputs": [],
   "source": [
    "class MyClassWithDI\n",
    "{\n",
    "public:\n",
    "    // MyClassWithDI() : dependency{std::make_unique<Dependency>()} {}\n",
    "    MyClassWithDI(std::unique_ptr<IDependency> dep) : dependency(std::move(dep)) {}\n",
    "\n",
    "    void do_something() const { dependency->perform_work(); }\n",
    "\n",
    "private:\n",
    "    std::unique_ptr<IDependency> dependency;\n",
    "};"
   ]
  },
  {
   "cell_type": "code",
   "execution_count": null,
   "id": "36f677bcd8ef543a",
   "metadata": {},
   "outputs": [],
   "source": [
    "MyClassWithDI with_di{std::make_unique<Dependency>()};"
   ]
  },
  {
   "cell_type": "code",
   "execution_count": null,
   "id": "137bc4f9ad2b4ec3",
   "metadata": {},
   "outputs": [],
   "source": [
    "with_di.do_something();"
   ]
  },
  {
   "cell_type": "markdown",
   "id": "6f7da05c2abd80bc",
   "metadata": {
    "lang": "en",
    "slideshow": {
     "slide_type": "slide"
    },
    "tags": [
     "slide"
    ]
   },
   "source": [
    "\n",
    "# Dependency Inversion Principle\n",
    "\n",
    "- The core functionality of a system does not depend on its environment\n",
    "  - **Concrete artifacts depend on abstractions** (not vice versa)\n",
    "  - **Unstable artifacts depend on stable artifacts** (not vice versa)\n",
    "  - **Outer layers** of the architecture **depend on inner layers** (not vice\n",
    "    versa)\n",
    "  - Classes/Modules depend on abstractions (e.g., interfaces) not on other\n",
    "    classes/modules\n",
    "- Dependency inversion achieves this by introducing interfaces that “reverse\n",
    "  the dependencies”"
   ]
  },
  {
   "cell_type": "markdown",
   "id": "cf8fa17790511ca2",
   "metadata": {
    "lang": "en",
    "slideshow": {
     "slide_type": "subslide"
    },
    "tags": [
     "subslide"
    ]
   },
   "source": [
    "\n",
    "## Dependencies\n",
    "\n",
    "- We have to distinguish two kinds of dependencies:\n",
    "  - Data and control flow\n",
    "  - Source code dependencies\n",
    "- Data and control flow dependencies are inherent in the logic\n",
    "- Source code dependencies can be controlled by the architecture"
   ]
  },
  {
   "cell_type": "markdown",
   "id": "ca738fa3026135d3",
   "metadata": {
    "lang": "en",
    "slideshow": {
     "slide_type": "subslide"
    },
    "tags": [
     "subslide"
    ]
   },
   "source": [
    "\n",
    "The source code dependency goes in the same direction as the data flow:\n",
    "\n",
    "`MyModule.cpp` ⟹ `Database.h`\n",
    "\n",
    "<img src=\"img/db-example-01.svg\"\n",
    "     style=\"display:block;margin:auto;width:75%\"/>"
   ]
  },
  {
   "cell_type": "markdown",
   "id": "1f49ce2ed6b1dfb0",
   "metadata": {
    "lang": "en",
    "slideshow": {
     "slide_type": "subslide"
    },
    "tags": [
     "subslide"
    ]
   },
   "source": [
    "\n",
    "### Before\n",
    "<img src=\"img/dependency-01.svg\"\n",
    "     style=\"display:block;margin:auto;width:75%\"/>\n",
    "\n",
    "### After\n",
    "<img src=\"img/dependency-02.svg\"\n",
    "     style=\"display:block;margin:auto;width:75%\"/>"
   ]
  },
  {
   "cell_type": "markdown",
   "id": "579cdb008d39aeb0",
   "metadata": {
    "slideshow": {
     "slide_type": "subslide"
    },
    "tags": [
     "subslide"
    ]
   },
   "source": [
    "\n",
    "<img src=\"img/dip-01.svg\"\n",
    "     style=\"display:block;margin:auto;width:95%\"/>"
   ]
  },
  {
   "cell_type": "markdown",
   "id": "ab8db102d960f9ec",
   "metadata": {
    "slideshow": {
     "slide_type": "subslide"
    },
    "tags": [
     "subslide"
    ]
   },
   "source": [
    "\n",
    "<img src=\"img/dip-02.svg\"\n",
    "     style=\"display:block;margin:auto;width:95%\"/>"
   ]
  },
  {
   "cell_type": "markdown",
   "id": "02904b55f27d2b16",
   "metadata": {
    "slideshow": {
     "slide_type": "subslide"
    },
    "tags": [
     "subslide"
    ]
   },
   "source": [
    "\n",
    "<img src=\"img/dip-03.svg\"\n",
    "     style=\"display:block;margin:auto;width:95%\"/>"
   ]
  },
  {
   "cell_type": "markdown",
   "id": "0ba5cbf550a5a4db",
   "metadata": {
    "lang": "en",
    "slideshow": {
     "slide_type": "subslide"
    },
    "tags": [
     "subslide"
    ]
   },
   "source": [
    "\n",
    "## How DIP and DI work together:\n",
    "\n",
    "- DIP: abstract interface\n",
    "- DI: injection of the concrete implementation at runtime\n",
    "\n",
    "**Effect:** Ability to bring test doubles into play"
   ]
  },
  {
   "cell_type": "markdown",
   "id": "404900f28625b532",
   "metadata": {
    "lang": "en",
    "slideshow": {
     "slide_type": "subslide"
    },
    "tags": [
     "subslide"
    ]
   },
   "source": [
    "\n",
    "### Humble Object Pattern\n",
    "\n",
    "**Problem:**\n",
    "- How do you test code that is heavily intertwined with \"inconvenient\"\n",
    "  infrastructure?\n",
    "  - UI\n",
    "  - Database\n",
    "  - API\n",
    "  - ..."
   ]
  },
  {
   "cell_type": "markdown",
   "id": "e6f9c5af055e86fb",
   "metadata": {
    "lang": "en",
    "slideshow": {
     "slide_type": "subslide"
    },
    "tags": [
     "subslide"
    ]
   },
   "source": [
    "\n",
    "### Humble Object Pattern\n",
    "\n",
    "**Solution:** Split the class into two parts:\n",
    "1.  **The Humble Object:**\n",
    "    - A very thin wrapper at the boundary to the external system.\n",
    "    - Contains *no* logic (no `if` statements, loops, etc.).\n",
    "    - Its only job: shuttle data back and forth.\n",
    "    - Is so simple that it doesn't need to be tested.\n",
    "\n",
    "2.  **The Testable Logic:**\n",
    "    - All the complex code (business logic, decisions).\n",
    "    - Is extracted into a separate class that has no knowledge of the infrastructure.\n",
    "    - This class is easily and fully testable."
   ]
  },
  {
   "cell_type": "markdown",
   "id": "d1e6db9ab93e5ab2",
   "metadata": {
    "lang": "en",
    "slideshow": {
     "slide_type": "slide"
    },
    "tags": [
     "slide"
    ]
   },
   "source": [
    "\n",
    "## Refactoring to a Testable Object\n",
    "\n",
    "**Goal:** Refactor a hard-to-test class that mixes business logic and\n",
    "external dependencies using the described patterns.\n",
    "\n",
    "**Scenario:** An `OrderProcessor` that:\n",
    "\n",
    "- reads order data from a file,\n",
    "- calculates discounts and checks inventory,\n",
    "- saves orders to a database,\n",
    "- updates inventory.\n",
    "\n",
    "This is difficult to test because it depends on file system and database.\n",
    "\n",
    "A starter kit is available in the repository under\n",
    "`code/starter_kits/order_processor_sk`. A (partial) solution is available\n",
    "under `code/completed/order_processor`."
   ]
  },
  {
   "cell_type": "markdown",
   "id": "30490366cf6b74c2",
   "metadata": {
    "lang": "en",
    "slideshow": {
     "slide_type": "slide"
    },
    "tags": [
     "slide"
    ]
   },
   "source": [
    "\n",
    "## Workshop: Refactoring to a Testable Object\n",
    "\n",
    "**Goal:** Refactor a hard-to-test class that mixes business logic and external\n",
    "dependencies using the patterns we discussed.\n",
    "\n",
    "**Scenario:** A `UserRegistrationService` that:\n",
    "\n",
    "- reads user data from a file,\n",
    "- applies validation and business rules,\n",
    "- saves users to a database,\n",
    "- sends email notifications.\n",
    "\n",
    "This is difficult to test because it depends on file system, database, and email\n",
    "service."
   ]
  },
  {
   "cell_type": "markdown",
   "id": "af0359d1a59a0da7",
   "metadata": {
    "lang": "en",
    "slideshow": {
     "slide_type": "subslide"
    },
    "tags": [
     "subslide"
    ]
   },
   "source": [
    "\n",
    "Here is the class we will refactor. Notice how the business logic\n",
    "is mixed with external dependencies.\n",
    "\n",
    "A starter kit is available in the repository under\n",
    "`code/starter_kits/user_registration_sk`."
   ]
  },
  {
   "cell_type": "code",
   "execution_count": null,
   "id": "6541d09bcb3093ea",
   "metadata": {
    "tags": [
     "keep"
    ]
   },
   "outputs": [],
   "source": [
    "#include \"check.h\"\n",
    "#include <fstream>\n",
    "#include <iostream>\n",
    "#include <sstream>\n",
    "#include <stdexcept>\n",
    "#include <string>\n",
    "#include <vector>"
   ]
  },
  {
   "cell_type": "code",
   "execution_count": null,
   "id": "85b7a42287ee1ac3",
   "metadata": {
    "slideshow": {
     "slide_type": "subslide"
    },
    "tags": [
     "subslide",
     "keep"
    ]
   },
   "outputs": [],
   "source": [
    "struct User\n",
    "{\n",
    "    std::string name;\n",
    "    std::string email;\n",
    "    int age;\n",
    "    std::string role;\n",
    "};"
   ]
  },
  {
   "cell_type": "code",
   "execution_count": null,
   "id": "30f9614988b6bd37",
   "metadata": {
    "slideshow": {
     "slide_type": "subslide"
    },
    "tags": [
     "subslide",
     "keep"
    ]
   },
   "outputs": [],
   "source": [
    "// Original monolithic class - hard to test\n",
    "class UserRegistrationService\n",
    "{\n",
    "public:\n",
    "    void register_users_from_file(const std::string& file_path)\n",
    "    {\n",
    "        // 1. Read from file (infrastructure)\n",
    "        std::ifstream file(file_path);\n",
    "        if (!file)\n",
    "        {\n",
    "            throw std::runtime_error(\"Could not open file\");\n",
    "        }\n",
    "\n",
    "        std::string line;\n",
    "        while (std::getline(file, line))\n",
    "        {\n",
    "            // 2. Parse user data (could be business logic)\n",
    "            User user = parse_user_line(line);\n",
    "\n",
    "            // 3. Business logic validation\n",
    "            if (!is_valid_user(user))\n",
    "            {\n",
    "                std::cout << \"Invalid user: \" << user.name << std::endl;\n",
    "                continue;\n",
    "            }\n",
    "\n",
    "            // 4. Apply business rules\n",
    "            std::string assigned_role = assign_role(user);\n",
    "            user.role = assigned_role;\n",
    "\n",
    "            // 5. Save to database (infrastructure)\n",
    "            save_to_database(user);\n",
    "\n",
    "            // 6. Send email (infrastructure)\n",
    "            send_welcome_email(user);\n",
    "        }\n",
    "    }\n",
    "\n",
    "private:\n",
    "    User parse_user_line(const std::string& line)\n",
    "    {\n",
    "        std::stringstream ss(line);\n",
    "        std::string name, email, age_str;\n",
    "\n",
    "        std::getline(ss, name, ',');\n",
    "        std::getline(ss, email, ',');\n",
    "        std::getline(ss, age_str, ',');\n",
    "\n",
    "        return {name, email, std::stoi(age_str), \"\"};\n",
    "    }\n",
    "\n",
    "    // Business logic - should be easily testable\n",
    "    bool is_valid_user(const User& user)\n",
    "    {\n",
    "        return !user.name.empty() && user.email.find('@') != std::string::npos &&\n",
    "               user.age >= 18 && user.age <= 120;\n",
    "    }\n",
    "\n",
    "    // Business logic - should be easily testable\n",
    "    std::string assign_role(const User& user)\n",
    "    {\n",
    "        if (user.age >= 65)\n",
    "        {\n",
    "            return \"senior\";\n",
    "        }\n",
    "        if (user.age >= 18)\n",
    "        {\n",
    "            return \"adult\";\n",
    "        }\n",
    "        return \"minor\";\n",
    "    }\n",
    "\n",
    "    // Infrastructure - hard to test\n",
    "    void save_to_database(const User& user)\n",
    "    {\n",
    "        std::cout << \"Saving to DB: \" << user.name << std::endl;\n",
    "        // Simulate database save\n",
    "    }\n",
    "\n",
    "    // Infrastructure - hard to test\n",
    "    void send_welcome_email(const User& user)\n",
    "    {\n",
    "        std::cout << \"Sending email to: \" << user.email << std::endl;\n",
    "        // Simulate email sending\n",
    "    }\n",
    "};"
   ]
  },
  {
   "cell_type": "code",
   "execution_count": null,
   "id": "20e66325121773a3",
   "metadata": {
    "slideshow": {
     "slide_type": "subslide"
    },
    "tags": [
     "subslide",
     "keep"
    ]
   },
   "outputs": [],
   "source": [
    "void demonstrate_user_registration_service()\n",
    "{\n",
    "    UserRegistrationService service;\n",
    "    try\n",
    "    {\n",
    "        service.register_users_from_file(\"users.txt\");\n",
    "    }\n",
    "    catch (const std::runtime_error& e)\n",
    "    {\n",
    "        std::cerr << \"Error: \" << e.what() << std::endl;\n",
    "    }\n",
    "}"
   ]
  },
  {
   "cell_type": "code",
   "execution_count": null,
   "id": "b34e5f805c99f129",
   "metadata": {
    "tags": [
     "keep"
    ]
   },
   "outputs": [],
   "source": [
    "demonstrate_user_registration_service();"
   ]
  },
  {
   "cell_type": "markdown",
   "id": "88b1c418554ed8de",
   "metadata": {
    "lang": "en",
    "slideshow": {
     "slide_type": "subslide"
    },
    "tags": [
     "subslide"
    ]
   },
   "source": [
    "\n",
    "### Your Task: Refactor & Test\n",
    "\n",
    "1.  **Extract the Business Logic:** Create a `UserProcessor` class that encapsulates\n",
    "the pure business logic (validation, role assignment).\n",
    "2.  **Create the Humble Object:** The original `UserRegistrationService` becomes\n",
    "the Humble Object. It only handles I/O and delegates business logic.\n",
    "3.  **Abstract the Infrastructure:** Use interfaces for database and email service\n",
    "to improve testability.\n",
    "4.  **Write Tests:** Write unit tests for the `UserProcessor` class."
   ]
  },
  {
   "cell_type": "code",
   "execution_count": null,
   "id": "de0915dca07d2158",
   "metadata": {
    "slideshow": {
     "slide_type": "subslide"
    },
    "tags": [
     "subslide",
     "alt"
    ]
   },
   "outputs": [],
   "source": [
    "// Solution:\n",
    "namespace humble_object_solution\n",
    "{\n",
    "\n",
    "// Interfaces for external dependencies\n",
    "class IUserRepository\n",
    "{\n",
    "public:\n",
    "    virtual ~IUserRepository() = default;\n",
    "    virtual void save(const User& user) = 0;\n",
    "};\n",
    "\n",
    "class IEmailService\n",
    "{\n",
    "public:\n",
    "    virtual ~IEmailService() = default;\n",
    "    virtual void send_welcome_email(const User& user) = 0;\n",
    "};\n",
    "\n",
    "// 1. Pure business logic - easily testable\n",
    "class UserProcessor\n",
    "{\n",
    "public:\n",
    "    struct ProcessingResult\n",
    "    {\n",
    "        bool is_valid;\n",
    "        User processed_user;\n",
    "        std::string error_message;\n",
    "    };\n",
    "\n",
    "    ProcessingResult process_user(const User& user)\n",
    "    {\n",
    "        ProcessingResult result;\n",
    "        result.processed_user = user;\n",
    "\n",
    "        // Validation business logic\n",
    "        if (!is_valid_user(user))\n",
    "        {\n",
    "            result.is_valid = false;\n",
    "            result.error_message = \"Invalid user data\";\n",
    "            return result;\n",
    "        }\n",
    "\n",
    "        // Business rules\n",
    "        result.processed_user.role = assign_role(user);\n",
    "        result.is_valid = true;\n",
    "        return result;\n",
    "    }\n",
    "\n",
    "    // Now these methods are easily testable\n",
    "    bool is_valid_user(const User& user)\n",
    "    {\n",
    "        return !user.name.empty() && user.email.find('@') != std::string::npos &&\n",
    "               user.age >= 18 && user.age <= 120;\n",
    "    }\n",
    "\n",
    "    std::string assign_role(const User& user)\n",
    "    {\n",
    "        if (user.age >= 65)\n",
    "        {\n",
    "            return \"senior\";\n",
    "        }\n",
    "        if (user.age >= 18)\n",
    "        {\n",
    "            return \"adult\";\n",
    "        }\n",
    "        return \"minor\";\n",
    "    }\n",
    "};\n",
    "\n",
    "// 2. Humble Object - only handles infrastructure\n",
    "class UserRegistrationService\n",
    "{\n",
    "private:\n",
    "    UserProcessor processor;\n",
    "    IUserRepository* repository;\n",
    "    IEmailService* email_service;\n",
    "\n",
    "public:\n",
    "    UserRegistrationService(IUserRepository* repo, IEmailService* email)\n",
    "        : repository(repo), email_service(email)\n",
    "    {}\n",
    "\n",
    "    void register_users_from_file(const std::string& file_path)\n",
    "    {\n",
    "        // Only handles file I/O\n",
    "        std::ifstream file(file_path);\n",
    "        if (!file)\n",
    "        {\n",
    "            throw std::runtime_error(\"Could not open file\");\n",
    "        }\n",
    "\n",
    "        std::string line;\n",
    "        while (std::getline(file, line))\n",
    "        {\n",
    "            User user = parse_user_line(line);\n",
    "\n",
    "            // Delegate to business logic\n",
    "            auto result = processor.process_user(user);\n",
    "\n",
    "            if (!result.is_valid)\n",
    "            {\n",
    "                std::cout << \"Invalid user (\" << result.processed_user.name\n",
    "                          << \"): \" << result.error_message << std::endl;\n",
    "                continue;\n",
    "            }\n",
    "\n",
    "            // Handle infrastructure\n",
    "            repository->save(result.processed_user);\n",
    "            email_service->send_welcome_email(result.processed_user);\n",
    "        }\n",
    "    }\n",
    "\n",
    "private:\n",
    "    User parse_user_line(const std::string& line)\n",
    "    {\n",
    "        std::stringstream ss(line);\n",
    "        std::string name, email, age_str;\n",
    "\n",
    "        std::getline(ss, name, ',');\n",
    "        std::getline(ss, email, ',');\n",
    "        std::getline(ss, age_str, ',');\n",
    "\n",
    "        return {name, email, std::stoi(age_str), \"\"};\n",
    "    }\n",
    "};\n",
    "\n",
    "// 3. Test implementations\n",
    "class MockUserRepository : public IUserRepository\n",
    "{\n",
    "public:\n",
    "    std::vector<User> saved_users;\n",
    "\n",
    "    void save(const User& user) override { saved_users.push_back(user); }\n",
    "};\n",
    "\n",
    "class MockEmailService : public IEmailService\n",
    "{\n",
    "public:\n",
    "    std::vector<std::string> sent_emails;\n",
    "\n",
    "    void send_welcome_email(const User& user) override\n",
    "    {\n",
    "        sent_emails.push_back(user.email);\n",
    "    }\n",
    "};\n",
    "\n",
    "// 4. Unit tests for pure business logic\n",
    "void test_user_processor()\n",
    "{\n",
    "    UserProcessor processor;\n",
    "\n",
    "    // Test valid user\n",
    "    User valid_user{\"John Doe\", \"john@example.com\", 30, \"\"};\n",
    "    auto result = processor.process_user(valid_user);\n",
    "\n",
    "    check(result.is_valid, \"Valid user should be processed successfully\");\n",
    "    check(result.processed_user.role == \"adult\", \"30-year-old should get 'adult' role\");\n",
    "\n",
    "    // Test invalid user\n",
    "    User invalid_user{\"\", \"invalid-email\", 17, \"\"};\n",
    "    auto invalid_result = processor.process_user(invalid_user);\n",
    "\n",
    "    check(!invalid_result.is_valid, \"Invalid user should be rejected\");\n",
    "\n",
    "    // Test senior user\n",
    "    User senior_user{\"Jane Smith\", \"jane@example.com\", 70, \"\"};\n",
    "    auto senior_result = processor.process_user(senior_user);\n",
    "\n",
    "    check(senior_result.is_valid, \"Senior user should be valid\");\n",
    "    check(\n",
    "        senior_result.processed_user.role == \"senior\",\n",
    "        \"70-year-old should get 'senior' role\"\n",
    "    );\n",
    "\n",
    "    std::cout << \"All UserProcessor tests passed!\" << std::endl;\n",
    "}\n",
    "\n",
    "// 5. Integration test demonstrating the pattern\n",
    "void test_integration()\n",
    "{\n",
    "    MockUserRepository mock_repo;\n",
    "    MockEmailService mock_email;\n",
    "\n",
    "    UserRegistrationService service(&mock_repo, &mock_email);\n",
    "\n",
    "    // This would normally read from file, but for demo we can test the components\n",
    "    UserProcessor processor;\n",
    "    User test_user{\"Alice Johnson\", \"alice@example.com\", 25, \"\"};\n",
    "\n",
    "    auto result = processor.process_user(test_user);\n",
    "    if (result.is_valid)\n",
    "    {\n",
    "        mock_repo.save(result.processed_user);\n",
    "        mock_email.send_welcome_email(result.processed_user);\n",
    "    }\n",
    "\n",
    "    check(mock_repo.saved_users.size() == 1, \"User should be saved\");\n",
    "    check(mock_email.sent_emails.size() == 1, \"Email should be sent\");\n",
    "    check(mock_repo.saved_users[0].role == \"adult\", \"Role should be assigned\");\n",
    "\n",
    "    std::cout << \"Integration test passed!\" << std::endl;\n",
    "}\n",
    "\n",
    "// Demonstration function\n",
    "class DemoUserRepository : public IUserRepository\n",
    "{\n",
    "public:\n",
    "    void save(const User& user) override\n",
    "    {\n",
    "        std::cout << \"Saving user to database: \" << user.name << std::endl;\n",
    "        // Simulate database save\n",
    "    }\n",
    "};\n",
    "\n",
    "class DemoEmailService : public IEmailService\n",
    "{\n",
    "public:\n",
    "    void send_welcome_email(const User& user) override\n",
    "    {\n",
    "        std::cout << \"Sending welcome email to: \" << user.email << std::endl;\n",
    "        // Simulate email sending\n",
    "    }\n",
    "};\n",
    "\n",
    "void demonstrate_humble_object_solution()\n",
    "{\n",
    "    // Create services\n",
    "    DemoUserRepository user_repository;\n",
    "    DemoEmailService email_service;\n",
    "\n",
    "    // Create the humble object\n",
    "    UserRegistrationService service(&user_repository, &email_service);\n",
    "\n",
    "    // Process users from a file (simulated)\n",
    "    try\n",
    "    {\n",
    "        service.register_users_from_file(\"users.txt\");\n",
    "    }\n",
    "    catch (const std::runtime_error& e)\n",
    "    {\n",
    "        std::cerr << \"Error: \" << e.what() << std::endl;\n",
    "    }\n",
    "}\n",
    "\n",
    "} // namespace humble_object_solution"
   ]
  },
  {
   "cell_type": "code",
   "execution_count": null,
   "id": "cffd0037f31869bd",
   "metadata": {},
   "outputs": [],
   "source": [
    "humble_object_solution::test_user_processor();"
   ]
  },
  {
   "cell_type": "code",
   "execution_count": null,
   "id": "b7c512eb5865092f",
   "metadata": {},
   "outputs": [],
   "source": [
    "humble_object_solution::test_integration();"
   ]
  },
  {
   "cell_type": "code",
   "execution_count": null,
   "id": "a4b0491df276d6a9",
   "metadata": {},
   "outputs": [],
   "source": [
    "humble_object_solution::demonstrate_humble_object_solution();"
   ]
  },
  {
   "cell_type": "code",
   "execution_count": null,
   "id": "6b4e03423667dbb7",
   "metadata": {},
   "outputs": [],
   "source": []
  }
 ],
 "metadata": {
  "kernelspec": {
   "display_name": "C++17",
   "language": "C++17",
   "name": "xcpp17"
  },
  "language_info": {
   "codemirror_mode": "text/x-c++src",
   "file_extension": ".cpp",
   "mimetype": "text/x-c++src",
   "name": "c++",
   "version": "17"
  }
 },
 "nbformat": 4,
 "nbformat_minor": 5
}
